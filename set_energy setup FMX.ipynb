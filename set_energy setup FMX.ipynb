{
 "cells": [
  {
   "cell_type": "code",
   "execution_count": 1,
   "metadata": {},
   "outputs": [],
   "source": [
    "import os"
   ]
  },
  {
   "cell_type": "code",
   "execution_count": 2,
   "metadata": {},
   "outputs": [
    {
     "data": {
      "text/plain": [
       "'/opt/conda_envs/collection-2019-2.0-fmx/lib/python3.6/os.py'"
      ]
     },
     "execution_count": 2,
     "metadata": {},
     "output_type": "execute_result"
    }
   ],
   "source": [
    "os.__file__"
   ]
  },
  {
   "cell_type": "code",
   "execution_count": 3,
   "metadata": {
    "scrolled": true
   },
   "outputs": [
    {
     "name": "stdout",
     "output_type": "stream",
     "text": [
      "     Energy  Position\n",
      "0    5000.0    6972.0\n",
      "1    6000.0    7940.0\n",
      "2    6539.0    8466.0\n",
      "3    7110.0    9046.0\n",
      "4    7200.0    9138.0\n",
      "5    7500.0    9457.0\n",
      "6    7600.0    6533.0\n",
      "7    8052.0    6805.0\n",
      "8    8331.0    6969.0\n",
      "9    8979.0    7347.0\n",
      "10   9660.0    7741.0\n",
      "11  10000.0    7938.0\n",
      "12  10400.0    8169.0\n",
      "13  10500.0    6472.0\n",
      "14  10871.0    6633.0\n",
      "15  11564.0    6927.0\n",
      "16  11919.0    7075.0\n",
      "17  12284.0    7226.0\n",
      "18  12660.0    7377.0\n",
      "19  13349.0    7675.0\n",
      "20  13350.0    6430.0\n",
      "21  13500.0    7062.0\n",
      "22  14200.0    7320.0\n",
      "23  14799.0    7530.0\n",
      "24  14800.0    6430.0\n",
      "25  15000.0    6484.0\n",
      "26  16000.0    6790.0\n",
      "27  18000.0    6522.0\n",
      "28  20000.0    6980.0\n",
      "29  21000.0    6480.0\n",
      "30  22000.0    6690.0\n",
      "31  25000.0    6660.0\n",
      "32  30000.0    6720.0\n",
      "     Energy  Position\n",
      "0    5000.0    6972.0\n",
      "1    6000.0    7940.0\n",
      "2    6539.0    8466.0\n",
      "3    7110.0    9046.0\n",
      "4    7200.0    9138.0\n",
      "5    7500.0    9457.0\n",
      "6    7600.0    6533.0\n",
      "7    8052.0    6805.0\n",
      "8    8331.0    6969.0\n",
      "9    8979.0    7347.0\n",
      "10   9660.0    7741.0\n",
      "11  10000.0    7938.0\n",
      "12  10400.0    8169.0\n",
      "13  10500.0    6472.0\n",
      "14  10871.0    6633.0\n",
      "15  11564.0    6927.0\n",
      "16  11919.0    7075.0\n",
      "17  12284.0    7226.0\n",
      "18  12660.0    7377.0\n",
      "19  13349.0    7675.0\n",
      "20  13350.0    6430.0\n",
      "21  13500.0    7062.0\n",
      "22  14200.0    7320.0\n",
      "23  14799.0    7530.0\n",
      "24  14800.0    6430.0\n",
      "25  15000.0    6484.0\n",
      "26  16000.0    6790.0\n",
      "27  18000.0    6522.0\n",
      "28  20000.0    6980.0\n",
      "29  21000.0    6480.0\n",
      "30  22000.0    6690.0\n",
      "31  25000.0    6660.0\n",
      "32  30000.0    6720.0\n"
     ]
    }
   ],
   "source": [
    "import numpy as np\n",
    "# For energies > 15 keV scan range 6.5 -0.1 to +0.15 mm\n",
    "# \n",
    "# Note: Avoid 6.500 gap setting to avoid Bluesky crash.\n",
    "# If 6.500 mm chosen, the lower scan value gets set to just < 6.4 mm, with the lowest allowed IVU gap = 6.400 mm\n",
    "# For some reason this doesn't happen for smaller gaps, e.g. 13500 keV and gap = 6.472 mm?\n",
    "#\n",
    "# MF 2018-04-02 Poor man's backup\n",
    "#          [  5000,  6000,  6539,  7110,  7200,  7500,  7600,  8052,  8331,  8979,  9660, 10000, 10400, 10500, 10871, 11564, 11919, 12284, 12660, 13400, 13500, 14200, 14799, 14800, 15000, 16000, 18000, 20000, 21000, 22000, 25000],\n",
    "#          [ 6.972, 7.940, 8.466, 9.046, 9.138, 9.457, 6.533, 6.805, 6.969, 7.347, 7.741, 7.938, 8.169, 6.472, 6.633, 6.927, 7.075, 7.226, 7.377, 6.437, 7.062, 7.320, 7.530, 6.430, 6.484, 6.790, 6.522, 6.980, 6.480, 6.690, 6.660])\n",
    "#          [  5000,  6000,  6539,  7110,  7200,  7500,  7600,  8052,  8331,  8979,  9660, 10000, 10400, 10500, 10871, 11564, 11849, 11850, 13500, 14200, 14799, 14800, 15000, 16000, 18000, 20000, 21000, 22000, 25000],\n",
    "#          [ 6.972, 7.940, 8.466, 9.046, 9.138, 9.457, 6.533, 6.805, 6.969, 7.347, 7.741, 7.938, 8.169, 6.472, 6.633, 6.927, 7.100, 6.430, 7.062, 7.320, 7.530, 6.430, 6.484, 6.790, 6.522, 6.980, 6.480, 6.690, 6.660])\n",
    "# \n",
    "# \n",
    "print(read_lut('ivu_gap'))\n",
    "write_lut('ivu_gap', \n",
    "          [  5000,  6000,  6539,  7110,  7200,  7500,  7600,  8052,  8331,  8979,  9660, 10000, 10400, 10500, 10871, 11564, 11919, 12284, 12660, 13349, 13350, 13500, 14200, 14799, 14800, 15000, 16000, 18000, 20000, 21000, 22000, 25000, 30000],\n",
    " np.array([ 6.972, 7.940, 8.466, 9.046, 9.138, 9.457, 6.533, 6.805, 6.969, 7.347, 7.741, 7.938, 8.169, 6.472, 6.633, 6.927, 7.075, 7.226, 7.377, 7.675, 6.430, 7.062, 7.320, 7.530, 6.430, 6.484, 6.790, 6.522, 6.980, 6.480, 6.690, 6.660, 6.720]) * 1000)\n",
    "print(read_lut('ivu_gap'))"
   ]
  },
  {
   "cell_type": "code",
   "execution_count": 6,
   "metadata": {
    "scrolled": true
   },
   "outputs": [
    {
     "name": "stdout",
     "output_type": "stream",
     "text": [
      "    Energy  Position\n",
      "0   5000.0    -0.009\n",
      "1   8052.0    -0.009\n",
      "2   8331.0    -0.006\n",
      "3  11919.0    -0.006\n",
      "4  12284.0    -0.003\n",
      "5  13500.0    -0.002\n",
      "6  15000.0    -0.001\n",
      "    Energy  Position\n",
      "0   5000.0      -9.0\n",
      "1   8052.0      -9.0\n",
      "2   8331.0      -6.0\n",
      "3  11919.0      -6.0\n",
      "4  12284.0      -3.0\n",
      "5  13500.0      -2.0\n",
      "6  15000.0      -1.0\n"
     ]
    }
   ],
   "source": [
    "print(read_lut('ivu_gap_off'))\n",
    "write_lut('ivu_gap_off', [  5000,   8052,   8331,  11919,  12284,  13500,  15000],\n",
    "                np.array([-0.009, -0.009, -0.006, -0.006, -0.003, -0.002, -0.001]) * 1000)\n",
    "print(read_lut('ivu_gap_off'))"
   ]
  },
  {
   "cell_type": "code",
   "execution_count": 5,
   "metadata": {
    "scrolled": true
   },
   "outputs": [
    {
     "name": "stdout",
     "output_type": "stream",
     "text": [
      "     Energy  Position\n",
      "0    5000.0    16.331\n",
      "1    6000.0    15.887\n",
      "2    6539.0    15.737\n",
      "3    7110.0    15.616\n",
      "4    7200.0    15.600\n",
      "5    7500.0    15.550\n",
      "6    7600.0    15.535\n",
      "7    8052.0    15.474\n",
      "8    8331.0    15.430\n",
      "9    8979.0    15.378\n",
      "10   9660.0    15.324\n",
      "11  10000.0    15.302\n",
      "12  10400.0    15.279\n",
      "13  10500.0    15.273\n",
      "14  10871.0    15.254\n",
      "15  11564.0    15.224\n",
      "16  11919.0    15.211\n",
      "17  12284.0    15.198\n",
      "18  12660.0    15.186\n",
      "19  13400.0    15.166\n",
      "20  13474.0    15.164\n",
      "21  13500.0    15.163\n",
      "     Energy  Position\n",
      "0    5000.0    16.331\n",
      "1    6000.0    15.887\n",
      "2    6539.0    15.737\n",
      "3    7110.0    15.616\n",
      "4    7200.0    15.600\n",
      "5    7500.0    15.550\n",
      "6    7600.0    15.535\n",
      "7    8052.0    15.474\n",
      "8    8331.0    15.430\n",
      "9    8979.0    15.378\n",
      "10   9660.0    15.324\n",
      "11  10000.0    15.302\n",
      "12  10400.0    15.279\n",
      "13  10500.0    15.273\n",
      "14  10871.0    15.254\n",
      "15  11564.0    15.224\n",
      "16  11919.0    15.211\n",
      "17  12284.0    15.198\n",
      "18  12660.0    15.186\n",
      "19  13400.0    15.166\n",
      "20  13474.0    15.164\n",
      "21  13500.0    15.163\n",
      "22  15000.0    15.132\n",
      "23  18000.0    15.091\n",
      "24  20000.0    15.074\n",
      "25  22500.0    15.058\n",
      "26  25000.0    15.047\n",
      "27  27500.0    15.039\n",
      "28  30000.0    15.033\n"
     ]
    }
   ],
   "source": [
    "# HDCM T2 gap from FDR documentation\n",
    "# Horizontal offset d = 30 mm\n",
    "# T2 gap  = d / cos (Bragg angle)\n",
    "print(read_lut('hdcm_g'))\n",
    "write_lut('hdcm_g', \n",
    "          [   5000,   6000,   6539,   7110,   7200,   7500,   7600,   8052,   8331,   8979,   9660,  10000,  10400,  10500,  10871,  11564,  11919,  12284,  12660,  13400,  13474,  13500,  15000,  18000,  20000,  22500,  25000,  27500,  30000],\n",
    "          [ 16.331, 15.887, 15.737, 15.616, 15.600, 15.550, 15.535, 15.474, 15.430, 15.378, 15.324, 15.302, 15.279, 15.273, 15.254, 15.224, 15.211, 15.198, 15.186, 15.166, 15.164, 15.163, 15.132, 15.091, 15.074, 15.058, 15.047, 15.039, 15.033])\n",
    "print(read_lut('hdcm_g'))"
   ]
  },
  {
   "cell_type": "code",
   "execution_count": 10,
   "metadata": {},
   "outputs": [
    {
     "name": "stdout",
     "output_type": "stream",
     "text": [
      "    Energy  Position\n",
      "0   5000.0      2.75\n",
      "1   6539.0      2.77\n",
      "2   8331.0      2.79\n",
      "3  11564.0      2.84\n",
      "4  12660.0      2.87\n",
      "5  13500.0      2.88\n",
      "6  30000.0      2.95\n",
      "    Energy  Position\n",
      "0   5000.0      2.82\n",
      "1   6539.0      2.84\n",
      "2   8331.0      2.84\n",
      "3  11564.0      2.85\n",
      "4  12660.0      2.87\n",
      "5  13500.0      2.88\n",
      "6  30000.0      2.95\n"
     ]
    }
   ],
   "source": [
    "print(read_lut('hdcm_r'))\n",
    "write_lut('hdcm_r', [5000, 6539, 8331, 11564, 12660, 13500, 30000], \n",
    "                    [2.82, 2.84, 2.84,  2.85,  2.87,  2.88,  2.95])\n",
    "print(read_lut('hdcm_r'))"
   ]
  },
  {
   "cell_type": "code",
   "execution_count": 1,
   "metadata": {},
   "outputs": [
    {
     "name": "stdout",
     "output_type": "stream",
     "text": [
      "    Energy  Position\n",
      "0   5000.0     0.350\n",
      "1   6550.0     0.350\n",
      "2  12700.0     0.320\n",
      "3  13500.0     0.320\n",
      "4  15000.0     0.330\n",
      "5  20000.0     0.380\n",
      "6  25000.0     0.405\n",
      "7  30000.0     0.405\n",
      "    Energy  Position\n",
      "0   5000.0     0.340\n",
      "1   6550.0     0.340\n",
      "2  12700.0     0.320\n",
      "3  13500.0     0.320\n",
      "4  15000.0     0.330\n",
      "5  20000.0     0.380\n",
      "6  25000.0     0.405\n",
      "7  30000.0     0.405\n"
     ]
    }
   ],
   "source": [
    "print(read_lut('hdcm_p'))\n",
    "write_lut('hdcm_p', [5000, 6550, 12700, 13500, 15000, 20000, 25000, 30000],\n",
    "                    [0.34, 0.34, 0.32,  0.32,  0.33,  0.38,  0.405, 0.405])\n",
    "print(read_lut('hdcm_p'))"
   ]
  },
  {
   "cell_type": "code",
   "execution_count": 6,
   "metadata": {},
   "outputs": [
    {
     "name": "stdout",
     "output_type": "stream",
     "text": [
      "      Energy  Position\n",
      "0   5000.000       0.0\n",
      "1  10400.000       0.0\n",
      "2  10400.001      -8.0\n",
      "3  13500.000      -8.0\n",
      "    Energy  Position\n",
      "0   5000.0       0.0\n",
      "1   9999.0       0.0\n",
      "2  10000.0      -8.0\n",
      "3  13500.0      -8.0\n"
     ]
    }
   ],
   "source": [
    "print(read_lut('hfm_y'))\n",
    "write_lut('hfm_y', [5000, 9999, 10000, 13500], \n",
    "                   [   0,    0,    -8,    -8])\n",
    "print(read_lut('hfm_y'))"
   ]
  },
  {
   "cell_type": "code",
   "execution_count": 7,
   "metadata": {},
   "outputs": [
    {
     "name": "stdout",
     "output_type": "stream",
     "text": [
      "    Energy  Position\n",
      "0   5000.0       1.3\n",
      "1  13500.0       1.3\n",
      "    Energy  Position\n",
      "0   5000.0       1.3\n",
      "1  13500.0       1.3\n"
     ]
    }
   ],
   "source": [
    "print(read_lut('hfm_x'))\n",
    "write_lut('hfm_x', [5000, 13500],\n",
    "                   [ 1.3,   1.3])\n",
    "print(read_lut('hfm_x'))"
   ]
  },
  {
   "cell_type": "code",
   "execution_count": 5,
   "metadata": {},
   "outputs": [
    {
     "name": "stdout",
     "output_type": "stream",
     "text": [
      "    Energy  Position\n",
      "0   5000.0    -2.560\n",
      "1   9999.0    -2.560\n",
      "2  10000.0    -2.527\n",
      "3  13500.0    -2.527\n",
      "    Energy  Position\n",
      "0   5000.0    -2.554\n",
      "1   9999.0    -2.554\n",
      "2  10000.0    -2.521\n",
      "3  13500.0    -2.521\n"
     ]
    }
   ],
   "source": [
    "print(read_lut('hfm_pitch'))\n",
    "write_lut('hfm_pitch', [  5000,   9999,  10000,  13500],\n",
    "                       [-2.554, -2.554, -2.521, -2.521])\n",
    "print(read_lut('hfm_pitch'))"
   ]
  },
  {
   "cell_type": "code",
   "execution_count": 14,
   "metadata": {},
   "outputs": [
    {
     "name": "stdout",
     "output_type": "stream",
     "text": [
      "4500.0\n",
      "4500.0\n"
     ]
    }
   ],
   "source": [
    "# Obsolete: Changed to energy dependent LUT waveform\n",
    "#print(read_lgp('kbm_vx'))\n",
    "#write_lgp('kbm_vx', 4500)\n",
    "#print(read_lgp('kbm_vx'))"
   ]
  },
  {
   "cell_type": "code",
   "execution_count": 3,
   "metadata": {},
   "outputs": [
    {
     "name": "stdout",
     "output_type": "stream",
     "text": [
      "Empty DataFrame\n",
      "Columns: [Energy, Position]\n",
      "Index: []\n",
      "    Energy  Position\n",
      "0   5000.0    4500.0\n",
      "1  30000.0    4500.0\n"
     ]
    }
   ],
   "source": [
    "print(read_lut('kbm_vx'))\n",
    "write_lut('kbm_vx', [  5000,  30000],\n",
    "                       [4500.0, 4500.0])\n",
    "print(read_lut('kbm_vx'))"
   ]
  },
  {
   "cell_type": "code",
   "execution_count": 15,
   "metadata": {},
   "outputs": [
    {
     "name": "stdout",
     "output_type": "stream",
     "text": [
      "-500.0\n",
      "-488.0\n"
     ]
    }
   ],
   "source": [
    "print(read_lgp('kbm_vy'))\n",
    "write_lgp('kbm_vy', -488)\n",
    "print(read_lgp('kbm_vy'))"
   ]
  },
  {
   "cell_type": "code",
   "execution_count": 2,
   "metadata": {},
   "outputs": [
    {
     "name": "stdout",
     "output_type": "stream",
     "text": [
      "-2538.0\n",
      "-2534.0\n"
     ]
    }
   ],
   "source": [
    "print(read_lgp('kbm_vp'))\n",
    "write_lgp('kbm_vp', -2534)\n",
    "print(read_lgp('kbm_vp'))"
   ]
  },
  {
   "cell_type": "code",
   "execution_count": 2,
   "metadata": {},
   "outputs": [
    {
     "name": "stdout",
     "output_type": "stream",
     "text": [
      "506.0\n",
      "556.0\n"
     ]
    }
   ],
   "source": [
    "print(read_lgp('kbm_hx'))\n",
    "write_lgp('kbm_hx', 556)\n",
    "print(read_lgp('kbm_hx'))"
   ]
  },
  {
   "cell_type": "code",
   "execution_count": 18,
   "metadata": {},
   "outputs": [
    {
     "name": "stdout",
     "output_type": "stream",
     "text": [
      "7000.0\n",
      "7000.0\n"
     ]
    }
   ],
   "source": [
    "# Obsolete: Changed to energy dependent LUT waveform\n",
    "#print(read_lgp('kbm_hy'))\n",
    "#write_lgp('kbm_hy', 7000)\n",
    "#print(read_lgp('kbm_hy'))"
   ]
  },
  {
   "cell_type": "code",
   "execution_count": 1,
   "metadata": {},
   "outputs": [
    {
     "name": "stdout",
     "output_type": "stream",
     "text": [
      "    Energy  Position\n",
      "0   5000.0       0.0\n",
      "1   6999.0       0.0\n",
      "2   7000.0    7000.0\n",
      "3  30000.0    7000.0\n",
      "    Energy  Position\n",
      "0   5000.0       0.0\n",
      "1   6999.0       0.0\n",
      "2   7000.0    7000.0\n",
      "3  30000.0    7000.0\n"
     ]
    }
   ],
   "source": [
    "print(read_lut('kbm_hy'))\n",
    "write_lut('kbm_hy', [  5000,   6999,  7000,  30000],\n",
    "                       [0.0, 0.0, 7000.0, 7000.0])\n",
    "print(read_lut('kbm_hy'))"
   ]
  },
  {
   "cell_type": "code",
   "execution_count": 1,
   "metadata": {},
   "outputs": [
    {
     "name": "stdout",
     "output_type": "stream",
     "text": [
      "-2390.0\n",
      "-2384.0\n"
     ]
    }
   ],
   "source": [
    "print(read_lgp('kbm_hp'))\n",
    "write_lgp('kbm_hp', -2384)\n",
    "print(read_lgp('kbm_hp'))"
   ]
  },
  {
   "cell_type": "code",
   "execution_count": null,
   "metadata": {
    "collapsed": true
   },
   "outputs": [],
   "source": []
  }
 ],
 "metadata": {
  "kernelspec": {
   "display_name": "Data Collection (2019-2.0)",
   "language": "",
   "name": "collection-2019-2.0"
  },
  "language_info": {
   "codemirror_mode": {
    "name": "ipython",
    "version": 3
   },
   "file_extension": ".py",
   "mimetype": "text/x-python",
   "name": "python",
   "nbconvert_exporter": "python",
   "pygments_lexer": "ipython3",
   "version": "3.6.6"
  }
 },
 "nbformat": 4,
 "nbformat_minor": 2
}
