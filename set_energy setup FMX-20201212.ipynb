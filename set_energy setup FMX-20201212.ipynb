{
 "cells": [
  {
   "cell_type": "code",
   "execution_count": 2,
   "metadata": {},
   "outputs": [],
   "source": [
    "import os\n",
    "import numpy as np"
   ]
  },
  {
   "cell_type": "code",
   "execution_count": 3,
   "metadata": {},
   "outputs": [
    {
     "data": {
      "text/plain": [
       "'/opt/conda_envs/collection-2020-2.0rc8/lib/python3.7/os.py'"
      ]
     },
     "execution_count": 3,
     "metadata": {},
     "output_type": "execute_result"
    }
   ],
   "source": [
    "os.__file__"
   ]
  },
  {
   "cell_type": "code",
   "execution_count": 4,
   "metadata": {
    "scrolled": true
   },
   "outputs": [
    {
     "data": {
      "text/plain": [
       "{'__name__': '__main__',\n",
       " '__doc__': 'Automatically created module for IPython interactive environment',\n",
       " '__package__': None,\n",
       " '__loader__': None,\n",
       " '__spec__': None,\n",
       " '__builtin__': <module 'builtins' (built-in)>,\n",
       " '__builtins__': <module 'builtins' (built-in)>,\n",
       " '_ih': ['',\n",
       "  \"print(read_lgp('kbm_vp'))\\nwrite_lgp('kbm_vp', -2538)\\nprint(read_lgp('kbm_vp'))\",\n",
       "  'import os',\n",
       "  'os.__file__',\n",
       "  'ip = get_ipython()\\nip.user_ns'],\n",
       " '_oh': {3: '/opt/conda_envs/collection-2020-2.0rc8/lib/python3.7/os.py'},\n",
       " '_dh': ['/GPFS/CENTRAL/xf17id1/bmartins', '/GPFS/CENTRAL/xf17id1/bmartins'],\n",
       " 'In': ['',\n",
       "  \"print(read_lgp('kbm_vp'))\\nwrite_lgp('kbm_vp', -2538)\\nprint(read_lgp('kbm_vp'))\",\n",
       "  'import os',\n",
       "  'os.__file__',\n",
       "  'ip = get_ipython()\\nip.user_ns'],\n",
       " 'Out': {3: '/opt/conda_envs/collection-2020-2.0rc8/lib/python3.7/os.py'},\n",
       " 'get_ipython': <function IPython.core.getipython.get_ipython()>,\n",
       " 'exit': <IPython.core.autocall.ZMQExitAutocall at 0x7f39c42f3ed0>,\n",
       " 'quit': <IPython.core.autocall.ZMQExitAutocall at 0x7f39c42f3ed0>,\n",
       " '_': '/opt/conda_envs/collection-2020-2.0rc8/lib/python3.7/os.py',\n",
       " '__': '',\n",
       " '___': '',\n",
       " 'olog': <function pyOlog.cli.ipy.olog(msg=None, edit=False, logbooks=None, tags=None, attachments=None, **kwargs)>,\n",
       " 'olog_savefig': <function pyOlog.cli.ipy.olog_savefig(**kwargs)>,\n",
       " 'olog_grab': <function pyOlog.cli.ipy.olog_grab(root=False, **kwargs)>,\n",
       " 'olog_client': <pyOlog.SimpleOlogClient.SimpleOlogClient at 0x7f39a09bd590>,\n",
       " 'sys': <module 'sys' (built-in)>,\n",
       " 'logging': <module 'logging' from '/opt/conda_envs/collection-2020-2.0rc8/lib/python3.7/logging/__init__.py'>,\n",
       " 'bluesky': <module 'bluesky' from '/opt/conda_envs/collection-2020-2.0rc8/lib/python3.7/site-packages/bluesky/__init__.py'>,\n",
       " 'matplotlib': <module 'matplotlib' from '/opt/conda_envs/collection-2020-2.0rc8/lib/python3.7/site-packages/matplotlib/__init__.py'>,\n",
       " 'plt': <module 'matplotlib.pyplot' from '/opt/conda_envs/collection-2020-2.0rc8/lib/python3.7/site-packages/matplotlib/pyplot.py'>,\n",
       " 'install_nb_kicker': <function bluesky.utils.install_nb_kicker(loop=None, update_rate=0.03)>,\n",
       " 'nslsii': <module 'nslsii' from '/opt/conda_envs/collection-2020-2.0rc8/lib/python3.7/site-packages/nslsii/__init__.py'>,\n",
       " 'BEAMLINE_ID': 'fmx',\n",
       " '__nslsii_configure_base_has_been_run': True,\n",
       " 'RE': <bluesky.run_engine.RunEngine at 0x7f39a052bc90>,\n",
       " 'sd': SupplementalData(baseline=[], monitors=[], flyers=[]),\n",
       " 'db': <databroker.v1.Broker at 0x7f396a8a0590>,\n",
       " 'bec': <bluesky.callbacks.best_effort.BestEffortCallback at 0x7f396a8a02d0>,\n",
       " 'peaks': {\n",
       " 'com':\n",
       "     {}\n",
       " ,\n",
       " 'cen':\n",
       "     {}\n",
       " ,\n",
       " 'max':\n",
       "     {}\n",
       " ,\n",
       " 'min':\n",
       "     {}\n",
       " ,\n",
       " 'fwhm':\n",
       "     {}\n",
       " ,\n",
       " },\n",
       " 'np': <module 'numpy' from '/opt/conda_envs/collection-2020-2.0rc8/lib/python3.7/site-packages/numpy/__init__.py'>,\n",
       " 'bc': <module 'bluesky.callbacks' from '/opt/conda_envs/collection-2020-2.0rc8/lib/python3.7/site-packages/bluesky/callbacks/__init__.py'>,\n",
       " 'CallbackBase': bluesky.callbacks.core.CallbackBase,\n",
       " 'CallbackCounter': bluesky.callbacks.core.CallbackCounter,\n",
       " 'CollectThenCompute': bluesky.callbacks.core.CollectThenCompute,\n",
       " 'LiveFit': bluesky.callbacks.fitting.LiveFit,\n",
       " 'LiveFitPlot': bluesky.callbacks.mpl_plotting.LiveFitPlot,\n",
       " 'LiveGrid': bluesky.callbacks.mpl_plotting.LiveGrid,\n",
       " 'LiveMesh': bluesky.callbacks.mpl_plotting.LiveMesh,\n",
       " 'LivePlot': bluesky.callbacks.mpl_plotting.LivePlot,\n",
       " 'LiveRaster': bluesky.callbacks.mpl_plotting.LiveRaster,\n",
       " 'LiveScatter': bluesky.callbacks.mpl_plotting.LiveScatter,\n",
       " 'LiveTable': bluesky.callbacks.core.LiveTable,\n",
       " 'best_effort': <module 'bluesky.callbacks.best_effort' from '/opt/conda_envs/collection-2020-2.0rc8/lib/python3.7/site-packages/bluesky/callbacks/best_effort.py'>,\n",
       " 'collector': <function bluesky.callbacks.core.collector(field, output)>,\n",
       " 'core': <module 'bluesky.callbacks.core' from '/opt/conda_envs/collection-2020-2.0rc8/lib/python3.7/site-packages/bluesky/callbacks/core.py'>,\n",
       " 'fitting': <module 'bluesky.callbacks.fitting' from '/opt/conda_envs/collection-2020-2.0rc8/lib/python3.7/site-packages/bluesky/callbacks/fitting.py'>,\n",
       " 'get_obj_fields': <function bluesky.callbacks.core.get_obj_fields(fields)>,\n",
       " 'mpl_plotting': <module 'bluesky.callbacks.mpl_plotting' from '/opt/conda_envs/collection-2020-2.0rc8/lib/python3.7/site-packages/bluesky/callbacks/mpl_plotting.py'>,\n",
       " 'print_metadata': <function bluesky.callbacks.core.print_metadata(name, doc)>,\n",
       " 'bp': <module 'bluesky.plans' from '/opt/conda_envs/collection-2020-2.0rc8/lib/python3.7/site-packages/bluesky/plans.py'>,\n",
       " 'Msg': bluesky.utils.Msg,\n",
       " 'adaptive_scan': <function bluesky.plans.adaptive_scan(detectors, target_field, motor, start, stop, min_step, max_step, target_delta, backstep, threshold=0.8, *, md=None)>,\n",
       " 'bpp': <module 'bluesky.preprocessors' from '/opt/conda_envs/collection-2020-2.0rc8/lib/python3.7/site-packages/bluesky/preprocessors.py'>,\n",
       " 'bps': <module 'bluesky.plan_stubs' from '/opt/conda_envs/collection-2020-2.0rc8/lib/python3.7/site-packages/bluesky/plan_stubs.py'>,\n",
       " 'chain': itertools.chain,\n",
       " 'collections': <module 'collections' from '/opt/conda_envs/collection-2020-2.0rc8/lib/python3.7/collections/__init__.py'>,\n",
       " 'count': <function bluesky.plans.count(detectors, num=1, delay=None, *, per_shot=None, md=None)>,\n",
       " 'defaultdict': collections.defaultdict,\n",
       " 'fly': <function bluesky.plans.fly(flyers, *, md=None)>,\n",
       " 'grid_scan': <function bluesky.plans.grid_scan(detectors, *args, snake_axes=None, per_step=None, md=None)>,\n",
       " 'inner_product_scan': <function bluesky.plans.inner_product_scan(detectors, num, *args, per_step=None, md=None)>,\n",
       " 'inspect': <module 'inspect' from '/opt/conda_envs/collection-2020-2.0rc8/lib/python3.7/inspect.py'>,\n",
       " 'list_grid_scan': <function bluesky.plans.list_grid_scan(detectors, *args, snake_axes=False, per_step=None, md=None)>,\n",
       " 'list_scan': <function bluesky.plans.list_scan(detectors, *args, per_step=None, md=None)>,\n",
       " 'log_scan': <function bluesky.plans.log_scan(detectors, motor, start, stop, num, *, per_step=None, md=None)>,\n",
       " 'outer_product_scan': <function bluesky.plans.grid_scan(detectors, *args, snake_axes=None, per_step=None, md=None)>,\n",
       " 'partial': functools.partial,\n",
       " 'partition': <function toolz.itertoolz.partition(n, seq, pad='__no__pad__')>,\n",
       " 'plan_patterns': <module 'bluesky.plan_patterns' from '/opt/conda_envs/collection-2020-2.0rc8/lib/python3.7/site-packages/bluesky/plan_patterns.py'>,\n",
       " 'ramp_plan': <function bluesky.plans.ramp_plan(go_plan, monitor_sig, inner_plan_func, take_pre_data=True, timeout=None, period=None, md=None)>,\n",
       " 'rel_adaptive_scan': <function bluesky.plans.rel_adaptive_scan(detectors, target_field, motor, start, stop, min_step, max_step, target_delta, backstep, threshold=0.8, *, md=None)>,\n",
       " 'rel_grid_scan': <function bluesky.plans.rel_grid_scan(detectors, *args, snake_axes=None, per_step=None, md=None)>,\n",
       " 'rel_list_grid_scan': <function bluesky.plans.rel_list_grid_scan(detectors, *args, snake_axes=False, per_step=None, md=None)>,\n",
       " 'rel_list_scan': <function bluesky.plans.rel_list_scan(detectors, *args, per_step=None, md=None)>,\n",
       " 'rel_log_scan': <function bluesky.plans.rel_log_scan(detectors, motor, start, stop, num, *, per_step=None, md=None)>,\n",
       " 'rel_scan': <function bluesky.plans.rel_scan(detectors, *args, num=None, per_step=None, md=None)>,\n",
       " 'rel_spiral': <function bluesky.plans.rel_spiral(detectors, x_motor, y_motor, x_range, y_range, dr, nth, *, dr_y=None, tilt=0.0, per_step=None, md=None)>,\n",
       " 'rel_spiral_fermat': <function bluesky.plans.rel_spiral_fermat(detectors, x_motor, y_motor, x_range, y_range, dr, factor, *, dr_y=None, tilt=0.0, per_step=None, md=None)>,\n",
       " 'rel_spiral_square': <function bluesky.plans.rel_spiral_square(detectors, x_motor, y_motor, x_range, y_range, x_num, y_num, *, per_step=None, md=None)>,\n",
       " 'relative_adaptive_scan': <function bluesky.plans.rel_adaptive_scan(detectors, target_field, motor, start, stop, min_step, max_step, target_delta, backstep, threshold=0.8, *, md=None)>,\n",
       " 'relative_inner_product_scan': <function bluesky.plans.relative_inner_product_scan(detectors, num, *args, per_step=None, md=None)>,\n",
       " 'relative_list_scan': <function bluesky.plans.rel_list_scan(detectors, *args, per_step=None, md=None)>,\n",
       " 'relative_log_scan': <function bluesky.plans.rel_log_scan(detectors, motor, start, stop, num, *, per_step=None, md=None)>,\n",
       " 'relative_outer_product_scan': <function bluesky.plans.rel_grid_scan(detectors, *args, snake_axes=None, per_step=None, md=None)>,\n",
       " 'relative_scan': <function bluesky.plans.rel_scan(detectors, *args, num=None, per_step=None, md=None)>,\n",
       " 'relative_spiral': <function bluesky.plans.rel_spiral(detectors, x_motor, y_motor, x_range, y_range, dr, nth, *, dr_y=None, tilt=0.0, per_step=None, md=None)>,\n",
       " 'relative_spiral_fermat': <function bluesky.plans.rel_spiral_fermat(detectors, x_motor, y_motor, x_range, y_range, dr, factor, *, dr_y=None, tilt=0.0, per_step=None, md=None)>,\n",
       " 'scan': <function bluesky.plans.scan(detectors, *args, num=None, per_step=None, md=None)>,\n",
       " 'scan_nd': <function bluesky.plans.scan_nd(detectors, cycler, *, per_step=None, md=None)>,\n",
       " 'spiral': <function bluesky.plans.spiral(detectors, x_motor, y_motor, x_start, y_start, x_range, y_range, dr, nth, *, dr_y=None, tilt=0.0, per_step=None, md=None)>,\n",
       " 'spiral_fermat': <function bluesky.plans.spiral_fermat(detectors, x_motor, y_motor, x_start, y_start, x_range, y_range, dr, factor, *, dr_y=None, tilt=0.0, per_step=None, md=None)>,\n",
       " 'spiral_square': <function bluesky.plans.spiral_square(detectors, x_motor, y_motor, x_center, y_center, x_range, y_range, x_num, y_num, *, per_step=None, md=None)>,\n",
       " 'time': <module 'time' (built-in)>,\n",
       " 'tune_centroid': <function bluesky.plans.tune_centroid(detectors, signal, motor, start, stop, min_step, num=10, step_factor=3.0, snake=False, *, md=None)>,\n",
       " 'tweak': <function bluesky.plans.tweak(detector, target_field, motor, step, *, md=None)>,\n",
       " 'utils': <module 'bluesky.utils' from '/opt/conda_envs/collection-2020-2.0rc8/lib/python3.7/site-packages/bluesky/utils.py'>,\n",
       " 'x2x_scan': <function bluesky.plans.x2x_scan(detectors, motor1, motor2, start, stop, num, *, per_step=None, md=None)>,\n",
       " 'zip_longest': itertools.zip_longest,\n",
       " 'Iterable': collections.abc.Iterable,\n",
       " 'abs_set': <function bluesky.plan_stubs.abs_set(obj, *args, group=None, wait=False, **kwargs)>,\n",
       " 'all_safe_rewind': <function bluesky.utils.all_safe_rewind(devices)>,\n",
       " 'broadcast_msg': <function bluesky.plan_stubs.broadcast_msg(command, objs, *args, **kwargs)>,\n",
       " 'caching_repeater': <function bluesky.plan_stubs.caching_repeater(n, plan)>,\n",
       " 'checkpoint': <function bluesky.plan_stubs.checkpoint()>,\n",
       " 'clear_checkpoint': <function bluesky.plan_stubs.clear_checkpoint()>,\n",
       " 'close_run': <function bluesky.plan_stubs.close_run(exit_status=None, reason=None)>,\n",
       " 'collect': <function bluesky.plan_stubs.collect(obj, *, stream=False, return_payload=True)>,\n",
       " 'complete': <function bluesky.plan_stubs.complete(obj, *, group=None, wait=False, **kwargs)>,\n",
       " 'configure': <function bluesky.plan_stubs.configure(obj, *args, **kwargs)>,\n",
       " 'create': <function bluesky.plan_stubs.create(name='primary')>,\n",
       " 'cycler': <function cycler.cycler(*args, **kwargs)>,\n",
       " 'deferred_pause': <function bluesky.plan_stubs.deferred_pause()>,\n",
       " 'drop': <function bluesky.plan_stubs.drop()>,\n",
       " 'ensure_generator': <function bluesky.utils.ensure_generator(plan)>,\n",
       " 'input_plan': <function bluesky.plan_stubs.input_plan(prompt='')>,\n",
       " 'install_suspender': <function bluesky.plan_stubs.install_suspender(suspender)>,\n",
       " 'itertools': <module 'itertools' (built-in)>,\n",
       " 'kickoff': <function bluesky.plan_stubs.kickoff(obj, *, group=None, wait=False, **kwargs)>,\n",
       " 'monitor': <function bluesky.plan_stubs.monitor(obj, *, name=None, **kwargs)>,\n",
       " 'mov': <function bluesky.plan_stubs.mv(*args, group=None, **kwargs)>,\n",
       " 'move_per_step': <function bluesky.plan_stubs.move_per_step(step, pos_cache)>,\n",
       " 'movr': <function bluesky.plan_stubs.mvr(*args, group=None, **kwargs)>,\n",
       " 'mv': <function bluesky.plan_stubs.mv(*args, group=None, **kwargs)>,\n",
       " 'mvr': <function bluesky.plan_stubs.mvr(*args, group=None, **kwargs)>,\n",
       " 'null': <function bluesky.plan_stubs.null()>,\n",
       " 'one_1d_step': <function bluesky.plan_stubs.one_1d_step(detectors, motor, step, take_reading=<function trigger_and_read at 0x7f39a034a170>)>,\n",
       " 'one_nd_step': <function bluesky.plan_stubs.one_nd_step(detectors, step, pos_cache, take_reading=<function trigger_and_read at 0x7f39a034a170>)>,\n",
       " 'one_shot': <function bluesky.plan_stubs.one_shot(detectors, take_reading=<function trigger_and_read at 0x7f39a034a170>)>,\n",
       " 'open_run': <function bluesky.plan_stubs.open_run(md=None)>,\n",
       " 'operator': <module 'operator' from '/opt/conda_envs/collection-2020-2.0rc8/lib/python3.7/operator.py'>,\n",
       " 'pause': <function bluesky.plan_stubs.pause()>,\n",
       " 'rd': <function bluesky.plan_stubs.rd(obj, *, default_value=0)>,\n",
       " 'read': <function bluesky.plan_stubs.read(obj)>,\n",
       " 'reduce': <function _functools.reduce>,\n",
       " 'rel_set': <function bluesky.plan_stubs.rel_set(obj, *args, group=None, wait=False, **kwargs)>,\n",
       " 'remove_suspender': <function bluesky.plan_stubs.remove_suspender(suspender)>,\n",
       " 'repeat': <function bluesky.plan_stubs.repeat(plan, num=1, delay=None)>,\n",
       " 'repeater': <function bluesky.plan_stubs.repeater(n, gen_func, *args, **kwargs)>,\n",
       " 'save': <function bluesky.plan_stubs.save()>,\n",
       " 'separate_devices': <function bluesky.utils.separate_devices(devices)>,\n",
       " 'sleep': <function bluesky.plan_stubs.sleep(time)>,\n",
       " 'stage': <function bluesky.plan_stubs.stage(obj)>,\n",
       " 'stop': <function bluesky.plan_stubs.stop(obj)>,\n",
       " 'subscribe': <function bluesky.plan_stubs.subscribe(name, func)>,\n",
       " 'trigger': <function bluesky.plan_stubs.trigger(obj, *, group=None, wait=False)>,\n",
       " 'trigger_and_read': <function bluesky.plan_stubs.trigger_and_read(devices, name='primary')>,\n",
       " 'unmonitor': <function bluesky.plan_stubs.unmonitor(obj)>,\n",
       " 'unstage': <function bluesky.plan_stubs.unstage(obj)>,\n",
       " 'unsubscribe': <function bluesky.plan_stubs.unsubscribe(token)>,\n",
       " 'uuid': <module 'uuid' from '/opt/conda_envs/collection-2020-2.0rc8/lib/python3.7/uuid.py'>,\n",
       " 'wait': <function bluesky.plan_stubs.wait(group=None)>,\n",
       " 'wait_for': <function bluesky.plan_stubs.wait_for(futures, **kwargs)>,\n",
       " 'warnings': <module 'warnings' from '/opt/conda_envs/collection-2020-2.0rc8/lib/python3.7/warnings.py'>,\n",
       " 'BrokerCallbackBase': bluesky.callbacks.broker.BrokerCallbackBase,\n",
       " 'LiveImage': bluesky.callbacks.broker.LiveImage,\n",
       " 'LiveTiffExporter': bluesky.callbacks.broker.LiveTiffExporter,\n",
       " 'ensure_uid': <function bluesky.utils.ensure_uid(doc_or_uid)>,\n",
       " 'make_restreamer': <function bluesky.callbacks.broker.make_restreamer(callback, db)>,\n",
       " 'os': <module 'os' from '/opt/conda_envs/collection-2020-2.0rc8/lib/python3.7/os.py'>,\n",
       " 'post_run': <function bluesky.callbacks.broker.post_run(callback, db, fill=False)>,\n",
       " 'ttime': <module 'time' (built-in)>,\n",
       " 'verify_files_saved': <function bluesky.callbacks.broker.verify_files_saved(name, doc, db)>,\n",
       " 'LimitsExceeded': bluesky.simulators.LimitsExceeded,\n",
       " 'check_limits': <function bluesky.simulators.check_limits(plan)>,\n",
       " 'plot_raster_path': <function bluesky.simulators.plot_raster_path(plan, x_motor, y_motor, ax=None, probe_size=None, lw=2)>,\n",
       " 'print_summary': <function bluesky.simulators.summarize_plan(plan)>,\n",
       " 'print_summary_wrapper': <function bluesky.preprocessors.print_summary_wrapper(plan)>,\n",
       " 'summarize_plan': <function bluesky.simulators.summarize_plan(plan)>,\n",
       " 'warn': <function _warnings.warn(message, category=None, stacklevel=1, source=None)>,\n",
       " 'Path': pathlib.Path,\n",
       " 'appdirs': <module 'appdirs' from '/opt/conda_envs/collection-2020-2.0rc8/lib/python3.7/site-packages/appdirs.py'>,\n",
       " 'PersistentDict': bluesky.utils.PersistentDict,\n",
       " 'runengine_metadata_dir': PosixPath('/GPFS/CENTRAL/xf17id1/skinnerProjectsBackup/bnlpx_config/fmx_bluesky_config'),\n",
       " 'ip': <ipykernel.zmqshell.ZMQInteractiveShell at 0x7f39c6a2b990>,\n",
       " 'logbook': <pyOlog.SimpleOlogClient.SimpleOlogClient at 0x7f39a0595110>,\n",
       " 'DISCONNECTED': 'disconnected',\n",
       " 'Device': ophyd.device.Device,\n",
       " 'DisconnectedError': ophyd.utils.errors.DisconnectedError,\n",
       " 'EpicsMotor': ophyd.epics_motor.EpicsMotor,\n",
       " 'FMT_LEN': 18,\n",
       " 'FMT_PREC': 6,\n",
       " 'IPython': <module 'IPython' from '/opt/conda_envs/collection-2020-2.0rc8/lib/python3.7/site-packages/IPython/__init__.py'>,\n",
       " 'PVPositioner': ophyd.pv_positioner.PVPositioner,\n",
       " 'PositionerBase': ophyd.positioner.PositionerBase,\n",
       " 'PrettyTable': prettytable.PrettyTable,\n",
       " 'StringIO': _io.StringIO,\n",
       " 'attrgetter': operator.attrgetter,\n",
       " 'blink': <function pyOlog.ophyd_tools.blink(on=True, file=<colorama.ansitowin32.StreamWrapper object at 0x7f399f8794d0>)>,\n",
       " 'closing': contextlib.closing,\n",
       " 'contextmanager': <function contextlib.contextmanager(func)>,\n",
       " 'ducks_from_namespace': <function pyOlog.ophyd_tools.ducks_from_namespace(attr)>,\n",
       " 'ensure': <function pyOlog.ophyd_tools.ensure(*ensure_args)>,\n",
       " 'functools': <module 'functools' from '/opt/conda_envs/collection-2020-2.0rc8/lib/python3.7/functools.py'>,\n",
       " 'get_all_positioners': <function pyOlog.ophyd_tools.get_all_positioners()>,\n",
       " 'get_logbook': <function pyOlog.ophyd_tools.get_logbook()>,\n",
       " 'instances_from_namespace': <function pyOlog.ophyd_tools.instances_from_namespace(classes)>,\n",
       " 'log_pos': <function pyOlog.ophyd_tools.log_pos(positioners=None, extra_msg=None)>,\n",
       " 'log_pos_diff': <function pyOlog.ophyd_tools.log_pos_diff(id=None, positioners=None, **kwargs)>,\n",
       " 'log_pos_mov': <function pyOlog.ophyd_tools.log_pos_mov(id=None, dry_run=False, positioners=None, **kwargs)>,\n",
       " 'logbook_add_objects': <function pyOlog.ophyd_tools.logbook_add_objects(objects, extra_pvs=None)>,\n",
       " 'logbook_to_objects': <function pyOlog.ophyd_tools.logbook_to_objects(id=None, **kwargs)>,\n",
       " 'print_header': <function pyOlog.ophyd_tools.print_header(title='', char='-', len=80, file=<colorama.ansitowin32.StreamWrapper object at 0x7f399f8794d0>)>,\n",
       " 'print_string': <function pyOlog.ophyd_tools.print_string(val, size=18, pre='', post=' ', file=<colorama.ansitowin32.StreamWrapper object at 0x7f399f8794d0>)>,\n",
       " 'print_value': <function pyOlog.ophyd_tools.print_value(val, prec=6, egu='', **kwargs)>,\n",
       " 'scrape_namespace': <function pyOlog.ophyd_tools.scrape_namespace()>,\n",
       " 'tc': IPython.utils.coloransi.TermColors,\n",
       " 'var_from_namespace': <function pyOlog.ophyd_tools.var_from_namespace(var)>,\n",
       " 'EpicsSignal': ophyd.signal.EpicsSignal,\n",
       " 'EpicsSignalRO': ophyd.signal.EpicsSignalRO,\n",
       " 'Cpt': ophyd.device.Component,\n",
       " 'set_and_wait': <function ophyd.utils.epics_pvs.set_and_wait(signal, val, poll_time=0.01, timeout=10, rtol=None, atol=None)>,\n",
       " 'beam_current': EpicsSignal(read_pv='SR:OPS-BI{DCCT:1}I:Real-I', name='SR:OPS-BI{DCCT:1}I:Real-I', timestamp=1603572465.28864, auto_monitor=False, string=False, write_pv='SR:OPS-BI{DCCT:1}I:Real-I', limits=False, put_complete=False),\n",
       " 'EpicsSignalPrec': __main__.EpicsSignalPrec,\n",
       " 'EpicsSignalROPrec': __main__.EpicsSignalROPrec,\n",
       " 'InsertionDevice': __main__.InsertionDevice,\n",
       " 'ivu_gap': InsertionDevice(prefix='SR:C17-ID:G1{IVU21:2', name='ivu', read_attrs=['gap', 'gap.user_readback', 'gap.user_setpoint'], configuration_attrs=['gap', 'gap.user_offset', 'gap.user_offset_dir', 'gap.velocity', 'gap.acceleration', 'gap.motor_egu']),\n",
       " 'PVPositionerPC': ophyd.pv_positioner.PVPositionerPC,\n",
       " 'XYMotor': __main__.XYMotor,\n",
       " 'XYZMotor': __main__.XYZMotor,\n",
       " 'XYPitchMotor': __main__.XYPitchMotor,\n",
       " 'XZXYMotor': __main__.XZXYMotor,\n",
       " 'XYZfMotor': __main__.XYZfMotor,\n",
       " 'YMotor': __main__.YMotor,\n",
       " 'Slits': __main__.Slits,\n",
       " 'VirtualCenter': __main__.VirtualCenter,\n",
       " 'VirtualGap': __main__.VirtualGap,\n",
       " 'FESlits': __main__.FESlits,\n",
       " 'HorizontalDCM': __main__.HorizontalDCM,\n",
       " 'KBMirror': __main__.KBMirror,\n",
       " 'GoniometerStack': __main__.GoniometerStack,\n",
       " 'ShutterTranslation': __main__.ShutterTranslation,\n",
       " 'BeamStop': __main__.BeamStop,\n",
       " 'Cover': __main__.Cover,\n",
       " 'Shutter': __main__.Shutter,\n",
       " 'hhls': Slits(prefix='XF:17IDA-OP:FMX{Slt:0', name='hhls', read_attrs=['b', 'b.user_readback', 'b.user_setpoint', 'i', 'i.user_readback', 'i.user_setpoint', 'o', 'o.user_readback', 'o.user_setpoint', 't', 't.user_readback', 't.user_setpoint', 'x_ctr', 'x_ctr.user_readback', 'x_ctr.user_setpoint', 'x_gap', 'x_gap.user_readback', 'x_gap.user_setpoint', 'y_ctr', 'y_ctr.user_readback', 'y_ctr.user_setpoint', 'y_gap', 'y_gap.user_readback', 'y_gap.user_setpoint'], configuration_attrs=['b', 'b.user_offset', 'b.user_offset_dir', 'b.velocity', 'b.acceleration', 'b.motor_egu', 'i', 'i.user_offset', 'i.user_offset_dir', 'i.velocity', 'i.acceleration', 'i.motor_egu', 'o', 'o.user_offset', 'o.user_offset_dir', 'o.velocity', 'o.acceleration', 'o.motor_egu', 't', 't.user_offset', 't.user_offset_dir', 't.velocity', 't.acceleration', 't.motor_egu', 'x_ctr', 'x_ctr.user_offset', 'x_ctr.user_offset_dir', 'x_ctr.velocity', 'x_ctr.acceleration', 'x_ctr.motor_egu', 'x_gap', 'x_gap.user_offset', 'x_gap.user_offset_dir', 'x_gap.velocity', 'x_gap.acceleration', 'x_gap.motor_egu', 'y_ctr', 'y_ctr.user_offset', 'y_ctr.user_offset_dir', 'y_ctr.velocity', 'y_ctr.acceleration', 'y_ctr.motor_egu', 'y_gap', 'y_gap.user_offset', 'y_gap.user_offset_dir', 'y_gap.velocity', 'y_gap.acceleration', 'y_gap.motor_egu']),\n",
       " 'hdcm': HorizontalDCM(prefix='XF:17IDA-OP:FMX{Mono:DCM', name='hdcm', read_attrs=['b', 'b.user_readback', 'b.user_setpoint', 'g', 'g.user_readback', 'g.user_setpoint', 'p', 'p.user_readback', 'p.user_setpoint', 'r', 'r.user_readback', 'r.user_setpoint', 'e', 'e.user_readback', 'e.user_setpoint', 'w', 'w.user_readback', 'w.user_setpoint'], configuration_attrs=['b', 'b.user_offset', 'b.user_offset_dir', 'b.velocity', 'b.acceleration', 'b.motor_egu', 'g', 'g.user_offset', 'g.user_offset_dir', 'g.velocity', 'g.acceleration', 'g.motor_egu', 'p', 'p.user_offset', 'p.user_offset_dir', 'p.velocity', 'p.acceleration', 'p.motor_egu', 'r', 'r.user_offset', 'r.user_offset_dir', 'r.velocity', 'r.acceleration', 'r.motor_egu', 'e', 'e.user_offset', 'e.user_offset_dir', 'e.velocity', 'e.acceleration', 'e.motor_egu', 'w', 'w.user_offset', 'w.user_offset_dir', 'w.velocity', 'w.acceleration', 'w.motor_egu']),\n",
       " 'hfm': XYPitchMotor(prefix='XF:17IDA-OP:FMX{Mir:HFM', name='hfm', read_attrs=['x', 'x.user_readback', 'x.user_setpoint', 'y', 'y.user_readback', 'y.user_setpoint', 'pitch', 'pitch.user_readback', 'pitch.user_setpoint'], configuration_attrs=['x', 'x.user_offset', 'x.user_offset_dir', 'x.velocity', 'x.acceleration', 'x.motor_egu', 'y', 'y.user_offset', 'y.user_offset_dir', 'y.velocity', 'y.acceleration', 'y.motor_egu', 'pitch', 'pitch.user_offset', 'pitch.user_offset_dir', 'pitch.velocity', 'pitch.acceleration', 'pitch.motor_egu']),\n",
       " 'mbpm1': XYMotor(prefix='XF:17IDA-BI:FMX{BPM:1', name='mbpm1', read_attrs=['x', 'x.user_readback', 'x.user_setpoint', 'y', 'y.user_readback', 'y.user_setpoint'], configuration_attrs=['x', 'x.user_offset', 'x.user_offset_dir', 'x.velocity', 'x.acceleration', 'x.motor_egu', 'y', 'y.user_offset', 'y.user_offset_dir', 'y.velocity', 'y.acceleration', 'y.motor_egu']),\n",
       " 'mbpm2': XYMotor(prefix='XF:17IDC-BI:FMX{BPM:2', name='mbpm2', read_attrs=['x', 'x.user_readback', 'x.user_setpoint', 'y', 'y.user_readback', 'y.user_setpoint'], configuration_attrs=['x', 'x.user_offset', 'x.user_offset_dir', 'x.velocity', 'x.acceleration', 'x.motor_egu', 'y', 'y.user_offset', 'y.user_offset_dir', 'y.velocity', 'y.acceleration', 'y.motor_egu']),\n",
       " 'mbpm3': XYMotor(prefix='XF:17IDC-BI:FMX{BPM:3', name='mbpm3', read_attrs=['x', 'x.user_readback', 'x.user_setpoint', 'y', 'y.user_readback', 'y.user_setpoint'], configuration_attrs=['x', 'x.user_offset', 'x.user_offset_dir', 'x.velocity', 'x.acceleration', 'x.motor_egu', 'y', 'y.user_offset', 'y.user_offset_dir', 'y.velocity', 'y.acceleration', 'y.motor_egu']),\n",
       " 'slits1': Slits(prefix='XF:17IDA-OP:FMX{Slt:1', name='slits1', read_attrs=['b', 'b.user_readback', 'b.user_setpoint', 'i', 'i.user_readback', 'i.user_setpoint', 'o', 'o.user_readback', 'o.user_setpoint', 't', 't.user_readback', 't.user_setpoint', 'x_ctr', 'x_ctr.user_readback', 'x_ctr.user_setpoint', 'x_gap', 'x_gap.user_readback', 'x_gap.user_setpoint', 'y_ctr', 'y_ctr.user_readback', 'y_ctr.user_setpoint', 'y_gap', 'y_gap.user_readback', 'y_gap.user_setpoint'], configuration_attrs=['b', 'b.user_offset', 'b.user_offset_dir', 'b.velocity', 'b.acceleration', 'b.motor_egu', 'i', 'i.user_offset', 'i.user_offset_dir', 'i.velocity', 'i.acceleration', 'i.motor_egu', 'o', 'o.user_offset', 'o.user_offset_dir', 'o.velocity', 'o.acceleration', 'o.motor_egu', 't', 't.user_offset', 't.user_offset_dir', 't.velocity', 't.acceleration', 't.motor_egu', 'x_ctr', 'x_ctr.user_offset', 'x_ctr.user_offset_dir', 'x_ctr.velocity', 'x_ctr.acceleration', 'x_ctr.motor_egu', 'x_gap', 'x_gap.user_offset', 'x_gap.user_offset_dir', 'x_gap.velocity', 'x_gap.acceleration', 'x_gap.motor_egu', 'y_ctr', 'y_ctr.user_offset', 'y_ctr.user_offset_dir', 'y_ctr.velocity', 'y_ctr.acceleration', 'y_ctr.motor_egu', 'y_gap', 'y_gap.user_offset', 'y_gap.user_offset_dir', 'y_gap.velocity', 'y_gap.acceleration', 'y_gap.motor_egu']),\n",
       " 'slits2': Slits(prefix='XF:17IDC-OP:FMX{Slt:2', name='slits2', read_attrs=['b', 'b.user_readback', 'b.user_setpoint', 'i', 'i.user_readback', 'i.user_setpoint', 'o', 'o.user_readback', 'o.user_setpoint', 't', 't.user_readback', 't.user_setpoint', 'x_ctr', 'x_ctr.user_readback', 'x_ctr.user_setpoint', 'x_gap', 'x_gap.user_readback', 'x_gap.user_setpoint', 'y_ctr', 'y_ctr.user_readback', 'y_ctr.user_setpoint', 'y_gap', 'y_gap.user_readback', 'y_gap.user_setpoint'], configuration_attrs=['b', 'b.user_offset', 'b.user_offset_dir', 'b.velocity', 'b.acceleration', 'b.motor_egu', 'i', 'i.user_offset', 'i.user_offset_dir', 'i.velocity', 'i.acceleration', 'i.motor_egu', 'o', 'o.user_offset', 'o.user_offset_dir', 'o.velocity', 'o.acceleration', 'o.motor_egu', 't', 't.user_offset', 't.user_offset_dir', 't.velocity', 't.acceleration', 't.motor_egu', 'x_ctr', 'x_ctr.user_offset', 'x_ctr.user_offset_dir', 'x_ctr.velocity', 'x_ctr.acceleration', 'x_ctr.motor_egu', 'x_gap', 'x_gap.user_offset', 'x_gap.user_offset_dir', 'x_gap.velocity', 'x_gap.acceleration', 'x_gap.motor_egu', 'y_ctr', 'y_ctr.user_offset', 'y_ctr.user_offset_dir', 'y_ctr.velocity', 'y_ctr.acceleration', 'y_ctr.motor_egu', 'y_gap', 'y_gap.user_offset', 'y_gap.user_offset_dir', 'y_gap.velocity', 'y_gap.acceleration', 'y_gap.motor_egu']),\n",
       " 'slits3': Slits(prefix='XF:17IDC-OP:FMX{Slt:3', name='slits3', read_attrs=['b', 'b.user_readback', 'b.user_setpoint', 'i', 'i.user_readback', 'i.user_setpoint', 'o', 'o.user_readback', 'o.user_setpoint', 't', 't.user_readback', 't.user_setpoint', 'x_ctr', 'x_ctr.user_readback', 'x_ctr.user_setpoint', 'x_gap', 'x_gap.user_readback', 'x_gap.user_setpoint', 'y_ctr', 'y_ctr.user_readback', 'y_ctr.user_setpoint', 'y_gap', 'y_gap.user_readback', 'y_gap.user_setpoint'], configuration_attrs=['b', 'b.user_offset', 'b.user_offset_dir', 'b.velocity', 'b.acceleration', 'b.motor_egu', 'i', 'i.user_offset', 'i.user_offset_dir', 'i.velocity', 'i.acceleration', 'i.motor_egu', 'o', 'o.user_offset', 'o.user_offset_dir', 'o.velocity', 'o.acceleration', 'o.motor_egu', 't', 't.user_offset', 't.user_offset_dir', 't.velocity', 't.acceleration', 't.motor_egu', 'x_ctr', 'x_ctr.user_offset', 'x_ctr.user_offset_dir', 'x_ctr.velocity', 'x_ctr.acceleration', 'x_ctr.motor_egu', 'x_gap', 'x_gap.user_offset', 'x_gap.user_offset_dir', 'x_gap.velocity', 'x_gap.acceleration', 'x_gap.motor_egu', 'y_ctr', 'y_ctr.user_offset', 'y_ctr.user_offset_dir', 'y_ctr.velocity', 'y_ctr.acceleration', 'y_ctr.motor_egu', 'y_gap', 'y_gap.user_offset', 'y_gap.user_offset_dir', 'y_gap.velocity', 'y_gap.acceleration', 'y_gap.motor_egu']),\n",
       " 'slits4': Slits(prefix='XF:17IDC-OP:FMX{Slt:4', name='slits4', read_attrs=['b', 'b.user_readback', 'b.user_setpoint', 'i', 'i.user_readback', 'i.user_setpoint', 'o', 'o.user_readback', 'o.user_setpoint', 't', 't.user_readback', 't.user_setpoint', 'x_ctr', 'x_ctr.user_readback', 'x_ctr.user_setpoint', 'x_gap', 'x_gap.user_readback', 'x_gap.user_setpoint', 'y_ctr', 'y_ctr.user_readback', 'y_ctr.user_setpoint', 'y_gap', 'y_gap.user_readback', 'y_gap.user_setpoint'], configuration_attrs=['b', 'b.user_offset', 'b.user_offset_dir', 'b.velocity', 'b.acceleration', 'b.motor_egu', 'i', 'i.user_offset', 'i.user_offset_dir', 'i.velocity', 'i.acceleration', 'i.motor_egu', 'o', 'o.user_offset', 'o.user_offset_dir', 'o.velocity', 'o.acceleration', 'o.motor_egu', 't', 't.user_offset', 't.user_offset_dir', 't.velocity', 't.acceleration', 't.motor_egu', 'x_ctr', 'x_ctr.user_offset', 'x_ctr.user_offset_dir', 'x_ctr.velocity', 'x_ctr.acceleration', 'x_ctr.motor_egu', 'x_gap', 'x_gap.user_offset', 'x_gap.user_offset_dir', 'x_gap.velocity', 'x_gap.acceleration', 'x_gap.motor_egu', 'y_ctr', 'y_ctr.user_offset', 'y_ctr.user_offset_dir', 'y_ctr.velocity', 'y_ctr.acceleration', 'y_ctr.motor_egu', 'y_gap', 'y_gap.user_offset', 'y_gap.user_offset_dir', 'y_gap.velocity', 'y_gap.acceleration', 'y_gap.motor_egu']),\n",
       " 'kbm': KBMirror(prefix='XF:17IDC-OP:FMX{Mir', name='kbm', read_attrs=['hp', 'hp.user_readback', 'hp.user_setpoint', 'hr', 'hr.user_readback', 'hr.user_setpoint', 'hx', 'hx.user_readback', 'hx.user_setpoint', 'hy', 'hy.user_readback', 'hy.user_setpoint', 'vp', 'vp.user_readback', 'vp.user_setpoint', 'vx', 'vx.user_readback', 'vx.user_setpoint', 'vy', 'vy.user_readback', 'vy.user_setpoint'], configuration_attrs=['hp', 'hp.user_offset', 'hp.user_offset_dir', 'hp.velocity', 'hp.acceleration', 'hp.motor_egu', 'hr', 'hr.user_offset', 'hr.user_offset_dir', 'hr.velocity', 'hr.acceleration', 'hr.motor_egu', 'hx', 'hx.user_offset', 'hx.user_offset_dir', 'hx.velocity', 'hx.acceleration', 'hx.motor_egu', 'hy', 'hy.user_offset', 'hy.user_offset_dir', 'hy.velocity', 'hy.acceleration', 'hy.motor_egu', 'vp', 'vp.user_offset', 'vp.user_offset_dir', 'vp.velocity', 'vp.acceleration', 'vp.motor_egu', 'vx', 'vx.user_offset', 'vx.user_offset_dir', 'vx.velocity', 'vx.acceleration', 'vx.motor_egu', 'vy', 'vy.user_offset', 'vy.user_offset_dir', 'vy.velocity', 'vy.acceleration', 'vy.motor_egu']),\n",
       " 'mic': XYMotor(prefix='XF:17IDC-ES:FMX{Mic:1', name='mic', read_attrs=['x', 'x.user_readback', 'x.user_setpoint', 'y', 'y.user_readback', 'y.user_setpoint'], configuration_attrs=['x', 'x.user_offset', 'x.user_offset_dir', 'x.velocity', 'x.acceleration', 'x.motor_egu', 'y', 'y.user_offset', 'y.user_offset_dir', 'y.velocity', 'y.acceleration', 'y.motor_egu']),\n",
       " 'light': YMotor(prefix='XF:17IDC-ES:FMX{Light:1', name='lightY', read_attrs=['y', 'y.user_readback', 'y.user_setpoint'], configuration_attrs=['y', 'y.user_offset', 'y.user_offset_dir', 'y.velocity', 'y.acceleration', 'y.motor_egu']),\n",
       " 'gonio': GoniometerStack(prefix='XF:17IDC-ES:FMX{Gon:1', name='gonio', read_attrs=['gx', 'gx.user_readback', 'gx.user_setpoint', 'gy', 'gy.user_readback', 'gy.user_setpoint', 'gz', 'gz.user_readback', 'gz.user_setpoint', 'o', 'o.user_readback', 'o.user_setpoint', 'py', 'py.user_readback', 'py.user_setpoint', 'pz', 'pz.user_readback', 'pz.user_setpoint'], configuration_attrs=['gx', 'gx.user_offset', 'gx.user_offset_dir', 'gx.velocity', 'gx.acceleration', 'gx.motor_egu', 'gy', 'gy.user_offset', 'gy.user_offset_dir', 'gy.velocity', 'gy.acceleration', 'gy.motor_egu', 'gz', 'gz.user_offset', 'gz.user_offset_dir', 'gz.velocity', 'gz.acceleration', 'gz.motor_egu', 'o', 'o.user_offset', 'o.user_offset_dir', 'o.velocity', 'o.acceleration', 'o.motor_egu', 'py', 'py.user_offset', 'py.user_offset_dir', 'py.velocity', 'py.acceleration', 'py.motor_egu', 'pz', 'pz.user_offset', 'pz.user_offset_dir', 'pz.velocity', 'pz.acceleration', 'pz.motor_egu']),\n",
       " 'sht': ShutterTranslation(prefix='XF:17IDC-ES:FMX{Sht:1', name='sht', read_attrs=['x', 'x.user_readback', 'x.user_setpoint'], configuration_attrs=['x', 'x.user_offset', 'x.user_offset_dir', 'x.velocity', 'x.acceleration', 'x.motor_egu']),\n",
       " 'fe': FESlits(prefix='FE:C17A-OP', name='fe', read_attrs=['i', 'i.user_readback', 'i.user_setpoint', 't', 't.user_readback', 't.user_setpoint', 'o', 'o.user_readback', 'o.user_setpoint', 'b', 'b.user_readback', 'b.user_setpoint', 'x_ctr', 'x_ctr.setpoint', 'x_ctr.readback', 'x_ctr.done', 'y_ctr', 'y_ctr.setpoint', 'y_ctr.readback', 'y_ctr.done', 'x_gap', 'x_gap.setpoint', 'x_gap.readback', 'x_gap.done', 'y_gap', 'y_gap.setpoint', 'y_gap.readback', 'y_gap.done'], configuration_attrs=['i', 'i.user_offset', 'i.user_offset_dir', 'i.velocity', 'i.acceleration', 'i.motor_egu', 't', 't.user_offset', 't.user_offset_dir', 't.velocity', 't.acceleration', 't.motor_egu', 'o', 'o.user_offset', 'o.user_offset_dir', 'o.velocity', 'o.acceleration', 'o.motor_egu', 'b', 'b.user_offset', 'b.user_offset_dir', 'b.velocity', 'b.acceleration', 'b.motor_egu', 'x_ctr', 'y_ctr', 'x_gap', 'y_gap']),\n",
       " 'hm': XYZMotor(prefix='XF:17IDC-ES:FMX{Mir:1', name='hm', read_attrs=['x', 'x.user_readback', 'x.user_setpoint', 'y', 'y.user_readback', 'y.user_setpoint', 'z', 'z.user_readback', 'z.user_setpoint'], configuration_attrs=['x', 'x.user_offset', 'x.user_offset_dir', 'x.velocity', 'x.acceleration', 'x.motor_egu', 'y', 'y.user_offset', 'y.user_offset_dir', 'y.velocity', 'y.acceleration', 'y.motor_egu', 'z', 'z.user_offset', 'z.user_offset_dir', 'z.velocity', 'z.acceleration', 'z.motor_egu']),\n",
       " 'bs': BeamStop(prefix='XF:17IDC-ES:FMX{BS:1', name='bs', read_attrs=['fx', 'fx.user_readback', 'fx.user_setpoint', 'fy', 'fy.user_readback', 'fy.user_setpoint'], configuration_attrs=['fx', 'fx.user_offset', 'fx.user_offset_dir', 'fx.velocity', 'fx.acceleration', 'fx.motor_egu', 'fy', 'fy.user_offset', 'fy.user_offset_dir', 'fy.velocity', 'fy.acceleration', 'fy.motor_egu']),\n",
       " 'colli': XZXYMotor(prefix='XF:17IDC-ES:FMX{Colli:1', name='colli', read_attrs=['x', 'x.user_readback', 'x.user_setpoint', 'z', 'z.user_readback', 'z.user_setpoint'], configuration_attrs=['x', 'x.user_offset', 'x.user_offset_dir', 'x.velocity', 'x.acceleration', 'x.motor_egu', 'z', 'z.user_offset', 'z.user_offset_dir', 'z.velocity', 'z.acceleration', 'z.motor_egu']),\n",
       " 'pif': XYZfMotor(prefix='XF:17IDC-ES:FMX{Gon:1', name='pif', read_attrs=['x', 'x.user_readback', 'x.user_setpoint', 'y', 'y.user_readback', 'y.user_setpoint', 'z', 'z.user_readback', 'z.user_setpoint'], configuration_attrs=['x', 'x.user_offset', 'x.user_offset_dir', 'x.velocity', 'x.acceleration', 'x.motor_egu', 'y', 'y.user_offset', 'y.user_offset_dir', 'y.velocity', 'y.acceleration', 'y.motor_egu', 'z', 'z.user_offset', 'z.user_offset_dir', 'z.velocity', 'z.acceleration', 'z.motor_egu']),\n",
       " 'cover_detector': Cover(prefix='XF:17IDC-ES:FMX{Det:FMX-Cover}', name='cover_detector', read_attrs=['status'], configuration_attrs=[]),\n",
       " 'shutter_foe': Shutter(prefix='XF:17ID-PPS:FAMX{Sh:FE}', name='shutter_foe', read_attrs=['status'], configuration_attrs=[]),\n",
       " 'shutter_hutch_c': Shutter(prefix='XF:17IDA-PPS:FMX{PSh}', name='shutter_hutch_c', read_attrs=['status'], configuration_attrs=[]),\n",
       " 'shutter_bcu': Shutter(prefix='XF:17IDC-ES:FMX{Gon:1-Sht}', name='shutter_bcu', read_attrs=['status'], configuration_attrs=[]),\n",
       " 'OrderedDict': collections.OrderedDict,\n",
       " 'C': ophyd.device.Component,\n",
       " 'DDC': ophyd.device.DynamicDeviceComponent,\n",
       " 'Channel': __main__.Channel,\n",
       " 'add_channels': <function __main__.add_channels(range_, **kwargs)>,\n",
       " 'Bimorph': __main__.Bimorph,\n",
       " 'hfm_bimorph': Bimorph(prefix='XF:17IDA-OP:FMX{Mir:HFM-PS}', name='hfm_bimorph', read_attrs=['bank_no', 'step_size', 'inc_bank', 'dec_bank', 'inc', 'dec', 'stop_ramp', 'start_ramp', 'format_number', 'load_format', 'all_target_voltages', 'all_current_voltages', 'unit_status', 'channels', 'channels.channel1', 'channels.channel1.user_setpoint', 'channels.channel1.target_voltage', 'channels.channel1.current_voltage', 'channels.channel1.min_voltage', 'channels.channel1.max_voltage', 'channels.channel2', 'channels.channel2.user_setpoint', 'channels.channel2.target_voltage', 'channels.channel2.current_voltage', 'channels.channel2.min_voltage', 'channels.channel2.max_voltage', 'channels.channel3', 'channels.channel3.user_setpoint', 'channels.channel3.target_voltage', 'channels.channel3.current_voltage', 'channels.channel3.min_voltage', 'channels.channel3.max_voltage', 'channels.channel4', 'channels.channel4.user_setpoint', 'channels.channel4.target_voltage', 'channels.channel4.current_voltage', 'channels.channel4.min_voltage', 'channels.channel4.max_voltage', 'channels.channel5', 'channels.channel5.user_setpoint', 'channels.channel5.target_voltage', 'channels.channel5.current_voltage', 'channels.channel5.min_voltage', 'channels.channel5.max_voltage', 'channels.channel6', 'channels.channel6.user_setpoint', 'channels.channel6.target_voltage', 'channels.channel6.current_voltage', 'channels.channel6.min_voltage', 'channels.channel6.max_voltage', 'channels.channel7', 'channels.channel7.user_setpoint', 'channels.channel7.target_voltage', 'channels.channel7.current_voltage', 'channels.channel7.min_voltage', 'channels.channel7.max_voltage', 'channels.channel8', 'channels.channel8.user_setpoint', 'channels.channel8.target_voltage', 'channels.channel8.current_voltage', 'channels.channel8.min_voltage', 'channels.channel8.max_voltage', 'channels.channel9', 'channels.channel9.user_setpoint', 'channels.channel9.target_voltage', 'channels.channel9.current_voltage', 'channels.channel9.min_voltage', 'channels.channel9.max_voltage', 'channels.channel10', 'channels.channel10.user_setpoint', 'channels.channel10.target_voltage', 'channels.channel10.current_voltage', 'channels.channel10.min_voltage', 'channels.channel10.max_voltage', 'channels.channel11', 'channels.channel11.user_setpoint', 'channels.channel11.target_voltage', 'channels.channel11.current_voltage', 'channels.channel11.min_voltage', 'channels.channel11.max_voltage', 'channels.channel12', 'channels.channel12.user_setpoint', 'channels.channel12.target_voltage', 'channels.channel12.current_voltage', 'channels.channel12.min_voltage', 'channels.channel12.max_voltage', 'channels.channel13', 'channels.channel13.user_setpoint', 'channels.channel13.target_voltage', 'channels.channel13.current_voltage', 'channels.channel13.min_voltage', 'channels.channel13.max_voltage', 'channels.channel14', 'channels.channel14.user_setpoint', 'channels.channel14.target_voltage', 'channels.channel14.current_voltage', 'channels.channel14.min_voltage', 'channels.channel14.max_voltage', 'channels.channel15', 'channels.channel15.user_setpoint', 'channels.channel15.target_voltage', 'channels.channel15.current_voltage', 'channels.channel15.min_voltage', 'channels.channel15.max_voltage', 'channels.channel16', 'channels.channel16.user_setpoint', 'channels.channel16.target_voltage', 'channels.channel16.current_voltage', 'channels.channel16.min_voltage', 'channels.channel16.max_voltage', 'channels.channel17', 'channels.channel17.user_setpoint', 'channels.channel17.target_voltage', 'channels.channel17.current_voltage', 'channels.channel17.min_voltage', 'channels.channel17.max_voltage', 'channels.channel18', 'channels.channel18.user_setpoint', 'channels.channel18.target_voltage', 'channels.channel18.current_voltage', 'channels.channel18.min_voltage', 'channels.channel18.max_voltage', 'channels.channel19', 'channels.channel19.user_setpoint', 'channels.channel19.target_voltage', 'channels.channel19.current_voltage', 'channels.channel19.min_voltage', 'channels.channel19.max_voltage', 'channels.channel20', 'channels.channel20.user_setpoint', 'channels.channel20.target_voltage', 'channels.channel20.current_voltage', 'channels.channel20.min_voltage', 'channels.channel20.max_voltage', 'channels.channel21', 'channels.channel21.user_setpoint', 'channels.channel21.target_voltage', 'channels.channel21.current_voltage', 'channels.channel21.min_voltage', 'channels.channel21.max_voltage', 'channels.channel22', 'channels.channel22.user_setpoint', 'channels.channel22.target_voltage', 'channels.channel22.current_voltage', 'channels.channel22.min_voltage', 'channels.channel22.max_voltage', 'channels.channel23', 'channels.channel23.user_setpoint', 'channels.channel23.target_voltage', 'channels.channel23.current_voltage', 'channels.channel23.min_voltage', 'channels.channel23.max_voltage', 'channels.channel24', 'channels.channel24.user_setpoint', 'channels.channel24.target_voltage', 'channels.channel24.current_voltage', 'channels.channel24.min_voltage', 'channels.channel24.max_voltage', 'channels.channel25', 'channels.channel25.user_setpoint', 'channels.channel25.target_voltage', 'channels.channel25.current_voltage', 'channels.channel25.min_voltage', 'channels.channel25.max_voltage', 'channels.channel26', 'channels.channel26.user_setpoint', 'channels.channel26.target_voltage', 'channels.channel26.current_voltage', 'channels.channel26.min_voltage', 'channels.channel26.max_voltage', 'channels.channel27', 'channels.channel27.user_setpoint', 'channels.channel27.target_voltage', 'channels.channel27.current_voltage', 'channels.channel27.min_voltage', 'channels.channel27.max_voltage', 'channels.channel28', 'channels.channel28.user_setpoint', 'channels.channel28.target_voltage', 'channels.channel28.current_voltage', 'channels.channel28.min_voltage', 'channels.channel28.max_voltage', 'channels.channel29', 'channels.channel29.user_setpoint', 'channels.channel29.target_voltage', 'channels.channel29.current_voltage', 'channels.channel29.min_voltage', 'channels.channel29.max_voltage', 'channels.channel30', 'channels.channel30.user_setpoint', 'channels.channel30.target_voltage', 'channels.channel30.current_voltage', 'channels.channel30.min_voltage', 'channels.channel30.max_voltage', 'channels.channel31', 'channels.channel31.user_setpoint', 'channels.channel31.target_voltage', 'channels.channel31.current_voltage', 'channels.channel31.min_voltage', 'channels.channel31.max_voltage', 'channels.channel32', 'channels.channel32.user_setpoint', 'channels.channel32.target_voltage', 'channels.channel32.current_voltage', 'channels.channel32.min_voltage', 'channels.channel32.max_voltage'], configuration_attrs=['channels', 'channels.channel1', 'channels.channel2', 'channels.channel3', 'channels.channel4', 'channels.channel5', 'channels.channel6', 'channels.channel7', 'channels.channel8', 'channels.channel9', 'channels.channel10', 'channels.channel11', 'channels.channel12', 'channels.channel13', 'channels.channel14', 'channels.channel15', 'channels.channel16', 'channels.channel17', 'channels.channel18', 'channels.channel19', 'channels.channel20', 'channels.channel21', 'channels.channel22', 'channels.channel23', 'channels.channel24', 'channels.channel25', 'channels.channel26', 'channels.channel27', 'channels.channel28', 'channels.channel29', 'channels.channel30', 'channels.channel31', 'channels.channel32']),\n",
       " 'kb_bimorph': Bimorph(prefix='XF:17IDC-OP:FMX{Mir:KB-PS}', name='kb_bimorph', read_attrs=['bank_no', 'step_size', 'inc_bank', 'dec_bank', 'inc', 'dec', 'stop_ramp', 'start_ramp', 'format_number', 'load_format', 'all_target_voltages', 'all_current_voltages', 'unit_status', 'channels', 'channels.channel1', 'channels.channel1.user_setpoint', 'channels.channel1.target_voltage', 'channels.channel1.current_voltage', 'channels.channel1.min_voltage', 'channels.channel1.max_voltage', 'channels.channel2', 'channels.channel2.user_setpoint', 'channels.channel2.target_voltage', 'channels.channel2.current_voltage', 'channels.channel2.min_voltage', 'channels.channel2.max_voltage', 'channels.channel3', 'channels.channel3.user_setpoint', 'channels.channel3.target_voltage', 'channels.channel3.current_voltage', 'channels.channel3.min_voltage', 'channels.channel3.max_voltage', 'channels.channel4', 'channels.channel4.user_setpoint', 'channels.channel4.target_voltage', 'channels.channel4.current_voltage', 'channels.channel4.min_voltage', 'channels.channel4.max_voltage', 'channels.channel5', 'channels.channel5.user_setpoint', 'channels.channel5.target_voltage', 'channels.channel5.current_voltage', 'channels.channel5.min_voltage', 'channels.channel5.max_voltage', 'channels.channel6', 'channels.channel6.user_setpoint', 'channels.channel6.target_voltage', 'channels.channel6.current_voltage', 'channels.channel6.min_voltage', 'channels.channel6.max_voltage', 'channels.channel7', 'channels.channel7.user_setpoint', 'channels.channel7.target_voltage', 'channels.channel7.current_voltage', 'channels.channel7.min_voltage', 'channels.channel7.max_voltage', 'channels.channel8', 'channels.channel8.user_setpoint', 'channels.channel8.target_voltage', 'channels.channel8.current_voltage', 'channels.channel8.min_voltage', 'channels.channel8.max_voltage', 'channels.channel9', 'channels.channel9.user_setpoint', 'channels.channel9.target_voltage', 'channels.channel9.current_voltage', 'channels.channel9.min_voltage', 'channels.channel9.max_voltage', 'channels.channel10', 'channels.channel10.user_setpoint', 'channels.channel10.target_voltage', 'channels.channel10.current_voltage', 'channels.channel10.min_voltage', 'channels.channel10.max_voltage', 'channels.channel11', 'channels.channel11.user_setpoint', 'channels.channel11.target_voltage', 'channels.channel11.current_voltage', 'channels.channel11.min_voltage', 'channels.channel11.max_voltage', 'channels.channel12', 'channels.channel12.user_setpoint', 'channels.channel12.target_voltage', 'channels.channel12.current_voltage', 'channels.channel12.min_voltage', 'channels.channel12.max_voltage', 'channels.channel13', 'channels.channel13.user_setpoint', 'channels.channel13.target_voltage', 'channels.channel13.current_voltage', 'channels.channel13.min_voltage', 'channels.channel13.max_voltage', 'channels.channel14', 'channels.channel14.user_setpoint', 'channels.channel14.target_voltage', 'channels.channel14.current_voltage', 'channels.channel14.min_voltage', 'channels.channel14.max_voltage', 'channels.channel15', 'channels.channel15.user_setpoint', 'channels.channel15.target_voltage', 'channels.channel15.current_voltage', 'channels.channel15.min_voltage', 'channels.channel15.max_voltage', 'channels.channel16', 'channels.channel16.user_setpoint', 'channels.channel16.target_voltage', 'channels.channel16.current_voltage', 'channels.channel16.min_voltage', 'channels.channel16.max_voltage', 'channels.channel17', 'channels.channel17.user_setpoint', 'channels.channel17.target_voltage', 'channels.channel17.current_voltage', 'channels.channel17.min_voltage', 'channels.channel17.max_voltage', 'channels.channel18', 'channels.channel18.user_setpoint', 'channels.channel18.target_voltage', 'channels.channel18.current_voltage', 'channels.channel18.min_voltage', 'channels.channel18.max_voltage', 'channels.channel19', 'channels.channel19.user_setpoint', 'channels.channel19.target_voltage', 'channels.channel19.current_voltage', 'channels.channel19.min_voltage', 'channels.channel19.max_voltage', 'channels.channel20', 'channels.channel20.user_setpoint', 'channels.channel20.target_voltage', 'channels.channel20.current_voltage', 'channels.channel20.min_voltage', 'channels.channel20.max_voltage', 'channels.channel21', 'channels.channel21.user_setpoint', 'channels.channel21.target_voltage', 'channels.channel21.current_voltage', 'channels.channel21.min_voltage', 'channels.channel21.max_voltage', 'channels.channel22', 'channels.channel22.user_setpoint', 'channels.channel22.target_voltage', 'channels.channel22.current_voltage', 'channels.channel22.min_voltage', 'channels.channel22.max_voltage', 'channels.channel23', 'channels.channel23.user_setpoint', 'channels.channel23.target_voltage', 'channels.channel23.current_voltage', 'channels.channel23.min_voltage', 'channels.channel23.max_voltage', 'channels.channel24', 'channels.channel24.user_setpoint', 'channels.channel24.target_voltage', 'channels.channel24.current_voltage', 'channels.channel24.min_voltage', 'channels.channel24.max_voltage', 'channels.channel25', 'channels.channel25.user_setpoint', 'channels.channel25.target_voltage', 'channels.channel25.current_voltage', 'channels.channel25.min_voltage', 'channels.channel25.max_voltage', 'channels.channel26', 'channels.channel26.user_setpoint', 'channels.channel26.target_voltage', 'channels.channel26.current_voltage', 'channels.channel26.min_voltage', 'channels.channel26.max_voltage', 'channels.channel27', 'channels.channel27.user_setpoint', 'channels.channel27.target_voltage', 'channels.channel27.current_voltage', 'channels.channel27.min_voltage', 'channels.channel27.max_voltage', 'channels.channel28', 'channels.channel28.user_setpoint', 'channels.channel28.target_voltage', 'channels.channel28.current_voltage', 'channels.channel28.min_voltage', 'channels.channel28.max_voltage', 'channels.channel29', 'channels.channel29.user_setpoint', 'channels.channel29.target_voltage', 'channels.channel29.current_voltage', 'channels.channel29.min_voltage', 'channels.channel29.max_voltage', 'channels.channel30', 'channels.channel30.user_setpoint', 'channels.channel30.target_voltage', 'channels.channel30.current_voltage', 'channels.channel30.min_voltage', 'channels.channel30.max_voltage', 'channels.channel31', 'channels.channel31.user_setpoint', 'channels.channel31.target_voltage', 'channels.channel31.current_voltage', 'channels.channel31.min_voltage', 'channels.channel31.max_voltage', 'channels.channel32', 'channels.channel32.user_setpoint', 'channels.channel32.target_voltage', 'channels.channel32.current_voltage', 'channels.channel32.min_voltage', 'channels.channel32.max_voltage'], configuration_attrs=['channels', 'channels.channel1', 'channels.channel2', 'channels.channel3', 'channels.channel4', 'channels.channel5', 'channels.channel6', 'channels.channel7', 'channels.channel8', 'channels.channel9', 'channels.channel10', 'channels.channel11', 'channels.channel12', 'channels.channel13', 'channels.channel14', 'channels.channel15', 'channels.channel16', 'channels.channel17', 'channels.channel18', 'channels.channel19', 'channels.channel20', 'channels.channel21', 'channels.channel22', 'channels.channel23', 'channels.channel24', 'channels.channel25', 'channels.channel26', 'channels.channel27', 'channels.channel28', 'channels.channel29', 'channels.channel30', 'channels.channel31', 'channels.channel32']),\n",
       " 'vkb_piezo_tweak': EpicsSignal(read_pv='XF:17IDC-BI:FMX{Best:2}:PreDAC0:OutCh1', name='XF:17IDC-BI:FMX{Best:2}:PreDAC0:OutCh1', timestamp=1603392073.206408, auto_monitor=False, string=False, write_pv='XF:17IDC-BI:FMX{Best:2}:PreDAC0:OutCh1', limits=False, put_complete=False),\n",
       " 'hkb_piezo_tweak': EpicsSignal(read_pv='XF:17IDC-BI:FMX{Best:2}:PreDAC0:OutCh2', name='XF:17IDC-BI:FMX{Best:2}:PreDAC0:OutCh2', timestamp=1603392076.363922, auto_monitor=False, string=False, write_pv='XF:17IDC-BI:FMX{Best:2}:PreDAC0:OutCh2', limits=False, put_complete=False),\n",
       " 'SingleTrigger': ophyd.areadetector.trigger_mixins.SingleTrigger,\n",
       " 'TIFFPlugin': ophyd.areadetector.plugins.TIFFPlugin,\n",
       " 'ProsilicaDetector': ophyd.areadetector.detectors.ProsilicaDetector,\n",
       " 'ImagePlugin': ophyd.areadetector.plugins.ImagePlugin,\n",
       " 'StatsPlugin': ophyd.areadetector.plugins.StatsPlugin,\n",
       " 'ROIPlugin': ophyd.areadetector.plugins.ROIPlugin,\n",
       " 'DetectorBase': ophyd.areadetector.detectors.DetectorBase,\n",
       " 'HDF5Plugin': ophyd.areadetector.plugins.HDF5Plugin,\n",
       " 'TransformPlugin': ophyd.areadetector.plugins.TransformPlugin,\n",
       " 'ProcessPlugin': ophyd.areadetector.plugins.ProcessPlugin,\n",
       " 'AreaDetector': ophyd.areadetector.detectors.AreaDetector,\n",
       " 'cam': <module 'ophyd.areadetector.cam' from '/opt/conda_envs/collection-2020-2.0rc8/lib/python3.7/site-packages/ophyd/areadetector/cam.py'>,\n",
       " 'FileStoreTIFFIterativeWrite': ophyd.areadetector.filestore_mixins.FileStoreTIFFIterativeWrite,\n",
       " 'FileStoreHDF5IterativeWrite': ophyd.areadetector.filestore_mixins.FileStoreHDF5IterativeWrite,\n",
       " 'TIFFPluginWithFileStore': __main__.TIFFPluginWithFileStore,\n",
       " 'StandardProsilica': __main__.StandardProsilica,\n",
       " 'StandardProsilicaWithTIFF': __main__.StandardProsilicaWithTIFF,\n",
       " 'cam_fs1': StandardProsilica(prefix='XF:17IDA-BI:FMX{FS:1-Cam:1}', name='cam_fs1', read_attrs=['stats1', 'stats1.centroid', 'stats1.total', 'stats2', 'stats2.centroid', 'stats2.total', 'stats3', 'stats3.centroid', 'stats3.total', 'stats4', 'stats4.centroid', 'stats4.centroid.x', 'stats4.centroid.y', 'stats4.total', 'stats5', 'stats5.centroid', 'stats5.total'], configuration_attrs=['cam', 'cam.acquire_period', 'cam.acquire_time', 'cam.image_mode', 'cam.manufacturer', 'cam.model', 'cam.num_exposures', 'cam.num_images', 'cam.trigger_mode', 'stats1', 'stats1.centroid', 'stats1.centroid.x', 'stats1.centroid.y', 'stats2', 'stats2.centroid', 'stats2.centroid.x', 'stats2.centroid.y', 'stats3', 'stats3.centroid', 'stats3.centroid.x', 'stats3.centroid.y', 'stats4', 'stats4.centroid', 'stats4.centroid.x', 'stats4.centroid.y', 'stats5', 'stats5.centroid', 'stats5.centroid.x', 'stats5.centroid.y']),\n",
       " 'cam_mono': StandardProsilica(prefix='XF:17IDA-BI:FMX{Mono:DCM-Cam:1}', name='cam_mono', read_attrs=['stats1', 'stats1.centroid', 'stats1.total', 'stats2', 'stats2.centroid', 'stats2.total', 'stats3', 'stats3.centroid', 'stats3.total', 'stats4', 'stats4.centroid', 'stats4.centroid.x', 'stats4.centroid.y', 'stats4.total', 'stats5', 'stats5.centroid', 'stats5.total'], configuration_attrs=['cam', 'cam.acquire_period', 'cam.acquire_time', 'cam.image_mode', 'cam.manufacturer', 'cam.model', 'cam.num_exposures', 'cam.num_images', 'cam.trigger_mode', 'stats1', 'stats1.centroid', 'stats1.centroid.x', 'stats1.centroid.y', 'stats2', 'stats2.centroid', 'stats2.centroid.x', 'stats2.centroid.y', 'stats3', 'stats3.centroid', 'stats3.centroid.x', 'stats3.centroid.y', 'stats4', 'stats4.centroid', 'stats4.centroid.x', 'stats4.centroid.y', 'stats5', 'stats5.centroid', 'stats5.centroid.x', 'stats5.centroid.y']),\n",
       " 'cam_fs2': StandardProsilica(prefix='XF:17IDA-BI:FMX{FS:2-Cam:1}', name='cam_fs2', read_attrs=['stats1', 'stats1.centroid', 'stats1.total', 'stats2', 'stats2.centroid', 'stats2.total', 'stats3', 'stats3.centroid', 'stats3.total', 'stats4', 'stats4.centroid', 'stats4.centroid.x', 'stats4.centroid.y', 'stats4.total', 'stats5', 'stats5.centroid', 'stats5.total'], configuration_attrs=['cam', 'cam.acquire_period', 'cam.acquire_time', 'cam.image_mode', 'cam.manufacturer', 'cam.model', 'cam.num_exposures', 'cam.num_images', 'cam.trigger_mode', 'stats1', 'stats1.centroid', 'stats1.centroid.x', 'stats1.centroid.y', 'stats2', 'stats2.centroid', 'stats2.centroid.x', 'stats2.centroid.y', 'stats3', 'stats3.centroid', 'stats3.centroid.x', 'stats3.centroid.y', 'stats4', 'stats4.centroid', 'stats4.centroid.x', 'stats4.centroid.y', 'stats5', 'stats5.centroid', 'stats5.centroid.x', 'stats5.centroid.y']),\n",
       " 'cam_fs3': StandardProsilica(prefix='XF:17IDA-BI:FMX{FS:3-Cam:1}', name='cam_fs3', read_attrs=['stats1', 'stats1.centroid', 'stats1.total', 'stats2', 'stats2.centroid', 'stats2.total', 'stats3', 'stats3.centroid', 'stats3.total', 'stats4', 'stats4.centroid', 'stats4.centroid.x', 'stats4.centroid.y', 'stats4.total', 'stats5', 'stats5.centroid', 'stats5.total'], configuration_attrs=['cam', 'cam.acquire_period', 'cam.acquire_time', 'cam.image_mode', 'cam.manufacturer', 'cam.model', 'cam.num_exposures', 'cam.num_images', 'cam.trigger_mode', 'stats1', 'stats1.centroid', 'stats1.centroid.x', 'stats1.centroid.y', 'stats2', 'stats2.centroid', 'stats2.centroid.x', 'stats2.centroid.y', 'stats3', 'stats3.centroid', 'stats3.centroid.x', 'stats3.centroid.y', 'stats4', 'stats4.centroid', 'stats4.centroid.x', 'stats4.centroid.y', 'stats5', 'stats5.centroid', 'stats5.centroid.x', 'stats5.centroid.y']),\n",
       " 'cam_fs4': StandardProsilica(prefix='XF:17IDC-BI:FMX{FS:4-Cam:1}', name='cam_fs4', read_attrs=['stats1', 'stats1.centroid', 'stats1.total', 'stats2', 'stats2.centroid', 'stats2.total', 'stats3', 'stats3.centroid', 'stats3.total', 'stats4', 'stats4.centroid', 'stats4.centroid.x', 'stats4.centroid.y', 'stats4.total', 'stats5', 'stats5.centroid', 'stats5.total'], configuration_attrs=['cam', 'cam.acquire_period', 'cam.acquire_time', 'cam.image_mode', 'cam.manufacturer', 'cam.model', 'cam.num_exposures', 'cam.num_images', 'cam.trigger_mode', 'stats1', 'stats1.centroid', 'stats1.centroid.x', 'stats1.centroid.y', 'stats2', 'stats2.centroid', 'stats2.centroid.x', 'stats2.centroid.y', 'stats3', 'stats3.centroid', 'stats3.centroid.x', 'stats3.centroid.y', 'stats4', 'stats4.centroid', 'stats4.centroid.x', 'stats4.centroid.y', 'stats5', 'stats5.centroid', 'stats5.centroid.x', 'stats5.centroid.y']),\n",
       " 'cam_fs5': StandardProsilica(prefix='XF:17IDC-BI:FMX{FS:5-Cam:1}', name='cam_fs5', read_attrs=['stats1', 'stats1.centroid', 'stats1.total', 'stats2', 'stats2.centroid', 'stats2.total', 'stats3', 'stats3.centroid', 'stats3.total', 'stats4', 'stats4.centroid', 'stats4.centroid.x', 'stats4.centroid.y', 'stats4.total', 'stats5', 'stats5.centroid', 'stats5.total'], configuration_attrs=['cam', 'cam.acquire_period', 'cam.acquire_time', 'cam.image_mode', 'cam.manufacturer', 'cam.model', 'cam.num_exposures', 'cam.num_images', 'cam.trigger_mode', 'stats1', 'stats1.centroid', 'stats1.centroid.x', 'stats1.centroid.y', 'stats2', 'stats2.centroid', 'stats2.centroid.x', 'stats2.centroid.y', 'stats3', 'stats3.centroid', 'stats3.centroid.x', 'stats3.centroid.y', 'stats4', 'stats4.centroid', 'stats4.centroid.x', 'stats4.centroid.y', 'stats5', 'stats5.centroid', 'stats5.centroid.x', 'stats5.centroid.y']),\n",
       " 'cam_7': StandardProsilica(prefix='XF:17IDC-ES:FMX{Cam:7}', name='cam_7', read_attrs=['stats1', 'stats1.centroid', 'stats1.total', 'stats2', 'stats2.centroid', 'stats2.total', 'stats3', 'stats3.centroid', 'stats3.total', 'stats4', 'stats4.centroid', 'stats4.centroid.x', 'stats4.centroid.y', 'stats4.total', 'stats5', 'stats5.centroid', 'stats5.total'], configuration_attrs=['cam', 'cam.acquire_period', 'cam.acquire_time', 'cam.image_mode', 'cam.manufacturer', 'cam.model', 'cam.num_exposures', 'cam.num_images', 'cam.trigger_mode', 'stats1', 'stats1.centroid', 'stats1.centroid.x', 'stats1.centroid.y', 'stats2', 'stats2.centroid', 'stats2.centroid.x', 'stats2.centroid.y', 'stats3', 'stats3.centroid', 'stats3.centroid.x', 'stats3.centroid.y', 'stats4', 'stats4.centroid', 'stats4.centroid.x', 'stats4.centroid.y', 'stats5', 'stats5.centroid', 'stats5.centroid.x', 'stats5.centroid.y']),\n",
       " 'cam_8': StandardProsilica(prefix='XF:17IDC-ES:FMX{Cam:8}', name='cam_8', read_attrs=['stats1', 'stats1.centroid', 'stats1.total', 'stats2', 'stats2.centroid', 'stats2.total', 'stats3', 'stats3.centroid', 'stats3.total', 'stats4', 'stats4.centroid', 'stats4.centroid.x', 'stats4.centroid.y', 'stats4.total', 'stats5', 'stats5.centroid', 'stats5.total'], configuration_attrs=['cam', 'cam.acquire_period', 'cam.acquire_time', 'cam.image_mode', 'cam.manufacturer', 'cam.model', 'cam.num_exposures', 'cam.num_images', 'cam.trigger_mode', 'stats1', 'stats1.centroid', 'stats1.centroid.x', 'stats1.centroid.y', 'stats2', 'stats2.centroid', 'stats2.centroid.x', 'stats2.centroid.y', 'stats3', 'stats3.centroid', 'stats3.centroid.x', 'stats3.centroid.y', 'stats4', 'stats4.centroid', 'stats4.centroid.x', 'stats4.centroid.y', 'stats5', 'stats5.centroid', 'stats5.centroid.x', 'stats5.centroid.y']),\n",
       " 'all_standard_pros': [StandardProsilica(prefix='XF:17IDA-BI:FMX{FS:1-Cam:1}', name='cam_fs1', read_attrs=['stats1', 'stats1.centroid', 'stats1.total', 'stats2', 'stats2.centroid', 'stats2.total', 'stats3', 'stats3.centroid', 'stats3.total', 'stats4', 'stats4.centroid', 'stats4.centroid.x', 'stats4.centroid.y', 'stats4.total', 'stats5', 'stats5.centroid', 'stats5.total'], configuration_attrs=['cam', 'cam.acquire_period', 'cam.acquire_time', 'cam.image_mode', 'cam.manufacturer', 'cam.model', 'cam.num_exposures', 'cam.num_images', 'cam.trigger_mode', 'stats1', 'stats1.centroid', 'stats1.centroid.x', 'stats1.centroid.y', 'stats2', 'stats2.centroid', 'stats2.centroid.x', 'stats2.centroid.y', 'stats3', 'stats3.centroid', 'stats3.centroid.x', 'stats3.centroid.y', 'stats4', 'stats4.centroid', 'stats4.centroid.x', 'stats4.centroid.y', 'stats5', 'stats5.centroid', 'stats5.centroid.x', 'stats5.centroid.y']),\n",
       "  StandardProsilica(prefix='XF:17IDA-BI:FMX{Mono:DCM-Cam:1}', name='cam_mono', read_attrs=['stats1', 'stats1.centroid', 'stats1.total', 'stats2', 'stats2.centroid', 'stats2.total', 'stats3', 'stats3.centroid', 'stats3.total', 'stats4', 'stats4.centroid', 'stats4.centroid.x', 'stats4.centroid.y', 'stats4.total', 'stats5', 'stats5.centroid', 'stats5.total'], configuration_attrs=['cam', 'cam.acquire_period', 'cam.acquire_time', 'cam.image_mode', 'cam.manufacturer', 'cam.model', 'cam.num_exposures', 'cam.num_images', 'cam.trigger_mode', 'stats1', 'stats1.centroid', 'stats1.centroid.x', 'stats1.centroid.y', 'stats2', 'stats2.centroid', 'stats2.centroid.x', 'stats2.centroid.y', 'stats3', 'stats3.centroid', 'stats3.centroid.x', 'stats3.centroid.y', 'stats4', 'stats4.centroid', 'stats4.centroid.x', 'stats4.centroid.y', 'stats5', 'stats5.centroid', 'stats5.centroid.x', 'stats5.centroid.y']),\n",
       "  StandardProsilica(prefix='XF:17IDA-BI:FMX{FS:2-Cam:1}', name='cam_fs2', read_attrs=['stats1', 'stats1.centroid', 'stats1.total', 'stats2', 'stats2.centroid', 'stats2.total', 'stats3', 'stats3.centroid', 'stats3.total', 'stats4', 'stats4.centroid', 'stats4.centroid.x', 'stats4.centroid.y', 'stats4.total', 'stats5', 'stats5.centroid', 'stats5.total'], configuration_attrs=['cam', 'cam.acquire_period', 'cam.acquire_time', 'cam.image_mode', 'cam.manufacturer', 'cam.model', 'cam.num_exposures', 'cam.num_images', 'cam.trigger_mode', 'stats1', 'stats1.centroid', 'stats1.centroid.x', 'stats1.centroid.y', 'stats2', 'stats2.centroid', 'stats2.centroid.x', 'stats2.centroid.y', 'stats3', 'stats3.centroid', 'stats3.centroid.x', 'stats3.centroid.y', 'stats4', 'stats4.centroid', 'stats4.centroid.x', 'stats4.centroid.y', 'stats5', 'stats5.centroid', 'stats5.centroid.x', 'stats5.centroid.y']),\n",
       "  StandardProsilica(prefix='XF:17IDA-BI:FMX{FS:3-Cam:1}', name='cam_fs3', read_attrs=['stats1', 'stats1.centroid', 'stats1.total', 'stats2', 'stats2.centroid', 'stats2.total', 'stats3', 'stats3.centroid', 'stats3.total', 'stats4', 'stats4.centroid', 'stats4.centroid.x', 'stats4.centroid.y', 'stats4.total', 'stats5', 'stats5.centroid', 'stats5.total'], configuration_attrs=['cam', 'cam.acquire_period', 'cam.acquire_time', 'cam.image_mode', 'cam.manufacturer', 'cam.model', 'cam.num_exposures', 'cam.num_images', 'cam.trigger_mode', 'stats1', 'stats1.centroid', 'stats1.centroid.x', 'stats1.centroid.y', 'stats2', 'stats2.centroid', 'stats2.centroid.x', 'stats2.centroid.y', 'stats3', 'stats3.centroid', 'stats3.centroid.x', 'stats3.centroid.y', 'stats4', 'stats4.centroid', 'stats4.centroid.x', 'stats4.centroid.y', 'stats5', 'stats5.centroid', 'stats5.centroid.x', 'stats5.centroid.y']),\n",
       "  StandardProsilica(prefix='XF:17IDC-BI:FMX{FS:4-Cam:1}', name='cam_fs4', read_attrs=['stats1', 'stats1.centroid', 'stats1.total', 'stats2', 'stats2.centroid', 'stats2.total', 'stats3', 'stats3.centroid', 'stats3.total', 'stats4', 'stats4.centroid', 'stats4.centroid.x', 'stats4.centroid.y', 'stats4.total', 'stats5', 'stats5.centroid', 'stats5.total'], configuration_attrs=['cam', 'cam.acquire_period', 'cam.acquire_time', 'cam.image_mode', 'cam.manufacturer', 'cam.model', 'cam.num_exposures', 'cam.num_images', 'cam.trigger_mode', 'stats1', 'stats1.centroid', 'stats1.centroid.x', 'stats1.centroid.y', 'stats2', 'stats2.centroid', 'stats2.centroid.x', 'stats2.centroid.y', 'stats3', 'stats3.centroid', 'stats3.centroid.x', 'stats3.centroid.y', 'stats4', 'stats4.centroid', 'stats4.centroid.x', 'stats4.centroid.y', 'stats5', 'stats5.centroid', 'stats5.centroid.x', 'stats5.centroid.y']),\n",
       "  StandardProsilica(prefix='XF:17IDC-BI:FMX{FS:5-Cam:1}', name='cam_fs5', read_attrs=['stats1', 'stats1.centroid', 'stats1.total', 'stats2', 'stats2.centroid', 'stats2.total', 'stats3', 'stats3.centroid', 'stats3.total', 'stats4', 'stats4.centroid', 'stats4.centroid.x', 'stats4.centroid.y', 'stats4.total', 'stats5', 'stats5.centroid', 'stats5.total'], configuration_attrs=['cam', 'cam.acquire_period', 'cam.acquire_time', 'cam.image_mode', 'cam.manufacturer', 'cam.model', 'cam.num_exposures', 'cam.num_images', 'cam.trigger_mode', 'stats1', 'stats1.centroid', 'stats1.centroid.x', 'stats1.centroid.y', 'stats2', 'stats2.centroid', 'stats2.centroid.x', 'stats2.centroid.y', 'stats3', 'stats3.centroid', 'stats3.centroid.x', 'stats3.centroid.y', 'stats4', 'stats4.centroid', 'stats4.centroid.x', 'stats4.centroid.y', 'stats5', 'stats5.centroid', 'stats5.centroid.x', 'stats5.centroid.y']),\n",
       "  StandardProsilica(prefix='XF:17IDC-ES:FMX{Cam:7}', name='cam_7', read_attrs=['stats1', 'stats1.centroid', 'stats1.total', 'stats2', 'stats2.centroid', 'stats2.total', 'stats3', 'stats3.centroid', 'stats3.total', 'stats4', 'stats4.centroid', 'stats4.centroid.x', 'stats4.centroid.y', 'stats4.total', 'stats5', 'stats5.centroid', 'stats5.total'], configuration_attrs=['cam', 'cam.acquire_period', 'cam.acquire_time', 'cam.image_mode', 'cam.manufacturer', 'cam.model', 'cam.num_exposures', 'cam.num_images', 'cam.trigger_mode', 'stats1', 'stats1.centroid', 'stats1.centroid.x', 'stats1.centroid.y', 'stats2', 'stats2.centroid', 'stats2.centroid.x', 'stats2.centroid.y', 'stats3', 'stats3.centroid', 'stats3.centroid.x', 'stats3.centroid.y', 'stats4', 'stats4.centroid', 'stats4.centroid.x', 'stats4.centroid.y', 'stats5', 'stats5.centroid', 'stats5.centroid.x', 'stats5.centroid.y']),\n",
       "  StandardProsilica(prefix='XF:17IDC-ES:FMX{Cam:8}', name='cam_8', read_attrs=['stats1', 'stats1.centroid', 'stats1.total', 'stats2', 'stats2.centroid', 'stats2.total', 'stats3', 'stats3.centroid', 'stats3.total', 'stats4', 'stats4.centroid', 'stats4.centroid.x', 'stats4.centroid.y', 'stats4.total', 'stats5', 'stats5.centroid', 'stats5.total'], configuration_attrs=['cam', 'cam.acquire_period', 'cam.acquire_time', 'cam.image_mode', 'cam.manufacturer', 'cam.model', 'cam.num_exposures', 'cam.num_images', 'cam.trigger_mode', 'stats1', 'stats1.centroid', 'stats1.centroid.x', 'stats1.centroid.y', 'stats2', 'stats2.centroid', 'stats2.centroid.x', 'stats2.centroid.y', 'stats3', 'stats3.centroid', 'stats3.centroid.x', 'stats3.centroid.y', 'stats4', 'stats4.centroid', 'stats4.centroid.x', 'stats4.centroid.y', 'stats5', 'stats5.centroid', 'stats5.centroid.x', 'stats5.centroid.y'])],\n",
       " 'camera': StandardProsilica(prefix='XF:17IDC-ES:FMX{Cam:8}', name='cam_8', read_attrs=['stats1', 'stats1.centroid', 'stats1.total', 'stats2', 'stats2.centroid', 'stats2.total', 'stats3', 'stats3.centroid', 'stats3.total', 'stats4', 'stats4.centroid', 'stats4.centroid.x', 'stats4.centroid.y', 'stats4.total', 'stats5', 'stats5.centroid', 'stats5.total'], configuration_attrs=['cam', 'cam.acquire_period', 'cam.acquire_time', 'cam.image_mode', 'cam.manufacturer', 'cam.model', 'cam.num_exposures', 'cam.num_images', 'cam.trigger_mode', 'stats1', 'stats1.centroid', 'stats1.centroid.x', 'stats1.centroid.y', 'stats2', 'stats2.centroid', 'stats2.centroid.x', 'stats2.centroid.y', 'stats3', 'stats3.centroid', 'stats3.centroid.x', 'stats3.centroid.y', 'stats4', 'stats4.centroid', 'stats4.centroid.x', 'stats4.centroid.y', 'stats5', 'stats5.centroid', 'stats5.centroid.x', 'stats5.centroid.y']),\n",
       " 'keithley': EpicsSignalRO(read_pv='XF:17IDC-BI:FMX{Keith:1}readFloat', name='keithley', timestamp=1603572471.715896, auto_monitor=False, string=False),\n",
       " 'Bpm': __main__.Bpm,\n",
       " 'Xbpm': __main__.Xbpm,\n",
       " 'Best': __main__.Best,\n",
       " 'bpm1': Bpm(prefix='XF:17IDA-BI:FMX{BPM:1}', name='bpm1', read_attrs=['x', 'y', 'a', 'b', 'c', 'd', 'sum_x', 'sum_y', 'sum_all'], configuration_attrs=[]),\n",
       " 'bpm4': Bpm(prefix='XF:17IDC-BI:FMX{BPM:4}', name='bpm4', read_attrs=['x', 'y', 'a', 'b', 'c', 'd', 'sum_x', 'sum_y', 'sum_all'], configuration_attrs=[]),\n",
       " 'xbpm2': Xbpm(prefix='SR:C17-BI{XBPM:2}', name='xbpm2', read_attrs=['x', 'y', 'a', 'b', 'c', 'd', 'total'], configuration_attrs=[]),\n",
       " 'EpicsMCA': ophyd.mca.EpicsMCA,\n",
       " 'EpicsDXP': ophyd.mca.EpicsDXP,\n",
       " 'Mercury1': ophyd.mca.Mercury1,\n",
       " 'SoftDXPTrigger': ophyd.mca.SoftDXPTrigger,\n",
       " 'Signal': ophyd.signal.Signal,\n",
       " 'FMXMercury': __main__.FMXMercury,\n",
       " 'mercury': FMXMercury(prefix='XF:17IDC-ES:FMX{Det:Mer}', name='mercury', read_attrs=['mca', 'mca.preset_live_time', 'mca.spectrum', 'mca.rois', 'mca.rois.roi0', 'mca.rois.roi0.count'], configuration_attrs=['dxp', 'mca', 'mca.preset_real_time', 'mca.rois', 'mca.rois.roi0']),\n",
       " 'Transmission': __main__.Transmission,\n",
       " 'AttenuatorLUT': __main__.AttenuatorLUT,\n",
       " 'AttenuatorBCU': __main__.AttenuatorBCU,\n",
       " 'RISlider': __main__.RISlider,\n",
       " 'AttenuatorRI': __main__.AttenuatorRI,\n",
       " 'Transfocator': __main__.Transfocator,\n",
       " 'trans_bcu': Transmission(prefix='XF:17IDC-OP:FMX{Attn:BCU}', name='trans_bcu', read_attrs=['transmission'], configuration_attrs=[]),\n",
       " 'trans_ri': Transmission(prefix='XF:17IDC-OP:FMX{Attn:RI}', name='trans_ri', read_attrs=['transmission'], configuration_attrs=[]),\n",
       " 'atten': AttenuatorLUT(prefix='XF:17IDC-OP:FMX{Attn:BCU', name='atten', read_attrs=['done'], configuration_attrs=[]),\n",
       " 'atten_bcu': AttenuatorBCU(prefix='XF:17IDC-OP:FMX{Attn:BCU', name='atten_bcu', read_attrs=['a1', 'a1.user_readback', 'a1.user_setpoint', 'a2', 'a2.user_readback', 'a2.user_setpoint', 'a3', 'a3.user_readback', 'a3.user_setpoint', 'a4', 'a4.user_readback', 'a4.user_setpoint', 'done'], configuration_attrs=['a1', 'a1.user_offset', 'a1.user_offset_dir', 'a1.velocity', 'a1.acceleration', 'a1.motor_egu', 'a2', 'a2.user_offset', 'a2.user_offset_dir', 'a2.velocity', 'a2.acceleration', 'a2.motor_egu', 'a3', 'a3.user_offset', 'a3.user_offset_dir', 'a3.velocity', 'a3.acceleration', 'a3.motor_egu', 'a4', 'a4.user_offset', 'a4.user_offset_dir', 'a4.velocity', 'a4.acceleration', 'a4.motor_egu']),\n",
       " 'atten_ri': AttenuatorRI(prefix='XF:17IDC-OP:FMX{Attn:', name='atten_ri', read_attrs=[], configuration_attrs=[]),\n",
       " 'transfocator': Transfocator(prefix='XF:17IDC-OP:FMX{CRL:', name='transfocator', read_attrs=[], configuration_attrs=[]),\n",
       " 'DeviceStatus': ophyd.status.DeviceStatus,\n",
       " 'PBSignalWithRBV': __main__.PBSignalWithRBV,\n",
       " 'PowerBrickVectorMotor': __main__.PowerBrickVectorMotor,\n",
       " 'PowerBrickVectorBase': __main__.PowerBrickVectorBase,\n",
       " 'PowerBrickVector': __main__.PowerBrickVector,\n",
       " 'pb_vector': PowerBrickVector(prefix='XF:17IDC-ES:FMX{Gon:1-Vec}', name='pb_vector', read_attrs=['x', 'x.start', 'x.end', 'y', 'y.start', 'y.end', 'z', 'z.start', 'z.end', 'o', 'o.start', 'o.end', 'exposure', 'num_samples', 'expose', 'hold', 'state', 'running', 'go', 'proceed', 'abort', 'sync'], configuration_attrs=['x', 'x.start', 'x.end', 'y', 'y.start', 'y.end', 'z', 'z.start', 'z.end', 'o', 'o.start', 'o.end', 'exposure', 'num_samples', 'expose', 'hold']),\n",
       " 'IntEnum': <enum 'IntEnum'>,\n",
       " 'FC': ophyd.device.FormattedComponent,\n",
       " 'pd': <module 'pandas' from '/opt/conda_envs/collection-2020-2.0rc8/lib/python3.7/site-packages/pandas/__init__.py'>,\n",
       " 'dt': <module 'datetime' from '/opt/conda_envs/collection-2020-2.0rc8/lib/python3.7/datetime.py'>,\n",
       " 'ZebraInputEdge': <enum 'ZebraInputEdge'>,\n",
       " 'ZebraAddresses': <enum 'ZebraAddresses'>,\n",
       " 'ZebraSignalWithRBV': __main__.ZebraSignalWithRBV,\n",
       " 'ZebraPulse': __main__.ZebraPulse,\n",
       " 'ZebraOutputBase': __main__.ZebraOutputBase,\n",
       " 'ZebraOutputType': __main__.ZebraOutputType,\n",
       " 'ZebraFrontOutput12': __main__.ZebraFrontOutput12,\n",
       " 'ZebraFrontOutput3': __main__.ZebraFrontOutput3,\n",
       " 'ZebraFrontOutput4': __main__.ZebraFrontOutput4,\n",
       " 'ZebraRearOutput': __main__.ZebraRearOutput,\n",
       " 'ZebraEncoder': __main__.ZebraEncoder,\n",
       " 'ZebraGateInput': __main__.ZebraGateInput,\n",
       " 'ZebraGate': __main__.ZebraGate,\n",
       " 'ZebraPositionCaptureDeviceBase': __main__.ZebraPositionCaptureDeviceBase,\n",
       " 'ZebraPositionCaptureArm': __main__.ZebraPositionCaptureArm,\n",
       " 'ZebraPositionCaptureGate': __main__.ZebraPositionCaptureGate,\n",
       " 'ZebraPositionCapturePulse': __main__.ZebraPositionCapturePulse,\n",
       " 'ZebraPositionCaptureData': __main__.ZebraPositionCaptureData,\n",
       " 'ZebraPositionCapture': __main__.ZebraPositionCapture,\n",
       " 'ZebraBase': __main__.ZebraBase,\n",
       " 'Zebra': __main__.Zebra,\n",
       " 'zebra1': Zebra(prefix='XF:17IDA-ES:FMX{Zeb:1}:', name='zebra1', read_attrs=[], configuration_attrs=['soft_input1', 'soft_input2', 'soft_input3', 'soft_input4', 'pulse1', 'pulse1.width', 'pulse1.input_addr', 'pulse1.input_str', 'pulse1.input_status', 'pulse1.delay', 'pulse1.delay_sync', 'pulse1.time_units', 'pulse1.output', 'pulse1.input_edge', 'pulse2', 'pulse2.width', 'pulse2.input_addr', 'pulse2.input_str', 'pulse2.input_status', 'pulse2.delay', 'pulse2.delay_sync', 'pulse2.time_units', 'pulse2.output', 'pulse2.input_edge', 'pulse3', 'pulse3.width', 'pulse3.input_addr', 'pulse3.input_str', 'pulse3.input_status', 'pulse3.delay', 'pulse3.delay_sync', 'pulse3.time_units', 'pulse3.output', 'pulse3.input_edge', 'pulse4', 'pulse4.width', 'pulse4.input_addr', 'pulse4.input_str', 'pulse4.input_status', 'pulse4.delay', 'pulse4.delay_sync', 'pulse4.time_units', 'pulse4.output', 'pulse4.input_edge', 'output1', 'output1.ttl', 'output1.ttl.addr', 'output1.lvds', 'output1.lvds.addr', 'output1.nim', 'output1.nim.addr', 'output2', 'output2.ttl', 'output2.ttl.addr', 'output2.lvds', 'output2.lvds.addr', 'output2.nim', 'output2.nim.addr', 'output3', 'output3.ttl', 'output3.ttl.addr', 'output3.lvds', 'output3.lvds.addr', 'output3.open_collector', 'output3.open_collector.addr', 'output4', 'output4.ttl', 'output4.ttl.addr', 'output4.nim', 'output4.nim.addr', 'output4.pecl', 'output4.pecl.addr', 'output5', 'output5.enca', 'output5.enca.addr', 'output5.encb', 'output5.encb.addr', 'output5.encz', 'output5.encz.addr', 'output5.conn', 'output5.conn.addr', 'output6', 'output6.enca', 'output6.enca.addr', 'output6.encb', 'output6.encb.addr', 'output6.encz', 'output6.encz.addr', 'output6.conn', 'output6.conn.addr', 'output7', 'output7.enca', 'output7.enca.addr', 'output7.encb', 'output7.encb.addr', 'output7.encz', 'output7.encz.addr', 'output7.conn', 'output7.conn.addr', 'output8', 'output8.enca', 'output8.enca.addr', 'output8.encb', 'output8.encb.addr', 'output8.encz', 'output8.encz.addr', 'output8.conn', 'output8.conn.addr', 'gate1', 'gate1.input1', 'gate1.input1.addr', 'gate1.input1.edge', 'gate1.input2', 'gate1.input2.addr', 'gate1.input2.edge', 'gate2', 'gate2.input1', 'gate2.input1.addr', 'gate2.input1.edge', 'gate2.input2', 'gate2.input2.addr', 'gate2.input2.edge', 'gate3', 'gate3.input1', 'gate3.input1.addr', 'gate3.input1.edge', 'gate3.input2', 'gate3.input2.addr', 'gate3.input2.edge', 'gate4', 'gate4.input1', 'gate4.input1.addr', 'gate4.input1.edge', 'gate4.input2', 'gate4.input2.addr', 'gate4.input2.edge', 'encoder1', 'encoder1.encoder_res', 'encoder1.encoder_off', 'encoder2', 'encoder2.encoder_res', 'encoder2.encoder_off', 'encoder3', 'encoder3.encoder_res', 'encoder3.encoder_off', 'encoder4', 'encoder4.encoder_res', 'encoder4.encoder_off', 'pos_capt', 'pos_capt.source', 'pos_capt.direction', 'pos_capt.time_units', 'pos_capt.arm', 'pos_capt.gate', 'pos_capt.gate.source', 'pos_capt.gate.input_addr', 'pos_capt.gate.input_str', 'pos_capt.gate.input_status', 'pos_capt.gate.output', 'pos_capt.gate.num_gates', 'pos_capt.gate.start', 'pos_capt.gate.width', 'pos_capt.gate.step', 'pos_capt.pulse', 'pos_capt.pulse.source', 'pos_capt.pulse.input_addr', 'pos_capt.pulse.input_str', 'pos_capt.pulse.input_status', 'pos_capt.pulse.output', 'pos_capt.pulse.max_pulses', 'pos_capt.pulse.start', 'pos_capt.pulse.width', 'pos_capt.pulse.step', 'pos_capt.pulse.delay', 'pos_capt.capture_enc1', 'pos_capt.capture_enc2', 'pos_capt.capture_enc3', 'pos_capt.capture_enc4', 'pos_capt.capture_sys1', 'pos_capt.capture_sys2', 'pos_capt.capture_div1', 'pos_capt.capture_div2', 'pos_capt.capture_div3', 'pos_capt.capture_div4', 'pos_capt.data']),\n",
       " 'zebra2': Zebra(prefix='XF:17IDC-ES:FMX{Zeb:2}:', name='zebra2', read_attrs=[], configuration_attrs=['soft_input1', 'soft_input2', 'soft_input3', 'soft_input4', 'pulse1', 'pulse1.width', 'pulse1.input_addr', 'pulse1.input_str', 'pulse1.input_status', 'pulse1.delay', 'pulse1.delay_sync', 'pulse1.time_units', 'pulse1.output', 'pulse1.input_edge', 'pulse2', 'pulse2.width', 'pulse2.input_addr', 'pulse2.input_str', 'pulse2.input_status', 'pulse2.delay', 'pulse2.delay_sync', 'pulse2.time_units', 'pulse2.output', 'pulse2.input_edge', 'pulse3', 'pulse3.width', 'pulse3.input_addr', 'pulse3.input_str', 'pulse3.input_status', 'pulse3.delay', 'pulse3.delay_sync', 'pulse3.time_units', 'pulse3.output', 'pulse3.input_edge', 'pulse4', 'pulse4.width', 'pulse4.input_addr', 'pulse4.input_str', 'pulse4.input_status', 'pulse4.delay', 'pulse4.delay_sync', 'pulse4.time_units', 'pulse4.output', 'pulse4.input_edge', 'output1', 'output1.ttl', 'output1.ttl.addr', 'output1.lvds', 'output1.lvds.addr', 'output1.nim', 'output1.nim.addr', 'output2', 'output2.ttl', 'output2.ttl.addr', 'output2.lvds', 'output2.lvds.addr', 'output2.nim', 'output2.nim.addr', 'output3', 'output3.ttl', 'output3.ttl.addr', 'output3.lvds', 'output3.lvds.addr', 'output3.open_collector', 'output3.open_collector.addr', 'output4', 'output4.ttl', 'output4.ttl.addr', 'output4.nim', 'output4.nim.addr', 'output4.pecl', 'output4.pecl.addr', 'output5', 'output5.enca', 'output5.enca.addr', 'output5.encb', 'output5.encb.addr', 'output5.encz', 'output5.encz.addr', 'output5.conn', 'output5.conn.addr', 'output6', 'output6.enca', 'output6.enca.addr', 'output6.encb', 'output6.encb.addr', 'output6.encz', 'output6.encz.addr', 'output6.conn', 'output6.conn.addr', 'output7', 'output7.enca', 'output7.enca.addr', 'output7.encb', 'output7.encb.addr', 'output7.encz', 'output7.encz.addr', 'output7.conn', 'output7.conn.addr', 'output8', 'output8.enca', 'output8.enca.addr', 'output8.encb', 'output8.encb.addr', 'output8.encz', 'output8.encz.addr', 'output8.conn', 'output8.conn.addr', 'gate1', 'gate1.input1', 'gate1.input1.addr', 'gate1.input1.edge', 'gate1.input2', 'gate1.input2.addr', 'gate1.input2.edge', 'gate2', 'gate2.input1', 'gate2.input1.addr', 'gate2.input1.edge', 'gate2.input2', 'gate2.input2.addr', 'gate2.input2.edge', 'gate3', 'gate3.input1', 'gate3.input1.addr', 'gate3.input1.edge', 'gate3.input2', 'gate3.input2.addr', 'gate3.input2.edge', 'gate4', 'gate4.input1', 'gate4.input1.addr', 'gate4.input1.edge', 'gate4.input2', 'gate4.input2.addr', 'gate4.input2.edge', 'encoder1', 'encoder1.encoder_res', 'encoder1.encoder_off', 'encoder2', 'encoder2.encoder_res', 'encoder2.encoder_off', 'encoder3', 'encoder3.encoder_res', 'encoder3.encoder_off', 'encoder4', 'encoder4.encoder_res', 'encoder4.encoder_off', 'pos_capt', 'pos_capt.source', 'pos_capt.direction', 'pos_capt.time_units', 'pos_capt.arm', 'pos_capt.gate', 'pos_capt.gate.source', 'pos_capt.gate.input_addr', 'pos_capt.gate.input_str', 'pos_capt.gate.input_status', 'pos_capt.gate.output', 'pos_capt.gate.num_gates', 'pos_capt.gate.start', 'pos_capt.gate.width', 'pos_capt.gate.step', 'pos_capt.pulse', 'pos_capt.pulse.source', 'pos_capt.pulse.input_addr', 'pos_capt.pulse.input_str', 'pos_capt.pulse.input_status', 'pos_capt.pulse.output', 'pos_capt.pulse.max_pulses', 'pos_capt.pulse.start', 'pos_capt.pulse.width', 'pos_capt.pulse.step', 'pos_capt.pulse.delay', 'pos_capt.capture_enc1', 'pos_capt.capture_enc2', 'pos_capt.capture_enc3', 'pos_capt.capture_enc4', 'pos_capt.capture_sys1', 'pos_capt.capture_sys2', 'pos_capt.capture_div1', 'pos_capt.capture_div2', 'pos_capt.capture_div3', 'pos_capt.capture_div4', 'pos_capt.data']),\n",
       " 'zebra3': Zebra(prefix='XF:17IDC-ES:FMX{Zeb:3}:', name='zebra3', read_attrs=[], configuration_attrs=['soft_input1', 'soft_input2', 'soft_input3', 'soft_input4', 'pulse1', 'pulse1.width', 'pulse1.input_addr', 'pulse1.input_str', 'pulse1.input_status', 'pulse1.delay', 'pulse1.delay_sync', 'pulse1.time_units', 'pulse1.output', 'pulse1.input_edge', 'pulse2', 'pulse2.width', 'pulse2.input_addr', 'pulse2.input_str', 'pulse2.input_status', 'pulse2.delay', 'pulse2.delay_sync', 'pulse2.time_units', 'pulse2.output', 'pulse2.input_edge', 'pulse3', 'pulse3.width', 'pulse3.input_addr', 'pulse3.input_str', 'pulse3.input_status', 'pulse3.delay', 'pulse3.delay_sync', 'pulse3.time_units', 'pulse3.output', 'pulse3.input_edge', 'pulse4', 'pulse4.width', 'pulse4.input_addr', 'pulse4.input_str', 'pulse4.input_status', 'pulse4.delay', 'pulse4.delay_sync', 'pulse4.time_units', 'pulse4.output', 'pulse4.input_edge', 'output1', 'output1.ttl', 'output1.ttl.addr', 'output1.lvds', 'output1.lvds.addr', 'output1.nim', 'output1.nim.addr', 'output2', 'output2.ttl', 'output2.ttl.addr', 'output2.lvds', 'output2.lvds.addr', 'output2.nim', 'output2.nim.addr', 'output3', 'output3.ttl', 'output3.ttl.addr', 'output3.lvds', 'output3.lvds.addr', 'output3.open_collector', 'output3.open_collector.addr', 'output4', 'output4.ttl', 'output4.ttl.addr', 'output4.nim', 'output4.nim.addr', 'output4.pecl', 'output4.pecl.addr', 'output5', 'output5.enca', 'output5.enca.addr', 'output5.encb', 'output5.encb.addr', 'output5.encz', 'output5.encz.addr', 'output5.conn', 'output5.conn.addr', 'output6', 'output6.enca', 'output6.enca.addr', 'output6.encb', 'output6.encb.addr', 'output6.encz', 'output6.encz.addr', 'output6.conn', 'output6.conn.addr', 'output7', 'output7.enca', 'output7.enca.addr', 'output7.encb', 'output7.encb.addr', 'output7.encz', 'output7.encz.addr', 'output7.conn', 'output7.conn.addr', 'output8', 'output8.enca', 'output8.enca.addr', 'output8.encb', 'output8.encb.addr', 'output8.encz', 'output8.encz.addr', 'output8.conn', 'output8.conn.addr', 'gate1', 'gate1.input1', 'gate1.input1.addr', 'gate1.input1.edge', 'gate1.input2', 'gate1.input2.addr', 'gate1.input2.edge', 'gate2', 'gate2.input1', 'gate2.input1.addr', 'gate2.input1.edge', 'gate2.input2', 'gate2.input2.addr', 'gate2.input2.edge', 'gate3', 'gate3.input1', 'gate3.input1.addr', 'gate3.input1.edge', 'gate3.input2', 'gate3.input2.addr', 'gate3.input2.edge', 'gate4', 'gate4.input1', 'gate4.input1.addr', 'gate4.input1.edge', 'gate4.input2', 'gate4.input2.addr', 'gate4.input2.edge', 'encoder1', 'encoder1.encoder_res', 'encoder1.encoder_off', 'encoder2', 'encoder2.encoder_res', 'encoder2.encoder_off', 'encoder3', 'encoder3.encoder_res', 'encoder3.encoder_off', 'encoder4', 'encoder4.encoder_res', 'encoder4.encoder_off', 'pos_capt', 'pos_capt.source', 'pos_capt.direction', 'pos_capt.time_units', 'pos_capt.arm', 'pos_capt.gate', 'pos_capt.gate.source', 'pos_capt.gate.input_addr', 'pos_capt.gate.input_str', 'pos_capt.gate.input_status', 'pos_capt.gate.output', 'pos_capt.gate.num_gates', 'pos_capt.gate.start', 'pos_capt.gate.width', 'pos_capt.gate.step', 'pos_capt.pulse', 'pos_capt.pulse.source', 'pos_capt.pulse.input_addr', 'pos_capt.pulse.input_str', 'pos_capt.pulse.input_status', 'pos_capt.pulse.output', 'pos_capt.pulse.max_pulses', 'pos_capt.pulse.start', 'pos_capt.pulse.width', 'pos_capt.pulse.step', 'pos_capt.pulse.delay', 'pos_capt.capture_enc1', 'pos_capt.capture_enc2', 'pos_capt.capture_enc3', 'pos_capt.capture_enc4', 'pos_capt.capture_sys1', 'pos_capt.capture_sys2', 'pos_capt.capture_div1', 'pos_capt.capture_div2', 'pos_capt.capture_div3', 'pos_capt.capture_div4', 'pos_capt.data']),\n",
       " 'last_scan_uid': None,\n",
       " 'last_scan_id': None,\n",
       " 'fetch_scan': <function __main__.fetch_scan(**kwargs)>,\n",
       " 'socket': <module 'socket' from '/opt/conda_envs/collection-2020-2.0rc8/lib/python3.7/socket.py'>,\n",
       " 'BeamlineCalibrations': __main__.BeamlineCalibrations,\n",
       " 'BL_calibration': BeamlineCalibrations(prefix='XF:17ID-ES:FMX{Misc-', name='BL_calibration', read_attrs=['LoMagCal', 'HiMagCal'], configuration_attrs=[]),\n",
       " 'blStrGet': <function __main__.blStrGet()>,\n",
       " 'get_energy': <function __main__.get_energy()>,\n",
       " 'epics': <module 'epics' from '/opt/conda_envs/collection-2020-2.0rc8/lib/python3.7/site-packages/epics/__init__.py'>,\n",
       " 'govMsgGet': <function __main__.govMsgGet(configStr='Robot')>,\n",
       " 'govStatusGet': <function __main__.govStatusGet(stateStr, configStr='Robot')>,\n",
       " 'govStateSet': <function __main__.govStateSet(stateStr, configStr='Robot')>,\n",
       " 'govPositionSet': <function __main__.govPositionSet(position, positionerStr, positionTypeStr, configStr='Robot')>,\n",
       " 'govPositionGet': <function __main__.govPositionGet(positionerStr, positionTypeStr, configStr='Robot')>,\n",
       " 'datetime': <module 'datetime' from '/opt/conda_envs/collection-2020-2.0rc8/lib/python3.7/datetime.py'>,\n",
       " 'log_fmx': <function __main__.log_fmx(msgStr)>,\n",
       " 'slit1_flux_reference': <function __main__.slit1_flux_reference(flux_df, slit1Gap)>,\n",
       " 'fmx_flux_reference': <function __main__.fmx_flux_reference(slit1GapList=[2000, 1000, 600, 400], slit1GapDefault=1000)>,\n",
       " 'fmx_beamline_reference': <function __main__.fmx_beamline_reference()>,\n",
       " 'find_peak': <function __main__.find_peak(det, mot, start, stop, steps)>,\n",
       " 'LUT_fmt': 'XF:17ID-ES:FMX{{Misc-LUT:{}}}{}-Wfm',\n",
       " 'LGP_fmt': 'XF:17ID-ES:FMX{{Misc-LGP:{}}}Pos-SP',\n",
       " 'LUT_valid': (EpicsMotor(prefix='SR:C17-ID:G1{IVU21:2-Ax:Gap}-Mtr', name='ivu_gap', parent='ivu', settle_time=0.0, timeout=None, read_attrs=['user_readback', 'user_setpoint'], configuration_attrs=['user_offset', 'user_offset_dir', 'velocity', 'acceleration', 'motor_egu']),\n",
       "  EpicsMotor(prefix='XF:17IDA-OP:FMX{Mono:DCM-Ax:G}Mtr', name='hdcm_g', parent='hdcm', settle_time=0.0, timeout=None, read_attrs=['user_readback', 'user_setpoint'], configuration_attrs=['user_offset', 'user_offset_dir', 'velocity', 'acceleration', 'motor_egu']),\n",
       "  EpicsMotor(prefix='XF:17IDA-OP:FMX{Mono:DCM-Ax:R}Mtr', name='hdcm_r', parent='hdcm', settle_time=0.0, timeout=None, read_attrs=['user_readback', 'user_setpoint'], configuration_attrs=['user_offset', 'user_offset_dir', 'velocity', 'acceleration', 'motor_egu']),\n",
       "  EpicsMotor(prefix='XF:17IDA-OP:FMX{Mono:DCM-Ax:P}Mtr', name='hdcm_p', parent='hdcm', settle_time=0.0, timeout=None, read_attrs=['user_readback', 'user_setpoint'], configuration_attrs=['user_offset', 'user_offset_dir', 'velocity', 'acceleration', 'motor_egu']),\n",
       "  EpicsMotor(prefix='XF:17IDA-OP:FMX{Mir:HFM-Ax:Y}Mtr', name='hfm_y', parent='hfm', settle_time=0.0, timeout=None, read_attrs=['user_readback', 'user_setpoint'], configuration_attrs=['user_offset', 'user_offset_dir', 'velocity', 'acceleration', 'motor_egu']),\n",
       "  EpicsMotor(prefix='XF:17IDA-OP:FMX{Mir:HFM-Ax:X}Mtr', name='hfm_x', parent='hfm', settle_time=0.0, timeout=None, read_attrs=['user_readback', 'user_setpoint'], configuration_attrs=['user_offset', 'user_offset_dir', 'velocity', 'acceleration', 'motor_egu']),\n",
       "  EpicsMotor(prefix='XF:17IDA-OP:FMX{Mir:HFM-Ax:P}Mtr', name='hfm_pitch', parent='hfm', settle_time=0.0, timeout=None, read_attrs=['user_readback', 'user_setpoint'], configuration_attrs=['user_offset', 'user_offset_dir', 'velocity', 'acceleration', 'motor_egu']),\n",
       "  EpicsMotor(prefix='XF:17IDC-OP:FMX{Mir:KBH-Ax:Y}Mtr', name='kbm_hy', parent='kbm', settle_time=0.0, timeout=None, read_attrs=['user_readback', 'user_setpoint'], configuration_attrs=['user_offset', 'user_offset_dir', 'velocity', 'acceleration', 'motor_egu']),\n",
       "  EpicsMotor(prefix='XF:17IDC-OP:FMX{Mir:KBV-Ax:X}Mtr', name='kbm_vx', parent='kbm', settle_time=0.0, timeout=None, read_attrs=['user_readback', 'user_setpoint'], configuration_attrs=['user_offset', 'user_offset_dir', 'velocity', 'acceleration', 'motor_egu']),\n",
       "  AttenuatorLUT(prefix='XF:17IDC-OP:FMX{Attn:BCU', name='atten', read_attrs=['done'], configuration_attrs=[])),\n",
       " 'LGP_valid': (EpicsMotor(prefix='XF:17IDC-OP:FMX{Mir:KBH-Ax:P}Mtr', name='kbm_hp', parent='kbm', settle_time=0.0, timeout=None, read_attrs=['user_readback', 'user_setpoint'], configuration_attrs=['user_offset', 'user_offset_dir', 'velocity', 'acceleration', 'motor_egu']),\n",
       "  EpicsMotor(prefix='XF:17IDC-OP:FMX{Mir:KBH-Ax:X}Mtr', name='kbm_hx', parent='kbm', settle_time=0.0, timeout=None, read_attrs=['user_readback', 'user_setpoint'], configuration_attrs=['user_offset', 'user_offset_dir', 'velocity', 'acceleration', 'motor_egu']),\n",
       "  EpicsMotor(prefix='XF:17IDC-OP:FMX{Mir:KBV-Ax:P}Mtr', name='kbm_vp', parent='kbm', settle_time=0.0, timeout=None, read_attrs=['user_readback', 'user_setpoint'], configuration_attrs=['user_offset', 'user_offset_dir', 'velocity', 'acceleration', 'motor_egu']),\n",
       "  EpicsMotor(prefix='XF:17IDC-OP:FMX{Mir:KBV-Ax:Y}Mtr', name='kbm_vy', parent='kbm', settle_time=0.0, timeout=None, read_attrs=['user_readback', 'user_setpoint'], configuration_attrs=['user_offset', 'user_offset_dir', 'velocity', 'acceleration', 'motor_egu'])),\n",
       " 'LUT_valid_names': ['ivu_gap',\n",
       "  'hdcm_g',\n",
       "  'hdcm_r',\n",
       "  'hdcm_p',\n",
       "  'hfm_y',\n",
       "  'hfm_x',\n",
       "  'hfm_pitch',\n",
       "  'kbm_hy',\n",
       "  'kbm_vx',\n",
       "  'atten',\n",
       "  'ivu_gap_off'],\n",
       " 'LGP_valid_names': ['kbm_hp', 'kbm_hx', 'kbm_vp', 'kbm_vy'],\n",
       " 'read_lut': <function __main__.read_lut(name)>,\n",
       " 'write_lut': <function __main__.write_lut(name, energy, position)>,\n",
       " 'read_lgp': <function __main__.read_lgp(name)>,\n",
       " 'write_lgp': <function __main__.write_lgp(name, position)>,\n",
       " 'setE_motors_FMX': <function __main__.setE_motors_FMX(energy)>,\n",
       " 'dcm_rock': <function __main__.dcm_rock(dcm_p_range=0.03, dcm_p_points=51, logging=True, altDetector=False)>,\n",
       " 'ivu_gap_scan': <function __main__.ivu_gap_scan(start, end, steps, detector=Bpm(prefix='XF:17IDA-BI:FMX{BPM:1}', name='bpm1', read_attrs=['x', 'y', 'a', 'b', 'c', 'd', 'sum_x', 'sum_y', 'sum_all'], configuration_attrs=[]), goToPeak=True)>,\n",
       " 'setE': <function __main__.setE(energy, dcm_p_range=0.03, dcm_p_points=51, altDetector=False, ivuGapStartOff=70, ivuGapEndOff=70, ivuGapSteps=31, transSet='All', beamCenterAlign=True)>,\n",
       " 'hdcm_rock': <function __main__.hdcm_rock(hdcm_p_range=0.03, hdcm_p_points=51, logging=True)>,\n",
       " 'set_energy': <function __main__.set_energy(energy, hdcm_p_range=0.03, hdcm_p_points=51)>,\n",
       " 'centroid_avg': <function __main__.centroid_avg(stats)>,\n",
       " 'detectorCoverClose': <function __main__.detectorCoverClose()>,\n",
       " 'detectorCoverOpen': <function __main__.detectorCoverOpen()>,\n",
       " 'trans_set': <function __main__.trans_set(transmission, trans=Transmission(prefix='XF:17IDC-OP:FMX{Attn:BCU}', name='trans_bcu', read_attrs=['transmission'], configuration_attrs=[]))>,\n",
       " 'trans_get': <function __main__.trans_get(trans=Transmission(prefix='XF:17IDC-OP:FMX{Attn:BCU}', name='trans_bcu', read_attrs=['transmission'], configuration_attrs=[]))>,\n",
       " 'transDefaultGet': <function __main__.transDefaultGet(energy)>,\n",
       " 'beam_center_align': <function __main__.beam_center_align(transSet='All')>,\n",
       " 'center_pin': <function __main__.center_pin(cam=StandardProsilica(prefix='XF:17IDC-ES:FMX{Cam:8}', name='cam_8', read_attrs=['stats1', 'stats1.centroid', 'stats1.total', 'stats2', 'stats2.centroid', 'stats2.total', 'stats3', 'stats3.centroid', 'stats3.total', 'stats4', 'stats4.centroid', 'stats4.centroid.x', 'stats4.centroid.y', 'stats4.total', 'stats5', 'stats5.centroid', 'stats5.total'], configuration_attrs=['cam', 'cam.acquire_period', 'cam.acquire_time', 'cam.image_mode', 'cam.manufacturer', 'cam.model', 'cam.num_exposures', 'cam.num_images', 'cam.trigger_mode', 'stats1', 'stats1.centroid', 'stats1.centroid.x', 'stats1.centroid.y', 'stats2', 'stats2.centroid', 'stats2.centroid.x', 'stats2.centroid.y', 'stats3', 'stats3.centroid', 'stats3.centroid.x', 'stats3.centroid.y', 'stats4', 'stats4.centroid', 'stats4.centroid.x', 'stats4.centroid.y', 'stats5', 'stats5.centroid', 'stats5.centroid.x', 'stats5.centroid.y']))>,\n",
       " 'gonio_axis_align': <function __main__.gonio_axis_align()>,\n",
       " 'simple_ascan': <function __main__.simple_ascan(camera, stats, motor, start, end, steps)>,\n",
       " 'mirror_scan': <function __main__.mirror_scan(mir, start, end, steps, gap=None, speed=None, camera=None, filepath=None, filename=None)>,\n",
       " 'wire_scan': <function __main__.wire_scan(detector, motor, start, stop, steps, sleep_time=1)>,\n",
       " 'focus_scan': <function __main__.focus_scan(steps, step_size=2, speed=None, cam=StandardProsilica(prefix='XF:17IDC-ES:FMX{Cam:7}', name='cam_7', read_attrs=['stats1', 'stats1.centroid', 'stats1.total', 'stats2', 'stats2.centroid', 'stats2.total', 'stats3', 'stats3.centroid', 'stats3.total', 'stats4', 'stats4.centroid', 'stats4.centroid.x', 'stats4.centroid.y', 'stats4.total', 'stats5', 'stats5.centroid', 'stats5.total'], configuration_attrs=['cam', 'cam.acquire_period', 'cam.acquire_time', 'cam.image_mode', 'cam.manufacturer', 'cam.model', 'cam.num_exposures', 'cam.num_images', 'cam.trigger_mode', 'stats1', 'stats1.centroid', 'stats1.centroid.x', 'stats1.centroid.y', 'stats2', 'stats2.centroid', 'stats2.centroid.x', 'stats2.centroid.y', 'stats3', 'stats3.centroid', 'stats3.centroid.x', 'stats3.centroid.y', 'stats4', 'stats4.centroid', 'stats4.centroid.x', 'stats4.centroid.y', 'stats5', 'stats5.centroid', 'stats5.centroid.x', 'stats5.centroid.y']), filename='test', folder='/tmp/', use_roi4=False)>,\n",
       " 'subprocess': <module 'subprocess' from '/opt/conda_envs/collection-2020-2.0rc8/lib/python3.7/subprocess.py'>,\n",
       " 'rfn': <module 'numpy.lib.recfunctions' from '/opt/conda_envs/collection-2020-2.0rc8/lib/python3.7/site-packages/numpy/lib/recfunctions.py'>,\n",
       " 'copyfile': <function shutil.copyfile(src, dst, *, follow_symlinks=True)>,\n",
       " 'fileinput': <module 'fileinput' from '/opt/conda_envs/collection-2020-2.0rc8/lib/python3.7/fileinput.py'>,\n",
       " 'replaceLine': <function __main__.replaceLine(file, searchExp, replaceExp)>,\n",
       " 'run_rd3d': <function __main__.run_rd3d(inputFileName)>,\n",
       " 'rd3d_calc': <function __main__.rd3d_calc(flux=3500000000000.0, energy=12.66, beamType='GAUSSIAN', fwhmX=1, fwhmY=2, collimationX=10, collimationY=10, wedge=0, exposureTime=1, translatePerDegX=0, translatePerDegY=0, translatePerDegZ=0, startOffsetX=0, startOffsetY=0, startOffsetZ=0, dimX=20, dimY=20, dimZ=20, pixelsPerMicron=2, angularResolution=2, templateFileName='rd3d_input_template.txt', verbose=True)>,\n",
       " 'fmx_dose': <function __main__.fmx_dose(flux=-1, energy=12.66, beamsizeV=1.0, beamsizeH=2.0, oscRange=180, oscWidth=0.1, exposureTimeFrame=0.02, vectorL=50, verbose=False)>,\n",
       " 'fmx_expTime_to_10MGy': <function __main__.fmx_expTime_to_10MGy(beamsizeV=1.0, beamsizeH=2.0, vectorL=0, energy=12.66, flux=-1, oscRange=180, verbose=False)>,\n",
       " 'wh_pos': <function __main__.wh_pos()>,\n",
       " 'help_fmx': <function __main__.help_fmx()>,\n",
       " 'get_fluxKeithley': <function __main__.get_fluxKeithley()>,\n",
       " 'set_fluxBeam': <function __main__.set_fluxBeam(flux)>,\n",
       " 'set_beamsize': <function __main__.set_beamsize(sizeV, sizeH)>,\n",
       " 'set_influence': <function __main__.set_influence(electrode, bimorph, bank)>,\n",
       " 'xf_bragg2e': <function __main__.xf_bragg2e(t, h=1, k=1, l=1, LN=0)>,\n",
       " 'xf_e2bragg': <function __main__.xf_e2bragg(E, h=1, k=1, l=1)>,\n",
       " 'xf_detZ2recResolution': <function __main__.xf_detZ2recResolution(detZ, xLambda, D=327.8)>,\n",
       " 'xf_recResolution2detZ': <function __main__.xf_recResolution2detZ(recResolution, xLambda, D=327.8)>,\n",
       " '_i': 'os.__file__',\n",
       " '_ii': 'import os',\n",
       " '_iii': \"print(read_lgp('kbm_vp'))\\nwrite_lgp('kbm_vp', -2538)\\nprint(read_lgp('kbm_vp'))\",\n",
       " '_i1': \"print(read_lgp('kbm_vp'))\\nwrite_lgp('kbm_vp', -2538)\\nprint(read_lgp('kbm_vp'))\",\n",
       " '_i2': 'import os',\n",
       " '_i3': 'os.__file__',\n",
       " '_3': '/opt/conda_envs/collection-2020-2.0rc8/lib/python3.7/os.py',\n",
       " '_i4': 'ip = get_ipython()\\nip.user_ns'}"
      ]
     },
     "execution_count": 4,
     "metadata": {},
     "output_type": "execute_result"
    }
   ],
   "source": [
    "ip = get_ipython()\n",
    "ip.user_ns"
   ]
  },
  {
   "cell_type": "code",
   "execution_count": 18,
   "metadata": {
    "scrolled": false
   },
   "outputs": [
    {
     "name": "stdout",
     "output_type": "stream",
     "text": [
      "     Energy  Position\n",
      "0    5000.0    6972.0\n",
      "1    6000.0    7940.0\n",
      "2    6539.0    8466.0\n",
      "3    7110.0    9046.0\n",
      "4    7200.0    9138.0\n",
      "..      ...       ...\n",
      "75  28000.0    6635.0\n",
      "76  28500.0    6715.0\n",
      "77  29000.0    6803.0\n",
      "78  29500.0    6885.0\n",
      "79  30000.0    6965.0\n",
      "\n",
      "[80 rows x 2 columns]\n",
      "     Energy  Position\n",
      "0    5000.0    6972.0\n",
      "1    6000.0    7940.0\n",
      "2    6539.0    8466.0\n",
      "3    7110.0    9046.0\n",
      "4    7200.0    9138.0\n",
      "..      ...       ...\n",
      "75  28000.0    6635.0\n",
      "76  28500.0    6715.0\n",
      "77  29000.0    6803.0\n",
      "78  29500.0    6885.0\n",
      "79  30000.0    6965.0\n",
      "\n",
      "[80 rows x 2 columns]\n"
     ]
    }
   ],
   "source": [
    "# For energies > 15 keV scan range 6.5 -0.1 to +0.15 mm\n",
    "# \n",
    "# Note: Avoid 6.500 gap setting to avoid Bluesky crash.\n",
    "# If 6.500 mm chosen, the lower scan value gets set to just < 6.4 mm, with the lowest allowed IVU gap = 6.400 mm\n",
    "# For some reason this doesn't happen for smaller gaps, e.g. 13500 keV and gap = 6.472 mm?\n",
    "#\n",
    "# MF 2018-04-02 Poor man's backup\n",
    "#          [  5000,  6000,  6539,  7110,  7200,  7500,  7600,  8052,  8331,  8979,  9660, 10000, 10400, 10500, 10871, 11564, 11919, 12284, 12660, 13400, 13500, 14200, 14799, 14800, 15000, 16000, 18000, 20000, 21000, 22000, 25000],\n",
    "#          [ 6.972, 7.940, 8.466, 9.046, 9.138, 9.457, 6.533, 6.805, 6.969, 7.347, 7.741, 7.938, 8.169, 6.472, 6.633, 6.927, 7.075, 7.226, 7.377, 6.437, 7.062, 7.320, 7.530, 6.430, 6.484, 6.790, 6.522, 6.980, 6.480, 6.690, 6.660])\n",
    "#          [  5000,  6000,  6539,  7110,  7200,  7500,  7600,  8052,  8331,  8979,  9660, 10000, 10400, 10500, 10871, 11564, 11849, 11850, 13500, 14200, 14799, 14800, 15000, 16000, 18000, 20000, 21000, 22000, 25000],\n",
    "#          [ 6.972, 7.940, 8.466, 9.046, 9.138, 9.457, 6.533, 6.805, 6.969, 7.347, 7.741, 7.938, 8.169, 6.472, 6.633, 6.927, 7.100, 6.430, 7.062, 7.320, 7.530, 6.430, 6.484, 6.790, 6.522, 6.980, 6.480, 6.690, 6.660])\n",
    "# \n",
    "# MF 2019-06-30 Very poor man's backup: Copied over Wuxian's high E values\n",
    "#          [  5000,  6000,  6539,  7110,  7200,  7500,  7600,  8052,  8331,  8979,  9660, 10000, 10400, 10500, 10871, 11564, 11919, 12284, 12660, 13349, 13350, 13500, 14200, 14799, 14800, 15000, 16000, 18000, 20000, 21000, 22000, 25000, 30000],\n",
    "# np.array([ 6.972, 7.940, 8.466, 9.046, 9.138, 9.457, 6.533, 6.805, 6.969, 7.347, 7.741, 7.938, 8.169, 6.472, 6.633, 6.927, 7.075, 7.226, 7.377, 7.675, 6.430, 7.062, 7.320, 7.530, 6.430, 6.484, 6.790, 6.522, 6.980, 6.480, 6.690, 6.660, 6.720]) * 1000)\n",
    "# \n",
    "# \n",
    "print(read_lut('ivu_gap'))\n",
    "write_lut('ivu_gap', \n",
    "          [  5000,  6000,  6539,  7110,  7200,  7500,  7599.99,  7600,  8052,  8331,  8979,  9660, 10000, 10400, 10499.99, 10500, 10871, 11564, 11919, 12284, 12660, 13349.99, 13350, 13500, 13800, 14100, 14400, 14700, 14799.99, 14800, 15100, 15400, 15700, 16000, 16300, 16599, 16600, 16900, 17200, 17500, 17799, 17800, 18100, 18400, 18700, 19000, 19300, 19600, 19900, 20200, 20500, 20799, 20800, 21100, 21400, 21700, 22000, 22300, 22600, 22900, 23200, 23500, 23799, 23800, 24100, 24400, 24700, 25000, 25300, 25600, 26000, 26500, 26999, 27000, 27500, 28000, 28500, 29000, 29500, 30000],\n",
    " np.array([ 6.972, 7.940, 8.466, 9.046, 9.138, 9.457,    9.600, 6.533, 6.805, 6.969, 7.347, 7.741, 7.938, 8.169,    8.200, 6.472, 6.633, 6.927, 7.075, 7.226, 7.377,    7.675, 6.420, 6.470, 6.571, 6.672, 6.772, 6.871,    6.901, 6.425, 6.517, 6.610, 6.697, 6.787, 6.878, 6.968, 6.492, 6.575, 6.659, 6.739, 6.819, 6.426, 6.500, 6.578, 6.652, 6.731, 6.805, 6.878, 6.952, 7.023, 7.099, 7.174, 6.430, 6.496, 6.559, 6.627, 6.690, 6.752, 6.815, 6.882, 6.943, 7.007, 7.070, 6.431, 6.487, 6.548, 6.603, 6.660, 6.719, 6.770, 6.849, 6.935, 7.030, 6.475, 6.552, 6.635, 6.715, 6.803, 6.885, 6.965]) * 1000)\n",
    "print(read_lut('ivu_gap'))"
   ]
  },
  {
   "cell_type": "code",
   "execution_count": 6,
   "metadata": {
    "scrolled": true
   },
   "outputs": [
    {
     "name": "stdout",
     "output_type": "stream",
     "text": [
      "    Energy  Position\n",
      "0   5000.0    -0.009\n",
      "1   8052.0    -0.009\n",
      "2   8331.0    -0.006\n",
      "3  11919.0    -0.006\n",
      "4  12284.0    -0.003\n",
      "5  13500.0    -0.002\n",
      "6  15000.0    -0.001\n",
      "    Energy  Position\n",
      "0   5000.0      -9.0\n",
      "1   8052.0      -9.0\n",
      "2   8331.0      -6.0\n",
      "3  11919.0      -6.0\n",
      "4  12284.0      -3.0\n",
      "5  13500.0      -2.0\n",
      "6  15000.0      -1.0\n"
     ]
    }
   ],
   "source": [
    "print(read_lut('ivu_gap_off'))\n",
    "write_lut('ivu_gap_off', [  5000,   8052,   8331,  11919,  12284,  13500,  15000],\n",
    "                np.array([-0.009, -0.009, -0.006, -0.006, -0.003, -0.002, -0.001]) * 1000)\n",
    "print(read_lut('ivu_gap_off'))"
   ]
  },
  {
   "cell_type": "code",
   "execution_count": 5,
   "metadata": {
    "scrolled": true
   },
   "outputs": [
    {
     "name": "stdout",
     "output_type": "stream",
     "text": [
      "     Energy  Position\n",
      "0    5000.0    16.331\n",
      "1    6000.0    15.887\n",
      "2    6539.0    15.737\n",
      "3    7110.0    15.616\n",
      "4    7200.0    15.600\n",
      "5    7500.0    15.550\n",
      "6    7600.0    15.535\n",
      "7    8052.0    15.474\n",
      "8    8331.0    15.430\n",
      "9    8979.0    15.378\n",
      "10   9660.0    15.324\n",
      "11  10000.0    15.302\n",
      "12  10400.0    15.279\n",
      "13  10500.0    15.273\n",
      "14  10871.0    15.254\n",
      "15  11564.0    15.224\n",
      "16  11919.0    15.211\n",
      "17  12284.0    15.198\n",
      "18  12660.0    15.186\n",
      "19  13400.0    15.166\n",
      "20  13474.0    15.164\n",
      "21  13500.0    15.163\n",
      "     Energy  Position\n",
      "0    5000.0    16.331\n",
      "1    6000.0    15.887\n",
      "2    6539.0    15.737\n",
      "3    7110.0    15.616\n",
      "4    7200.0    15.600\n",
      "5    7500.0    15.550\n",
      "6    7600.0    15.535\n",
      "7    8052.0    15.474\n",
      "8    8331.0    15.430\n",
      "9    8979.0    15.378\n",
      "10   9660.0    15.324\n",
      "11  10000.0    15.302\n",
      "12  10400.0    15.279\n",
      "13  10500.0    15.273\n",
      "14  10871.0    15.254\n",
      "15  11564.0    15.224\n",
      "16  11919.0    15.211\n",
      "17  12284.0    15.198\n",
      "18  12660.0    15.186\n",
      "19  13400.0    15.166\n",
      "20  13474.0    15.164\n",
      "21  13500.0    15.163\n",
      "22  15000.0    15.132\n",
      "23  18000.0    15.091\n",
      "24  20000.0    15.074\n",
      "25  22500.0    15.058\n",
      "26  25000.0    15.047\n",
      "27  27500.0    15.039\n",
      "28  30000.0    15.033\n"
     ]
    }
   ],
   "source": [
    "# HDCM T2 gap from FDR documentation\n",
    "# Horizontal offset d = 30 mm\n",
    "# T2 gap  = d / cos (Bragg angle)\n",
    "print(read_lut('hdcm_g'))\n",
    "write_lut('hdcm_g', \n",
    "          [   5000,   6000,   6539,   7110,   7200,   7500,   7600,   8052,   8331,   8979,   9660,  10000,  10400,  10500,  10871,  11564,  11919,  12284,  12660,  13400,  13474,  13500,  15000,  18000,  20000,  22500,  25000,  27500,  30000],\n",
    "          [ 16.331, 15.887, 15.737, 15.616, 15.600, 15.550, 15.535, 15.474, 15.430, 15.378, 15.324, 15.302, 15.279, 15.273, 15.254, 15.224, 15.211, 15.198, 15.186, 15.166, 15.164, 15.163, 15.132, 15.091, 15.074, 15.058, 15.047, 15.039, 15.033])\n",
    "print(read_lut('hdcm_g'))"
   ]
  },
  {
   "cell_type": "code",
   "execution_count": 7,
   "metadata": {},
   "outputs": [
    {
     "name": "stdout",
     "output_type": "stream",
     "text": [
      "    Energy  Position\n",
      "0   5000.0     2.651\n",
      "1   6539.0     2.663\n",
      "2   7000.0     2.673\n",
      "3   8331.0     2.677\n",
      "4  11564.0     2.666\n",
      "5  12660.0     2.666\n",
      "6  13500.0     2.700\n",
      "7  30000.0     2.730\n",
      "    Energy  Position\n",
      "0   5000.0     2.585\n",
      "1   6539.0     2.597\n",
      "2   7000.0     2.607\n",
      "3   8331.0     2.611\n",
      "4  11564.0     2.600\n",
      "5  12660.0     2.600\n",
      "6  13500.0     2.634\n",
      "7  30000.0     2.664\n"
     ]
    }
   ],
   "source": [
    "print(read_lut('hdcm_r'))\n",
    "write_lut('hdcm_r', [5000,   6539,  7000,  8331, 11564, 12660, 13500, 30000], \n",
    "                    [2.585, 2.597, 2.607, 2.611, 2.600, 2.600,  2.634,  2.664])\n",
    "print(read_lut('hdcm_r'))"
   ]
  },
  {
   "cell_type": "code",
   "execution_count": 1,
   "metadata": {},
   "outputs": [
    {
     "name": "stdout",
     "output_type": "stream",
     "text": [
      "    Energy  Position\n",
      "0   5000.0     0.052\n",
      "1   6550.0     0.042\n",
      "2   9000.0     0.032\n",
      "3  12700.0     0.042\n",
      "4  13500.0     0.052\n",
      "5  15000.0     0.062\n",
      "6  20000.0     0.112\n",
      "7  25000.0     0.137\n",
      "8  30000.0     0.137\n",
      "    Energy  Position\n",
      "0   5000.0     0.032\n",
      "1   6550.0     0.022\n",
      "2   9000.0     0.012\n",
      "3  12700.0     0.022\n",
      "4  13500.0     0.032\n",
      "5  15000.0     0.042\n",
      "6  20000.0     0.092\n",
      "7  25000.0     0.117\n",
      "8  30000.0     0.117\n"
     ]
    }
   ],
   "source": [
    "print(read_lut('hdcm_p'))\n",
    "write_lut('hdcm_p', [5000,   6550,  9000,  12700,  13500,  15000,  20000,  25000, 30000],\n",
    "           np.array([0.052, 0.042, 0.032,  0.042,  0.052,  0.062,  0.112,  0.137, 0.137]) -0.02)\n",
    "print(read_lut('hdcm_p'))"
   ]
  },
  {
   "cell_type": "code",
   "execution_count": 6,
   "metadata": {},
   "outputs": [
    {
     "name": "stdout",
     "output_type": "stream",
     "text": [
      "      Energy  Position\n",
      "0   5000.000       0.0\n",
      "1  10400.000       0.0\n",
      "2  10400.001      -8.0\n",
      "3  13500.000      -8.0\n",
      "    Energy  Position\n",
      "0   5000.0       0.0\n",
      "1   9999.0       0.0\n",
      "2  10000.0      -8.0\n",
      "3  13500.0      -8.0\n"
     ]
    }
   ],
   "source": [
    "print(read_lut('hfm_y'))\n",
    "write_lut('hfm_y', [5000, 9999, 10000, 13500], \n",
    "                   [   0,    0,    -8,    -8])\n",
    "print(read_lut('hfm_y'))"
   ]
  },
  {
   "cell_type": "code",
   "execution_count": 7,
   "metadata": {},
   "outputs": [
    {
     "name": "stdout",
     "output_type": "stream",
     "text": [
      "    Energy  Position\n",
      "0   5000.0       1.3\n",
      "1  13500.0       1.3\n",
      "    Energy  Position\n",
      "0   5000.0       1.3\n",
      "1  13500.0       1.3\n"
     ]
    }
   ],
   "source": [
    "print(read_lut('hfm_x'))\n",
    "write_lut('hfm_x', [5000, 13500],\n",
    "                   [ 1.3,   1.3])\n",
    "print(read_lut('hfm_x'))"
   ]
  },
  {
   "cell_type": "code",
   "execution_count": 2,
   "metadata": {},
   "outputs": [
    {
     "name": "stdout",
     "output_type": "stream",
     "text": [
      "    Energy  Position\n",
      "0   5000.0    -2.554\n",
      "1   9999.0    -2.554\n",
      "2  10000.0    -2.522\n",
      "3  13500.0    -2.522\n",
      "    Energy  Position\n",
      "0   5000.0    -2.554\n",
      "1   9999.0    -2.554\n",
      "2  10000.0    -2.519\n",
      "3  13500.0    -2.519\n"
     ]
    }
   ],
   "source": [
    "print(read_lut('hfm_pitch'))\n",
    "write_lut('hfm_pitch', [  5000,   9999,  10000,  13500],\n",
    "                       [-2.554, -2.554, -2.519, -2.519])\n",
    "print(read_lut('hfm_pitch'))"
   ]
  },
  {
   "cell_type": "code",
   "execution_count": 14,
   "metadata": {},
   "outputs": [
    {
     "name": "stdout",
     "output_type": "stream",
     "text": [
      "4500.0\n",
      "4500.0\n"
     ]
    }
   ],
   "source": [
    "# Obsolete: Changed to energy dependent LUT waveform\n",
    "#print(read_lgp('kbm_vx'))\n",
    "#write_lgp('kbm_vx', 4500)\n",
    "#print(read_lgp('kbm_vx'))"
   ]
  },
  {
   "cell_type": "code",
   "execution_count": 3,
   "metadata": {},
   "outputs": [
    {
     "name": "stdout",
     "output_type": "stream",
     "text": [
      "Empty DataFrame\n",
      "Columns: [Energy, Position]\n",
      "Index: []\n",
      "    Energy  Position\n",
      "0   5000.0    4500.0\n",
      "1  30000.0    4500.0\n"
     ]
    }
   ],
   "source": [
    "print(read_lut('kbm_vx'))\n",
    "write_lut('kbm_vx', [  5000,  30000],\n",
    "                       [4500.0, 4500.0])\n",
    "print(read_lut('kbm_vx'))"
   ]
  },
  {
   "cell_type": "code",
   "execution_count": 15,
   "metadata": {},
   "outputs": [
    {
     "name": "stdout",
     "output_type": "stream",
     "text": [
      "-500.0\n",
      "-488.0\n"
     ]
    }
   ],
   "source": [
    "print(read_lgp('kbm_vy'))\n",
    "write_lgp('kbm_vy', -488)\n",
    "print(read_lgp('kbm_vy'))"
   ]
  },
  {
   "cell_type": "code",
   "execution_count": 1,
   "metadata": {},
   "outputs": [
    {
     "name": "stdout",
     "output_type": "stream",
     "text": [
      "-2517.0\n",
      "-2538.0\n"
     ]
    }
   ],
   "source": [
    "print(read_lgp('kbm_vp'))\n",
    "write_lgp('kbm_vp', -2538)\n",
    "print(read_lgp('kbm_vp'))"
   ]
  },
  {
   "cell_type": "code",
   "execution_count": 2,
   "metadata": {},
   "outputs": [
    {
     "name": "stdout",
     "output_type": "stream",
     "text": [
      "556.0\n",
      "500.0\n"
     ]
    }
   ],
   "source": [
    "print(read_lgp('kbm_hx'))\n",
    "write_lgp('kbm_hx', 500)\n",
    "print(read_lgp('kbm_hx'))"
   ]
  },
  {
   "cell_type": "code",
   "execution_count": 18,
   "metadata": {},
   "outputs": [
    {
     "name": "stdout",
     "output_type": "stream",
     "text": [
      "7000.0\n",
      "7000.0\n"
     ]
    }
   ],
   "source": [
    "# Obsolete: Changed to energy dependent LUT waveform\n",
    "#print(read_lgp('kbm_hy'))\n",
    "#write_lgp('kbm_hy', 7000)\n",
    "#print(read_lgp('kbm_hy'))"
   ]
  },
  {
   "cell_type": "code",
   "execution_count": 1,
   "metadata": {},
   "outputs": [
    {
     "name": "stdout",
     "output_type": "stream",
     "text": [
      "    Energy  Position\n",
      "0   5000.0       0.0\n",
      "1   9999.0       0.0\n",
      "2  10000.0    7000.0\n",
      "3  30000.0    7000.0\n",
      "    Energy  Position\n",
      "0   5000.0       0.0\n",
      "1   9999.0       0.0\n",
      "2  10000.0    7000.0\n",
      "3  30000.0    7000.0\n"
     ]
    }
   ],
   "source": [
    "print(read_lut('kbm_hy'))\n",
    "write_lut('kbm_hy', [  5000,   9999,  10000,  30000],\n",
    "                       [0.0, 0.0, 7000.0, 7000.0])\n",
    "print(read_lut('kbm_hy'))"
   ]
  },
  {
   "cell_type": "code",
   "execution_count": 1,
   "metadata": {},
   "outputs": [
    {
     "name": "stdout",
     "output_type": "stream",
     "text": [
      "-2381.0\n",
      "-2382.0\n"
     ]
    }
   ],
   "source": [
    "print(read_lgp('kbm_hp'))\n",
    "write_lgp('kbm_hp', -2382)\n",
    "print(read_lgp('kbm_hp'))"
   ]
  },
  {
   "cell_type": "code",
   "execution_count": 6,
   "metadata": {},
   "outputs": [
    {
     "name": "stdout",
     "output_type": "stream",
     "text": [
      "    Energy  Position\n",
      "0   5000.0      0.06\n",
      "1   6550.0      0.03\n",
      "2   9000.0      0.01\n",
      "3  12700.0      0.03\n",
      "4  13500.0      0.05\n",
      "5  15000.0      0.06\n",
      "6  20000.0      0.10\n",
      "7  25000.0      0.15\n",
      "8  30000.0      0.20\n",
      "    Energy  Position\n",
      "0   5000.0      0.06\n",
      "1   6550.0      0.03\n",
      "2   9000.0      0.01\n",
      "3  12700.0      0.03\n",
      "4  13500.0      0.05\n",
      "5  15000.0      0.06\n",
      "6  20000.0      0.10\n",
      "7  25000.0      0.15\n",
      "8  30000.0      0.20\n"
     ]
    }
   ],
   "source": [
    "# Attenuation for auto beam alignment, to avoid saturated scintillator image\n",
    "# Set to value that will work with cam_8 centroid\n",
    "print(read_lut('atten'))\n",
    "write_lut('atten', [5000, 6550, 9000, 12700, 13500, 15000, 20000, 25000, 30000],\n",
    "                   [0.06, 0.03, 0.01, 0.03,  0.05,  0.06,  0.1,   0.15,  0.2])\n",
    "print(read_lut('atten'))"
   ]
  },
  {
   "cell_type": "code",
   "execution_count": 1,
   "metadata": {},
   "outputs": [
    {
     "name": "stdout",
     "output_type": "stream",
     "text": [
      "1.079\n"
     ]
    }
   ],
   "source": [
    "# Calibration of LoMag camera in an EPICS PV [um/px]\n",
    "# There is also the Beamline PVs CSS screen for this PV\n",
    "print( cameraCalGet('LoMag') )\n",
    "cameraCalSet('LoMag', 1.079)"
   ]
  },
  {
   "cell_type": "code",
   "execution_count": 2,
   "metadata": {},
   "outputs": [
    {
     "name": "stdout",
     "output_type": "stream",
     "text": [
      "0.272\n"
     ]
    }
   ],
   "source": [
    "# Calibration of HiMag camera in an EPICS PV [um/px]\n",
    "# There is also the Beamline PVs CSS screen for this PV\n",
    "print( cameraCalGet('HiMag') )\n",
    "cameraCalSet('HiMag', 0.272)"
   ]
  },
  {
   "cell_type": "code",
   "execution_count": null,
   "metadata": {},
   "outputs": [],
   "source": []
  }
 ],
 "metadata": {
  "kernelspec": {
   "display_name": "Data Collection (2020-2.0rc8)",
   "language": "",
   "name": "collection-2020-2.0rc8"
  },
  "language_info": {
   "codemirror_mode": {
    "name": "ipython",
    "version": 3
   },
   "file_extension": ".py",
   "mimetype": "text/x-python",
   "name": "python",
   "nbconvert_exporter": "python",
   "pygments_lexer": "ipython3",
   "version": "3.7.7"
  }
 },
 "nbformat": 4,
 "nbformat_minor": 4
}
