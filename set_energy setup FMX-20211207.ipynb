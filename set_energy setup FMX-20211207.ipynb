{
 "cells": [
  {
   "cell_type": "code",
   "execution_count": 1,
   "metadata": {},
   "outputs": [],
   "source": [
    "import os\n",
    "import numpy as np"
   ]
  },
  {
   "cell_type": "code",
   "execution_count": 2,
   "metadata": {},
   "outputs": [
    {
     "data": {
      "text/plain": [
       "'/opt/conda_envs/collection-2020-2.0rc8/lib/python3.7/os.py'"
      ]
     },
     "execution_count": 2,
     "metadata": {},
     "output_type": "execute_result"
    }
   ],
   "source": [
    "os.__file__"
   ]
  },
  {
   "cell_type": "code",
   "execution_count": 3,
   "metadata": {
    "scrolled": true
   },
   "outputs": [
    {
     "data": {
      "text/plain": [
       "{'__name__': '__main__',\n",
       " '__doc__': 'Automatically created module for IPython interactive environment',\n",
       " '__package__': None,\n",
       " '__loader__': None,\n",
       " '__spec__': None,\n",
       " '__builtin__': <module 'builtins' (built-in)>,\n",
       " '__builtins__': <module 'builtins' (built-in)>,\n",
       " '_ih': ['',\n",
       "  'import os\\nimport numpy as np',\n",
       "  'os.__file__',\n",
       "  'ip = get_ipython()\\nip.user_ns'],\n",
       " '_oh': {2: '/opt/conda_envs/collection-2020-2.0rc8/lib/python3.7/os.py'},\n",
       " '_dh': [],\n",
       " 'In': ['',\n",
       "  'import os\\nimport numpy as np',\n",
       "  'os.__file__',\n",
       "  'ip = get_ipython()\\nip.user_ns'],\n",
       " 'Out': {2: '/opt/conda_envs/collection-2020-2.0rc8/lib/python3.7/os.py'},\n",
       " 'get_ipython': <bound method InteractiveShell.get_ipython of <ipykernel.zmqshell.ZMQInteractiveShell object at 0x7f7423e17e10>>,\n",
       " 'exit': <IPython.core.autocall.ZMQExitAutocall at 0x7f7420dcae50>,\n",
       " 'quit': <IPython.core.autocall.ZMQExitAutocall at 0x7f7420dcae50>,\n",
       " '_': '/opt/conda_envs/collection-2020-2.0rc8/lib/python3.7/os.py',\n",
       " '__': '',\n",
       " '___': '',\n",
       " 'olog': <function pyOlog.cli.ipy.olog(msg=None, edit=False, logbooks=None, tags=None, attachments=None, **kwargs)>,\n",
       " 'olog_savefig': <function pyOlog.cli.ipy.olog_savefig(**kwargs)>,\n",
       " 'olog_grab': <function pyOlog.cli.ipy.olog_grab(root=False, **kwargs)>,\n",
       " 'olog_client': <pyOlog.SimpleOlogClient.SimpleOlogClient at 0x7f73fe4a52d0>,\n",
       " 'datetime': datetime.datetime,\n",
       " 'EpicsSignalBase': ophyd.signal.EpicsSignalBase,\n",
       " 'EpicsSignal': ophyd.signal.EpicsSignal,\n",
       " 'DEFAULT_CONNECTION_TIMEOUT': <object at 0x7f73fe437ae0>,\n",
       " 'print_now': <function __main__.print_now()>,\n",
       " 'wait_for_connection_base': <function __main__.wait_for_connection_base(self, timeout=<object object at 0x7f73fe437ae0>)>,\n",
       " 'wait_for_connection': <function __main__.wait_for_connection(self, timeout=<object object at 0x7f73fe437ae0>)>,\n",
       " '_i': 'os.__file__',\n",
       " '_ii': 'import os\\nimport numpy as np',\n",
       " '_iii': '',\n",
       " '_i1': 'import os\\nimport numpy as np',\n",
       " 'os': <module 'os' from '/opt/conda_envs/collection-2020-2.0rc8/lib/python3.7/os.py'>,\n",
       " 'np': <module 'numpy' from '/opt/conda_envs/collection-2020-2.0rc8/lib/python3.7/site-packages/numpy/__init__.py'>,\n",
       " '_i2': 'os.__file__',\n",
       " '_2': '/opt/conda_envs/collection-2020-2.0rc8/lib/python3.7/os.py',\n",
       " '_i3': 'ip = get_ipython()\\nip.user_ns',\n",
       " 'ip': <ipykernel.zmqshell.ZMQInteractiveShell at 0x7f7423e17e10>}"
      ]
     },
     "execution_count": 3,
     "metadata": {},
     "output_type": "execute_result"
    }
   ],
   "source": [
    "ip = get_ipython()\n",
    "ip.user_ns"
   ]
  },
  {
   "cell_type": "code",
   "execution_count": 4,
   "metadata": {
    "scrolled": true
   },
   "outputs": [
    {
     "ename": "NameError",
     "evalue": "name 'read_lut' is not defined",
     "output_type": "error",
     "traceback": [
      "\u001b[0;31m---------------------------------------------------------------------------\u001b[0m",
      "\u001b[0;31mNameError\u001b[0m                                 Traceback (most recent call last)",
      "\u001b[0;32m<ipython-input-4-2934b02ddf9e>\u001b[0m in \u001b[0;36m<module>\u001b[0;34m\u001b[0m\n\u001b[1;32m     16\u001b[0m \u001b[0;31m#\u001b[0m\u001b[0;34m\u001b[0m\u001b[0;34m\u001b[0m\u001b[0;34m\u001b[0m\u001b[0m\n\u001b[1;32m     17\u001b[0m \u001b[0;31m#\u001b[0m\u001b[0;34m\u001b[0m\u001b[0;34m\u001b[0m\u001b[0;34m\u001b[0m\u001b[0m\n\u001b[0;32m---> 18\u001b[0;31m \u001b[0mprint\u001b[0m\u001b[0;34m(\u001b[0m\u001b[0mread_lut\u001b[0m\u001b[0;34m(\u001b[0m\u001b[0;34m'ivu_gap'\u001b[0m\u001b[0;34m)\u001b[0m\u001b[0;34m)\u001b[0m\u001b[0;34m\u001b[0m\u001b[0;34m\u001b[0m\u001b[0m\n\u001b[0m\u001b[1;32m     19\u001b[0m write_lut('ivu_gap', \n\u001b[1;32m     20\u001b[0m           \u001b[0;34m[\u001b[0m  \u001b[0;36m5000\u001b[0m\u001b[0;34m,\u001b[0m  \u001b[0;36m6000\u001b[0m\u001b[0;34m,\u001b[0m  \u001b[0;36m6539\u001b[0m\u001b[0;34m,\u001b[0m  \u001b[0;36m7110\u001b[0m\u001b[0;34m,\u001b[0m  \u001b[0;36m7200\u001b[0m\u001b[0;34m,\u001b[0m  \u001b[0;36m7500\u001b[0m\u001b[0;34m,\u001b[0m  \u001b[0;36m7599.99\u001b[0m\u001b[0;34m,\u001b[0m  \u001b[0;36m7600\u001b[0m\u001b[0;34m,\u001b[0m  \u001b[0;36m8052\u001b[0m\u001b[0;34m,\u001b[0m  \u001b[0;36m8331\u001b[0m\u001b[0;34m,\u001b[0m  \u001b[0;36m8979\u001b[0m\u001b[0;34m,\u001b[0m  \u001b[0;36m9660\u001b[0m\u001b[0;34m,\u001b[0m \u001b[0;36m10000\u001b[0m\u001b[0;34m,\u001b[0m \u001b[0;36m10400\u001b[0m\u001b[0;34m,\u001b[0m \u001b[0;36m10499.99\u001b[0m\u001b[0;34m,\u001b[0m \u001b[0;36m10500\u001b[0m\u001b[0;34m,\u001b[0m \u001b[0;36m10871\u001b[0m\u001b[0;34m,\u001b[0m \u001b[0;36m11564\u001b[0m\u001b[0;34m,\u001b[0m \u001b[0;36m11919\u001b[0m\u001b[0;34m,\u001b[0m \u001b[0;36m12284\u001b[0m\u001b[0;34m,\u001b[0m \u001b[0;36m12660\u001b[0m\u001b[0;34m,\u001b[0m \u001b[0;36m13349.99\u001b[0m\u001b[0;34m,\u001b[0m \u001b[0;36m13350\u001b[0m\u001b[0;34m,\u001b[0m \u001b[0;36m13500\u001b[0m\u001b[0;34m,\u001b[0m \u001b[0;36m13800\u001b[0m\u001b[0;34m,\u001b[0m \u001b[0;36m14100\u001b[0m\u001b[0;34m,\u001b[0m \u001b[0;36m14400\u001b[0m\u001b[0;34m,\u001b[0m \u001b[0;36m14700\u001b[0m\u001b[0;34m,\u001b[0m \u001b[0;36m14799.99\u001b[0m\u001b[0;34m,\u001b[0m \u001b[0;36m14800\u001b[0m\u001b[0;34m,\u001b[0m \u001b[0;36m15100\u001b[0m\u001b[0;34m,\u001b[0m \u001b[0;36m15400\u001b[0m\u001b[0;34m,\u001b[0m \u001b[0;36m15700\u001b[0m\u001b[0;34m,\u001b[0m \u001b[0;36m16000\u001b[0m\u001b[0;34m,\u001b[0m \u001b[0;36m16300\u001b[0m\u001b[0;34m,\u001b[0m \u001b[0;36m16599\u001b[0m\u001b[0;34m,\u001b[0m \u001b[0;36m16600\u001b[0m\u001b[0;34m,\u001b[0m \u001b[0;36m16900\u001b[0m\u001b[0;34m,\u001b[0m \u001b[0;36m17200\u001b[0m\u001b[0;34m,\u001b[0m \u001b[0;36m17500\u001b[0m\u001b[0;34m,\u001b[0m \u001b[0;36m17799\u001b[0m\u001b[0;34m,\u001b[0m \u001b[0;36m17800\u001b[0m\u001b[0;34m,\u001b[0m \u001b[0;36m18100\u001b[0m\u001b[0;34m,\u001b[0m \u001b[0;36m18400\u001b[0m\u001b[0;34m,\u001b[0m \u001b[0;36m18700\u001b[0m\u001b[0;34m,\u001b[0m \u001b[0;36m19000\u001b[0m\u001b[0;34m,\u001b[0m \u001b[0;36m19300\u001b[0m\u001b[0;34m,\u001b[0m \u001b[0;36m19600\u001b[0m\u001b[0;34m,\u001b[0m \u001b[0;36m19900\u001b[0m\u001b[0;34m,\u001b[0m \u001b[0;36m20200\u001b[0m\u001b[0;34m,\u001b[0m \u001b[0;36m20500\u001b[0m\u001b[0;34m,\u001b[0m \u001b[0;36m20799\u001b[0m\u001b[0;34m,\u001b[0m \u001b[0;36m20800\u001b[0m\u001b[0;34m,\u001b[0m \u001b[0;36m21100\u001b[0m\u001b[0;34m,\u001b[0m \u001b[0;36m21400\u001b[0m\u001b[0;34m,\u001b[0m \u001b[0;36m21700\u001b[0m\u001b[0;34m,\u001b[0m \u001b[0;36m22000\u001b[0m\u001b[0;34m,\u001b[0m \u001b[0;36m22300\u001b[0m\u001b[0;34m,\u001b[0m \u001b[0;36m22600\u001b[0m\u001b[0;34m,\u001b[0m \u001b[0;36m22900\u001b[0m\u001b[0;34m,\u001b[0m \u001b[0;36m23200\u001b[0m\u001b[0;34m,\u001b[0m \u001b[0;36m23500\u001b[0m\u001b[0;34m,\u001b[0m \u001b[0;36m23799\u001b[0m\u001b[0;34m,\u001b[0m \u001b[0;36m23800\u001b[0m\u001b[0;34m,\u001b[0m \u001b[0;36m24100\u001b[0m\u001b[0;34m,\u001b[0m \u001b[0;36m24400\u001b[0m\u001b[0;34m,\u001b[0m \u001b[0;36m24700\u001b[0m\u001b[0;34m,\u001b[0m \u001b[0;36m25000\u001b[0m\u001b[0;34m,\u001b[0m \u001b[0;36m25300\u001b[0m\u001b[0;34m,\u001b[0m \u001b[0;36m25600\u001b[0m\u001b[0;34m,\u001b[0m \u001b[0;36m26000\u001b[0m\u001b[0;34m,\u001b[0m \u001b[0;36m26500\u001b[0m\u001b[0;34m,\u001b[0m \u001b[0;36m26999\u001b[0m\u001b[0;34m,\u001b[0m \u001b[0;36m27000\u001b[0m\u001b[0;34m,\u001b[0m \u001b[0;36m27500\u001b[0m\u001b[0;34m,\u001b[0m \u001b[0;36m28000\u001b[0m\u001b[0;34m,\u001b[0m \u001b[0;36m28500\u001b[0m\u001b[0;34m,\u001b[0m \u001b[0;36m29000\u001b[0m\u001b[0;34m,\u001b[0m \u001b[0;36m29500\u001b[0m\u001b[0;34m,\u001b[0m \u001b[0;36m30000\u001b[0m\u001b[0;34m]\u001b[0m\u001b[0;34m,\u001b[0m\u001b[0;34m\u001b[0m\u001b[0;34m\u001b[0m\u001b[0m\n",
      "\u001b[0;31mNameError\u001b[0m: name 'read_lut' is not defined"
     ]
    }
   ],
   "source": [
    "# For energies > 15 keV scan range 6.5 -0.1 to +0.15 mm\n",
    "# \n",
    "# Note: Avoid 6.500 gap setting to avoid Bluesky crash.\n",
    "# If 6.500 mm chosen, the lower scan value gets set to just < 6.4 mm, with the lowest allowed IVU gap = 6.400 mm\n",
    "# For some reason this doesn't happen for smaller gaps, e.g. 13500 keV and gap = 6.472 mm?\n",
    "#\n",
    "# MF 2018-04-02 Poor man's backup\n",
    "#          [  5000,  6000,  6539,  7110,  7200,  7500,  7600,  8052,  8331,  8979,  9660, 10000, 10400, 10500, 10871, 11564, 11919, 12284, 12660, 13400, 13500, 14200, 14799, 14800, 15000, 16000, 18000, 20000, 21000, 22000, 25000],\n",
    "#          [ 6.972, 7.940, 8.466, 9.046, 9.138, 9.457, 6.533, 6.805, 6.969, 7.347, 7.741, 7.938, 8.169, 6.472, 6.633, 6.927, 7.075, 7.226, 7.377, 6.437, 7.062, 7.320, 7.530, 6.430, 6.484, 6.790, 6.522, 6.980, 6.480, 6.690, 6.660])\n",
    "#          [  5000,  6000,  6539,  7110,  7200,  7500,  7600,  8052,  8331,  8979,  9660, 10000, 10400, 10500, 10871, 11564, 11849, 11850, 13500, 14200, 14799, 14800, 15000, 16000, 18000, 20000, 21000, 22000, 25000],\n",
    "#          [ 6.972, 7.940, 8.466, 9.046, 9.138, 9.457, 6.533, 6.805, 6.969, 7.347, 7.741, 7.938, 8.169, 6.472, 6.633, 6.927, 7.100, 6.430, 7.062, 7.320, 7.530, 6.430, 6.484, 6.790, 6.522, 6.980, 6.480, 6.690, 6.660])\n",
    "# \n",
    "# MF 2019-06-30 Very poor man's backup: Copied over Wuxian's high E values\n",
    "#          [  5000,  6000,  6539,  7110,  7200,  7500,  7600,  8052,  8331,  8979,  9660, 10000, 10400, 10500, 10871, 11564, 11919, 12284, 12660, 13349, 13350, 13500, 14200, 14799, 14800, 15000, 16000, 18000, 20000, 21000, 22000, 25000, 30000],\n",
    "# np.array([ 6.972, 7.940, 8.466, 9.046, 9.138, 9.457, 6.533, 6.805, 6.969, 7.347, 7.741, 7.938, 8.169, 6.472, 6.633, 6.927, 7.075, 7.226, 7.377, 7.675, 6.430, 7.062, 7.320, 7.530, 6.430, 6.484, 6.790, 6.522, 6.980, 6.480, 6.690, 6.660, 6.720]) * 1000)\n",
    "# \n",
    "# \n",
    "print(read_lut('ivu_gap'))\n",
    "write_lut('ivu_gap', \n",
    "          [  5000,  6000,  6539,  7110,  7200,  7500,  7599.99,  7600,  8052,  8331,  8979,  9660, 10000, 10400, 10499.99, 10500, 10871, 11564, 11919, 12284, 12660, 13349.99, 13350, 13500, 13800, 14100, 14400, 14700, 14799.99, 14800, 15100, 15400, 15700, 16000, 16300, 16599, 16600, 16900, 17200, 17500, 17799, 17800, 18100, 18400, 18700, 19000, 19300, 19600, 19900, 20200, 20500, 20799, 20800, 21100, 21400, 21700, 22000, 22300, 22600, 22900, 23200, 23500, 23799, 23800, 24100, 24400, 24700, 25000, 25300, 25600, 26000, 26500, 26999, 27000, 27500, 28000, 28500, 29000, 29500, 30000],\n",
    " np.array([ 6.972, 7.940, 8.466, 9.046, 9.138, 9.457,    9.600, 6.533, 6.805, 6.969, 7.347, 7.741, 7.938, 8.169,    8.200, 6.472, 6.633, 6.927, 7.075, 7.226, 7.377,    7.675, 6.420, 6.470, 6.571, 6.672, 6.772, 6.871,    6.901, 6.425, 6.517, 6.610, 6.697, 6.787, 6.878, 6.968, 6.492, 6.575, 6.659, 6.739, 6.819, 6.426, 6.500, 6.578, 6.652, 6.731, 6.805, 6.878, 6.952, 7.023, 7.099, 7.174, 6.430, 6.496, 6.559, 6.627, 6.690, 6.752, 6.815, 6.882, 6.943, 7.007, 7.070, 6.431, 6.487, 6.548, 6.603, 6.660, 6.719, 6.770, 6.849, 6.935, 7.030, 6.475, 6.552, 6.635, 6.715, 6.803, 6.885, 6.965]) * 1000)\n",
    "print(read_lut('ivu_gap'))"
   ]
  },
  {
   "cell_type": "code",
   "execution_count": 86,
   "metadata": {
    "scrolled": true
   },
   "outputs": [
    {
     "name": "stdout",
     "output_type": "stream",
     "text": [
      "    Energy  Position\n",
      "0   5000.0      -9.0\n",
      "1   8052.0      -9.0\n",
      "2   8331.0      -6.0\n",
      "3  11919.0      -6.0\n",
      "4  12284.0      -3.0\n",
      "5  13500.0      -2.0\n",
      "6  15000.0      -1.0\n",
      "    Energy  Position\n",
      "0   5000.0      -9.0\n",
      "1   8052.0      -9.0\n",
      "2   8331.0      -6.0\n",
      "3  11919.0      -6.0\n",
      "4  12284.0      -3.0\n",
      "5  13500.0      -2.0\n",
      "6  15000.0      -1.0\n"
     ]
    }
   ],
   "source": [
    "print(read_lut('ivu_gap_off'))\n",
    "write_lut('ivu_gap_off', [  5000,   8052,   8331,  11919,  12284,  13500,  15000],\n",
    "                np.array([-0.009, -0.009, -0.006, -0.006, -0.003, -0.002, -0.001]) * 1000)\n",
    "print(read_lut('ivu_gap_off'))"
   ]
  },
  {
   "cell_type": "code",
   "execution_count": 87,
   "metadata": {
    "scrolled": true
   },
   "outputs": [
    {
     "name": "stdout",
     "output_type": "stream",
     "text": [
      "     Energy  Position\n",
      "0    5000.0    16.331\n",
      "1    6000.0    15.887\n",
      "2    6539.0    15.737\n",
      "3    7110.0    15.616\n",
      "4    7200.0    15.600\n",
      "5    7500.0    15.550\n",
      "6    7600.0    15.535\n",
      "7    8052.0    15.474\n",
      "8    8331.0    15.430\n",
      "9    8979.0    15.378\n",
      "10   9660.0    15.324\n",
      "11  10000.0    15.302\n",
      "12  10400.0    15.279\n",
      "13  10500.0    15.273\n",
      "14  10871.0    15.254\n",
      "15  11564.0    15.224\n",
      "16  11919.0    15.211\n",
      "17  12284.0    15.198\n",
      "18  12660.0    15.186\n",
      "19  13400.0    15.166\n",
      "20  13474.0    15.164\n",
      "21  13500.0    15.163\n",
      "22  15000.0    15.132\n",
      "23  18000.0    15.091\n",
      "24  20000.0    15.074\n",
      "25  22500.0    15.058\n",
      "26  25000.0    15.047\n",
      "27  27500.0    15.039\n",
      "28  30000.0    15.033\n",
      "     Energy  Position\n",
      "0    5000.0    16.331\n",
      "1    6000.0    15.887\n",
      "2    6539.0    15.737\n",
      "3    7110.0    15.616\n",
      "4    7200.0    15.600\n",
      "5    7500.0    15.550\n",
      "6    7600.0    15.535\n",
      "7    8052.0    15.474\n",
      "8    8331.0    15.430\n",
      "9    8979.0    15.378\n",
      "10   9660.0    15.324\n",
      "11  10000.0    15.302\n",
      "12  10400.0    15.279\n",
      "13  10500.0    15.273\n",
      "14  10871.0    15.254\n",
      "15  11564.0    15.224\n",
      "16  11919.0    15.211\n",
      "17  12284.0    15.198\n",
      "18  12660.0    15.186\n",
      "19  13400.0    15.166\n",
      "20  13474.0    15.164\n",
      "21  13500.0    15.163\n",
      "22  15000.0    15.132\n",
      "23  18000.0    15.091\n",
      "24  20000.0    15.074\n",
      "25  22500.0    15.058\n",
      "26  25000.0    15.047\n",
      "27  27500.0    15.039\n",
      "28  30000.0    15.033\n"
     ]
    }
   ],
   "source": [
    "# HDCM T2 gap from FDR documentation\n",
    "# Horizontal offset d = 30 mm\n",
    "# T2 gap  = d / cos (Bragg angle)\n",
    "print(read_lut('hdcm_g'))\n",
    "write_lut('hdcm_g', \n",
    "          [   5000,   6000,   6539,   7110,   7200,   7500,   7600,   8052,   8331,   8979,   9660,  10000,  10400,  10500,  10871,  11564,  11919,  12284,  12660,  13400,  13474,  13500,  15000,  18000,  20000,  22500,  25000,  27500,  30000],\n",
    "          [ 16.331, 15.887, 15.737, 15.616, 15.600, 15.550, 15.535, 15.474, 15.430, 15.378, 15.324, 15.302, 15.279, 15.273, 15.254, 15.224, 15.211, 15.198, 15.186, 15.166, 15.164, 15.163, 15.132, 15.091, 15.074, 15.058, 15.047, 15.039, 15.033])\n",
    "print(read_lut('hdcm_g'))"
   ]
  },
  {
   "cell_type": "code",
   "execution_count": 88,
   "metadata": {},
   "outputs": [
    {
     "name": "stdout",
     "output_type": "stream",
     "text": [
      "    Energy  Position\n",
      "0   5000.0     2.533\n",
      "1   6539.0     2.545\n",
      "2   7000.0     2.550\n",
      "3   8331.0     2.569\n",
      "4  11564.0     2.608\n",
      "5  12660.0     2.608\n",
      "6  13500.0     2.642\n",
      "7  30000.0     2.672\n",
      "    Energy  Position\n",
      "0   5000.0     2.533\n",
      "1   6539.0     2.545\n",
      "2   7000.0     2.550\n",
      "3   8331.0     2.569\n",
      "4  11564.0     2.608\n",
      "5  12660.0     2.608\n",
      "6  13500.0     2.642\n",
      "7  30000.0     2.672\n"
     ]
    }
   ],
   "source": [
    "# HDCM Roll\n",
    "print(read_lut('hdcm_r'))\n",
    "write_lut('hdcm_r', [5000,   6539,  7000,  8331, 11564, 12660, 13500, 30000], \n",
    "           np.array([2.500, 2.512, 2.517, 2.536, 2.575, 2.575, 2.609, 2.639]) +0.033)\n",
    "print(read_lut('hdcm_r'))"
   ]
  },
  {
   "cell_type": "code",
   "execution_count": 89,
   "metadata": {
    "scrolled": true
   },
   "outputs": [
    {
     "name": "stdout",
     "output_type": "stream",
     "text": [
      "    Energy  Position\n",
      "0   5000.0     0.032\n",
      "1   6550.0     0.022\n",
      "2   9000.0     0.012\n",
      "3  12700.0     0.022\n",
      "4  13500.0     0.032\n",
      "5  15000.0     0.042\n",
      "6  20000.0     0.092\n",
      "7  25000.0     0.117\n",
      "8  30000.0     0.117\n",
      "    Energy  Position\n",
      "0   5000.0     0.032\n",
      "1   6550.0     0.022\n",
      "2   9000.0     0.012\n",
      "3  12700.0     0.022\n",
      "4  13500.0     0.032\n",
      "5  15000.0     0.042\n",
      "6  20000.0     0.092\n",
      "7  25000.0     0.117\n",
      "8  30000.0     0.117\n"
     ]
    }
   ],
   "source": [
    "print(read_lut('hdcm_p'))\n",
    "write_lut('hdcm_p', [5000,   6550,  9000,  12700,  13500,  15000,  20000,  25000, 30000],\n",
    "           np.array([0.052, 0.042, 0.032,  0.042,  0.052,  0.062,  0.112,  0.137, 0.137]) -0.02)\n",
    "print(read_lut('hdcm_p'))"
   ]
  },
  {
   "cell_type": "code",
   "execution_count": 90,
   "metadata": {},
   "outputs": [
    {
     "name": "stdout",
     "output_type": "stream",
     "text": [
      "    Energy  Position\n",
      "0   5000.0       0.0\n",
      "1   9999.0       0.0\n",
      "2  10000.0      -8.0\n",
      "3  13500.0      -8.0\n",
      "    Energy  Position\n",
      "0   5000.0       0.0\n",
      "1   9999.0       0.0\n",
      "2  10000.0      -8.0\n",
      "3  13500.0      -8.0\n"
     ]
    }
   ],
   "source": [
    "print(read_lut('hfm_y'))\n",
    "write_lut('hfm_y', [5000, 9999, 10000, 13500], \n",
    "                   [   0,    0,    -8,    -8])\n",
    "print(read_lut('hfm_y'))"
   ]
  },
  {
   "cell_type": "code",
   "execution_count": 99,
   "metadata": {},
   "outputs": [
    {
     "name": "stdout",
     "output_type": "stream",
     "text": [
      "Empty DataFrame\n",
      "Columns: [Energy, Position]\n",
      "Index: []\n"
     ]
    },
    {
     "name": "stderr",
     "output_type": "stream",
     "text": [
      "An exception has occurred, use '%tb verbose' to see the full traceback.\n"
     ]
    },
    {
     "ename": "ValueError",
     "evalue": "arrays must all be same length",
     "output_type": "error",
     "traceback": [
      "\u001b[0;31mValueError\u001b[0m\u001b[0;31m:\u001b[0m arrays must all be same length\n"
     ]
    },
    {
     "name": "stderr",
     "output_type": "stream",
     "text": [
      "See /epics/iocs/notebook/.cache/bluesky/log/bluesky.log for the full traceback.\n"
     ]
    }
   ],
   "source": [
    "print(read_lut('hfm_x'))\n",
    "write_lut('hfm_x', [5000, 13500],\n",
    "                   [ 1.3,   1.3])\n",
    "print(read_lut('hfm_x'))"
   ]
  },
  {
   "cell_type": "code",
   "execution_count": 92,
   "metadata": {},
   "outputs": [
    {
     "name": "stdout",
     "output_type": "stream",
     "text": [
      "    Energy  Position\n",
      "0   5000.0    -2.541\n",
      "1   9999.0    -2.541\n",
      "2  10000.0    -2.514\n",
      "3  13500.0    -2.514\n",
      "    Energy  Position\n",
      "0   5000.0    -2.541\n",
      "1   9999.0    -2.541\n",
      "2  10000.0    -2.514\n",
      "3  13500.0    -2.514\n"
     ]
    }
   ],
   "source": [
    "print(read_lut('hfm_pitch'))\n",
    "write_lut('hfm_pitch', [  5000,   9999,  10000,  13500],\n",
    "                       [-2.541, -2.541, -2.514, -2.514])\n",
    "print(read_lut('hfm_pitch'))"
   ]
  },
  {
   "cell_type": "code",
   "execution_count": 30,
   "metadata": {},
   "outputs": [],
   "source": [
    "# Obsolete: Changed to energy dependent LUT waveform\n",
    "#print(read_lgp('kbm_vx'))\n",
    "#write_lgp('kbm_vx', 4500)\n",
    "#print(read_lgp('kbm_vx'))"
   ]
  },
  {
   "cell_type": "code",
   "execution_count": 69,
   "metadata": {},
   "outputs": [
    {
     "name": "stdout",
     "output_type": "stream",
     "text": [
      "    Energy  Position\n",
      "0   5000.0    4500.0\n",
      "1  30000.0    4500.0\n",
      "    Energy  Position\n",
      "0   5000.0    4500.0\n",
      "1  30000.0    4500.0\n"
     ]
    }
   ],
   "source": [
    "print(read_lut('kbm_vx'))\n",
    "write_lut('kbm_vx', [  5000,  30000],\n",
    "                       [4500.0, 4500.0])\n",
    "print(read_lut('kbm_vx'))"
   ]
  },
  {
   "cell_type": "code",
   "execution_count": 67,
   "metadata": {},
   "outputs": [
    {
     "name": "stdout",
     "output_type": "stream",
     "text": [
      "-500.0\n",
      "-500.0\n"
     ]
    }
   ],
   "source": [
    "print(read_lgp('kbm_vy'))\n",
    "write_lgp('kbm_vy', -500)\n",
    "print(read_lgp('kbm_vy'))"
   ]
  },
  {
   "cell_type": "code",
   "execution_count": 93,
   "metadata": {},
   "outputs": [
    {
     "name": "stdout",
     "output_type": "stream",
     "text": [
      "-2544.0\n",
      "-2557.0\n"
     ]
    }
   ],
   "source": [
    "print(read_lgp('kbm_vp'))\n",
    "write_lgp('kbm_vp', -2557)\n",
    "print(read_lgp('kbm_vp'))"
   ]
  },
  {
   "cell_type": "code",
   "execution_count": 63,
   "metadata": {},
   "outputs": [
    {
     "name": "stdout",
     "output_type": "stream",
     "text": [
      "500.0\n",
      "500.0\n"
     ]
    }
   ],
   "source": [
    "print(read_lgp('kbm_hx'))\n",
    "write_lgp('kbm_hx', 500)\n",
    "print(read_lgp('kbm_hx'))"
   ]
  },
  {
   "cell_type": "code",
   "execution_count": 40,
   "metadata": {},
   "outputs": [],
   "source": [
    "# Obsolete: Changed to energy dependent LUT waveform\n",
    "#print(read_lgp('kbm_hy'))\n",
    "#write_lgp('kbm_hy', 7000)\n",
    "#print(read_lgp('kbm_hy'))"
   ]
  },
  {
   "cell_type": "code",
   "execution_count": 61,
   "metadata": {},
   "outputs": [
    {
     "name": "stdout",
     "output_type": "stream",
     "text": [
      "    Energy  Position\n",
      "0   5000.0       0.0\n",
      "1   9999.0       0.0\n",
      "2  10000.0    7000.0\n",
      "3  30000.0    7000.0\n",
      "    Energy  Position\n",
      "0   5000.0       0.0\n",
      "1   9999.0       0.0\n",
      "2  10000.0    7000.0\n",
      "3  30000.0    7000.0\n"
     ]
    }
   ],
   "source": [
    "print(read_lut('kbm_hy'))\n",
    "write_lut('kbm_hy', [  5000,   9999,  10000,  30000],\n",
    "                       [0.0, 0.0, 7000.0, 7000.0])\n",
    "print(read_lut('kbm_hy'))"
   ]
  },
  {
   "cell_type": "code",
   "execution_count": 94,
   "metadata": {},
   "outputs": [
    {
     "name": "stdout",
     "output_type": "stream",
     "text": [
      "-2382.0\n",
      "-2374.0\n"
     ]
    }
   ],
   "source": [
    "print(read_lgp('kbm_hp'))\n",
    "write_lgp('kbm_hp', -2374)\n",
    "print(read_lgp('kbm_hp'))"
   ]
  },
  {
   "cell_type": "code",
   "execution_count": 56,
   "metadata": {},
   "outputs": [
    {
     "name": "stdout",
     "output_type": "stream",
     "text": [
      "    Energy  Position\n",
      "0   5000.0      0.06\n",
      "1   6550.0      0.03\n",
      "2   9000.0      0.01\n",
      "3  12700.0      0.03\n",
      "4  13500.0      0.05\n",
      "5  15000.0      0.06\n",
      "6  20000.0      0.10\n",
      "7  25000.0      0.15\n",
      "8  30000.0      0.20\n",
      "    Energy  Position\n",
      "0   5000.0      0.06\n",
      "1   6550.0      0.03\n",
      "2   9000.0      0.01\n",
      "3  12700.0      0.03\n",
      "4  13500.0      0.05\n",
      "5  15000.0      0.06\n",
      "6  20000.0      0.10\n",
      "7  25000.0      0.15\n",
      "8  30000.0      0.20\n"
     ]
    }
   ],
   "source": [
    "# Attenuation for auto beam alignment, to avoid saturated scintillator image\n",
    "# Set to value that will work with cam_8 centroid\n",
    "print(read_lut('atten'))\n",
    "write_lut('atten', [5000, 6550, 9000, 12700, 13500, 15000, 20000, 25000, 30000],\n",
    "                   [0.06, 0.03, 0.01, 0.03,  0.05,  0.06,  0.1,   0.15,  0.2])\n",
    "print(read_lut('atten'))"
   ]
  },
  {
   "cell_type": "code",
   "execution_count": 58,
   "metadata": {},
   "outputs": [
    {
     "name": "stdout",
     "output_type": "stream",
     "text": [
      "1.079\n",
      "1.079\n"
     ]
    }
   ],
   "source": [
    "# Calibration of LoMag camera in an EPICS PV [um/px]\n",
    "# There is also the Beamline PVs CSS screen for this PV\n",
    "print( BL_calibration.LoMagCal.get())\n",
    "BL_calibration.LoMagCal.put(1.079)\n",
    "print( BL_calibration.LoMagCal.get())"
   ]
  },
  {
   "cell_type": "code",
   "execution_count": 60,
   "metadata": {},
   "outputs": [
    {
     "name": "stdout",
     "output_type": "stream",
     "text": [
      "0.272109\n",
      "0.272109\n"
     ]
    }
   ],
   "source": [
    "# Calibration of HiMag camera in an EPICS PV [um/px]\n",
    "# There is also the Beamline PVs CSS screen for this PV\n",
    "print( BL_calibration.HiMagCal.get())\n",
    "BL_calibration.HiMagCal.put(0.272109)\n",
    "print( BL_calibration.HiMagCal.get())"
   ]
  },
  {
   "cell_type": "code",
   "execution_count": null,
   "metadata": {},
   "outputs": [],
   "source": []
  }
 ],
 "metadata": {
  "kernelspec": {
   "display_name": "Data Collection (2020-2.0rc8)",
   "language": "",
   "name": "collection-2020-2.0rc8"
  },
  "language_info": {
   "codemirror_mode": {
    "name": "ipython",
    "version": 3
   },
   "file_extension": ".py",
   "mimetype": "text/x-python",
   "name": "python",
   "nbconvert_exporter": "python",
   "pygments_lexer": "ipython3",
   "version": "3.7.7"
  }
 },
 "nbformat": 4,
 "nbformat_minor": 4
}
